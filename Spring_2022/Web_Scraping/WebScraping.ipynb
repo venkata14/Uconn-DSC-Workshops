{
  "nbformat": 4,
  "nbformat_minor": 0,
  "metadata": {
    "colab": {
      "name": "WebScraping.ipynb",
      "provenance": [],
      "collapsed_sections": [
        "AexNTBctAnn4"
      ]
    },
    "kernelspec": {
      "name": "python3",
      "display_name": "Python 3"
    },
    "language_info": {
      "name": "python"
    },
    "accelerator": "GPU"
  },
  "cells": [
    {
      "cell_type": "markdown",
      "source": [
        "#Web Scraping in Python\n",
        "\n",
        "What is Web Scraping?\n",
        "<ul>\n",
        "  <li>In simple terms, web scraping is the process of extracting content and data from a website.</li>\n",
        "  <li>A form of Data Engineering</li>\n",
        "  <li>Useful for creating your own datasets to answer your own questions</li>\n",
        "</ul>\n",
        "\n",
        "How does web scraping play a role in Data Science?\n",
        "\n",
        "<img src=\"http://www.uvm.edu/~cbcafier/assets/pipeline.jpg\">\n",
        "\n",
        "<b>Data Wrangling</b> - The process of restructuring, cleaning, and enriching raw data into a desired format for easy access and analysis.\n",
        "\n",
        "<b>Data cleansing</b> - The process of prepping data for analysis by amending or removing incorrect, corrupted, improperly formatted, duplicated, irrelevant, or incomplete data within a dataset. \n",
        "\n",
        "<b>Explore</b> - Analyze your data to see any trends and/or correlations\n",
        "\n",
        "<b>Pre-Process</b> - Prepare the data for modeling though processes such as standarization of values, or one-hot-encoding, etc.\n",
        "\n",
        "<b>Model</b> - Create your model.\n",
        "\n",
        "<b>Validate</b> - Use different metrics (like ROC, F1, loss, etc.) to see if your model has minial errors.\n",
        "\n",
        "<b>Tell the Story</b> - Use your model to make decisions\n",
        "\n",
        "Notice how before anything we need to (1) have a question and then (2) gather our data [via Web Scraping]. \n",
        "\n",
        "<br>\n",
        "\n",
        "<center>\n",
        "<p style=\"color:red;\"><b>Question - Do large companies in America(specified through market capitalization) have favorable workplace environments for their employees?</b></p> \n",
        "</center>\n",
        "\n",
        "<br>\n",
        "\n",
        "Now that we have our question we need to gather/create a dataset? But before we can talk about that we need to learn some HTML & CSS:\n",
        "<ul>\n",
        "<li>HTML (Hyper Text Markup Language) is a formatting system for displaying material retrieved over the Internet. More specifically, you can structure a webpage using HTML tags which contain HTML atributes. </li>\n",
        "\n",
        "<li>CSS (Cascading Style Sheets) is used to style and layout web pages.</li>\n",
        "</ul>\n",
        "<i>**Lets Do a Very Quick Demo on HTML and CSS Selectors**</i>\n",
        "\n",
        "<br>\n",
        "<br>\n",
        "\n",
        "[SelectorGadget](https://chrome.google.com/webstore/detail/selectorgadget/mhjhnkcfbdhnjickkkdbjoemdmbfginb?hl=en)\n",
        "\n",
        "Now, lets go into web scraping!!\n",
        "\n"
      ],
      "metadata": {
        "id": "dgDNZL24yjYS"
      }
    },
    {
      "cell_type": "markdown",
      "source": [
        "# Install Packages"
      ],
      "metadata": {
        "id": "6d4Fnn33RclB"
      }
    },
    {
      "cell_type": "code",
      "source": [
        "pip install requests"
      ],
      "metadata": {
        "colab": {
          "base_uri": "https://localhost:8080/"
        },
        "id": "supwFRxaRJA0",
        "outputId": "ff9a7538-652f-4cbe-995a-30992795b739"
      },
      "execution_count": 3,
      "outputs": [
        {
          "output_type": "stream",
          "name": "stdout",
          "text": [
            "Requirement already satisfied: requests in /usr/local/lib/python3.7/dist-packages (2.23.0)\n",
            "Requirement already satisfied: idna<3,>=2.5 in /usr/local/lib/python3.7/dist-packages (from requests) (2.10)\n",
            "Requirement already satisfied: chardet<4,>=3.0.2 in /usr/local/lib/python3.7/dist-packages (from requests) (3.0.4)\n",
            "Requirement already satisfied: urllib3!=1.25.0,!=1.25.1,<1.26,>=1.21.1 in /usr/local/lib/python3.7/dist-packages (from requests) (1.24.3)\n",
            "Requirement already satisfied: certifi>=2017.4.17 in /usr/local/lib/python3.7/dist-packages (from requests) (2021.10.8)\n"
          ]
        }
      ]
    },
    {
      "cell_type": "code",
      "source": [
        "pip install beautifulsoup4"
      ],
      "metadata": {
        "colab": {
          "base_uri": "https://localhost:8080/"
        },
        "id": "MfE6cJsmRW8P",
        "outputId": "e5f14431-05fd-4a76-b54a-b44bd3d62705"
      },
      "execution_count": 4,
      "outputs": [
        {
          "output_type": "stream",
          "name": "stdout",
          "text": [
            "Requirement already satisfied: beautifulsoup4 in /usr/local/lib/python3.7/dist-packages (4.6.3)\n"
          ]
        }
      ]
    },
    {
      "cell_type": "markdown",
      "source": [
        "#Import Libraries\n"
      ],
      "metadata": {
        "id": "b8uf8481Ach2"
      }
    },
    {
      "cell_type": "code",
      "execution_count": 7,
      "metadata": {
        "id": "bAVE3h_oyhPm"
      },
      "outputs": [],
      "source": [
        "import requests\n",
        "from bs4 import BeautifulSoup as bs\n",
        "import pandas as pd"
      ]
    },
    {
      "cell_type": "markdown",
      "source": [
        "#Example of Useful Methods"
      ],
      "metadata": {
        "id": "BNN9P4fFy_ca"
      }
    },
    {
      "cell_type": "markdown",
      "source": [
        "Here is a sample html webpage. There are several tags with different attributes. Before we make our own dataset lets see some use Beautiful Soup function!"
      ],
      "metadata": {
        "id": "Pdy9DEtkaOh4"
      }
    },
    {
      "cell_type": "code",
      "source": [
        "html_ex = '''\n",
        "<html>\n",
        "    <head>\n",
        "        <meta lang=\"eng\" charset=\"UTF-8\">\n",
        "        <link rel=\"stylesheet\" href=\"style.css\">\n",
        "        <title>UCONN Data Science Club Webpage</title>\n",
        "    </head>\n",
        "    <body>\n",
        "        <h1 id=\"title\">Welcome to UCONN Data Science Club!!!</h1>\n",
        "        <p class=\"mission\">Mission: To help educate and promote knledge of data science techniques</p>\n",
        "        <div class=\"info\">\n",
        "            <p class=\"p1\">Data science is an interdisciplinary field that uses scientific methods, processes, \n",
        "            algorithms and systems to extract knowledge and insights within various forms, \n",
        "            both structured and unstructured. Data science interacts with a  wide variety of \n",
        "            fields: business, finance, biology, artificial intelligence research, and more. \n",
        "            Wherever there is data, the techniques and practices of data science will be useful.</p>\n",
        "\n",
        "            <p class=\"nested\"> UConn Data Science Club focuses on educating and preparing students to be involved \n",
        "            in the field of data science. To develop students technical experience, we participate \n",
        "            in Kaggle and host workshops focusing on making a wide variety of areas accessible to \n",
        "            undergraduate students. These workshops range from introductory coding to machine \n",
        "            learning and neural networks which include practical business applications like \n",
        "            algorithmic trading and optimization. Our events give members the opportunity to develop \n",
        "            professional skills and to network with industry leaders and other students. Each year we \n",
        "            host the UConn Sports Analytics Symposium which brings in industry experts and students \n",
        "            from across the country.</p>          \n",
        "\n",
        "            <p class=\"p3\">Currently, we have weekly meetings where we host a workshop followed by hands on sessions. \n",
        "            We them release title questions after every meeting where if completed, we issue a \n",
        "            certificate at the end of the semester. Our meets cover: NumPy, Matplotlib, Pandas, Scikit-learn, \n",
        "            Scipy and TensorFlow.</p>\n",
        " \n",
        "            Join us to learn more!\n",
        "            </div>\n",
        "\n",
        "            <div>\n",
        "                <p>Current Leadership</p>\n",
        "                <a href=\"https://www.linkedin.com/in/venkata-patchigolla-0a0a66214\">Venkata</a>\n",
        "                <a href=\"https://www.linkedin.com/in/alex-h-chen\">Alex</a>\n",
        "                <a href=\"https://www.linkedin.com/in/pranav-tavildar-b50172208\">Pranav</a>\n",
        "                <a href=\"https://www.linkedin.com/in/hari-patchigolla-418815216\">Hari</a>\n",
        "            </div>\n",
        "\n",
        "            <ul class=\"outreach\">\n",
        "                <li class=\"l1\"><a href=\"https://discord.gg/KZPfv2CEE5\">Discord</a></li>\n",
        "                <li class=\"l2\">Email: uconndatascience@gmail.com</li>\n",
        "                <li class=\"l3\"><a href=\"https://www.instagram.com/uconndatascience/?hl=en\">Instagram</a></li>\n",
        "            </ul>\n",
        "\n",
        "            <address>\n",
        "                Written by <a href=\"mailto:webmaster@example.com\">Jon Doe</a>.<br>\n",
        "                Visit us at:<br>\n",
        "                Example.com<br>\n",
        "                Box 564, Disneyland<br>\n",
        "                USA\n",
        "            </address>\n",
        "    </body>\n",
        "</html>\n",
        "'''"
      ],
      "metadata": {
        "id": "xbNr2xw8C7eG"
      },
      "execution_count": null,
      "outputs": []
    },
    {
      "cell_type": "markdown",
      "source": [
        "Next, to scrape information off of our HTML page, we intantiate a BeautifulSoup object. This object represents the parsed document as a whole. So, it is the complete document which we are trying to scrape. \n",
        "<br>\n",
        "<br>\n",
        "Using the BeautifulSoup object, we can use its attributes and method to obtain specific parts of the HTML page."
      ],
      "metadata": {
        "id": "t9yQ4kUky0QD"
      }
    },
    {
      "cell_type": "code",
      "source": [
        "soup = bs(html_ex, 'html.parser') # \"html.parser\" tells that html_ex is a HTML webpage"
      ],
      "metadata": {
        "id": "II_9YErxydV9"
      },
      "execution_count": null,
      "outputs": []
    },
    {
      "cell_type": "markdown",
      "source": [
        "The .prettify() mehtod prints out the html page with proper indents"
      ],
      "metadata": {
        "id": "oMPQbOrgamUo"
      }
    },
    {
      "cell_type": "code",
      "source": [
        "print(soup.prettify())"
      ],
      "metadata": {
        "id": "yLI0UyB00QSR"
      },
      "execution_count": null,
      "outputs": []
    },
    {
      "cell_type": "code",
      "source": [
        "print(type(soup.h1))\n",
        "soup.h1"
      ],
      "metadata": {
        "id": "DZC45Jjk0Ry6"
      },
      "execution_count": null,
      "outputs": []
    },
    {
      "cell_type": "markdown",
      "source": [
        "A ```Tag``` object corresponds to an HTML tag in the original document. They have **MANY** attibutes and methods but here are a few (click [here](https://www.crummy.com/software/BeautifulSoup/bs4/doc/#kinds-of-objects) for more information).\n",
        "\n",
        "Specific tags are attributes in the Beautiful Soup Object:"
      ],
      "metadata": {
        "id": "vcHyUHK61FGw"
      }
    },
    {
      "cell_type": "code",
      "source": [
        "soup.h1"
      ],
      "metadata": {
        "id": "14RdrlOj0nZ5"
      },
      "execution_count": null,
      "outputs": []
    },
    {
      "cell_type": "markdown",
      "source": [
        "In order to obtain the HTML Attributes of a Tag object, you can treat these attributes has a dictionary with the key being the attribute name and the value being the attribute value."
      ],
      "metadata": {
        "id": "gfgHSk41BEi6"
      }
    },
    {
      "cell_type": "code",
      "source": [
        "soup.h1[\"id\"]"
      ],
      "metadata": {
        "id": "B1JS6vRh1tpr"
      },
      "execution_count": null,
      "outputs": []
    },
    {
      "cell_type": "markdown",
      "source": [
        "Like a normal Python dictionary you can add and delete key,value pairs in the HTML Attributes:"
      ],
      "metadata": {
        "id": "e00Hx8rOBT_C"
      }
    },
    {
      "cell_type": "code",
      "source": [
        "soup.h1[\"class\"]"
      ],
      "metadata": {
        "id": "sSC7k_8Y1wE-"
      },
      "execution_count": null,
      "outputs": []
    },
    {
      "cell_type": "code",
      "source": [
        "soup.h1[\"class\"] = \"insertedclass\"\n",
        "print(soup.h1[\"class\"])\n",
        "soup.h1"
      ],
      "metadata": {
        "id": "MmnkzkH91zHs"
      },
      "execution_count": null,
      "outputs": []
    },
    {
      "cell_type": "markdown",
      "source": [
        "Using .{tag name} to get an attribute will only get the FIRST tag of the spcified type, not all of them. \n",
        "\n",
        "For example, soup.p will only get the first paragarph, not all of the paragraph tags"
      ],
      "metadata": {
        "id": "mCQ12srCBuGz"
      }
    },
    {
      "cell_type": "code",
      "source": [
        "soup.p"
      ],
      "metadata": {
        "id": "QdWeRyrx2WVf"
      },
      "execution_count": null,
      "outputs": []
    },
    {
      "cell_type": "markdown",
      "source": [
        "We can check if we chose the tag we wanted to using the .has_attr() method"
      ],
      "metadata": {
        "id": "GXI6oA6cbHU0"
      }
    },
    {
      "cell_type": "code",
      "source": [
        "soup.p.has_attr(\"class\")"
      ],
      "metadata": {
        "id": "aHUoo1TS5CoG"
      },
      "execution_count": null,
      "outputs": []
    },
    {
      "cell_type": "markdown",
      "source": [
        "The .string method gives us the string within an Beautiful Soup tag."
      ],
      "metadata": {
        "id": "jj7TjS75bMzV"
      }
    },
    {
      "cell_type": "code",
      "source": [
        "print(type(soup.h1.string))\n",
        "soup.h1.string"
      ],
      "metadata": {
        "id": "vyme-I622QrY"
      },
      "execution_count": null,
      "outputs": []
    },
    {
      "cell_type": "code",
      "source": [
        "soup.h1.string.replace_with(\"Welcome to UCONN DSC!!!\")\n",
        "soup.h1"
      ],
      "metadata": {
        "id": "ISlJbZyg2ojm"
      },
      "execution_count": null,
      "outputs": []
    },
    {
      "cell_type": "markdown",
      "source": [
        "A Tag object has various methods as well:"
      ],
      "metadata": {
        "id": "6nQ8EufYNOa7"
      }
    },
    {
      "cell_type": "code",
      "source": [
        "list(soup.div.children)"
      ],
      "metadata": {
        "id": "2oYVJ-pR3CYo"
      },
      "execution_count": null,
      "outputs": []
    },
    {
      "cell_type": "code",
      "source": [
        "list(soup.div.descendants)"
      ],
      "metadata": {
        "id": "7DkkL22w4GHN"
      },
      "execution_count": null,
      "outputs": []
    },
    {
      "cell_type": "markdown",
      "source": [
        "We can use find_all(name, attrs, recursive, string, limit, **kwargs) to get all the speficied Tags and you cna filter them out:"
      ],
      "metadata": {
        "id": "wKivAzpQNV5a"
      }
    },
    {
      "cell_type": "code",
      "source": [
        "soup.find_all('p')"
      ],
      "metadata": {
        "id": "c9enNH054YWa"
      },
      "execution_count": null,
      "outputs": []
    },
    {
      "cell_type": "code",
      "source": [
        "soup.find_all([\"a\", \"p\"])"
      ],
      "metadata": {
        "id": "mYFVvoBb42vU"
      },
      "execution_count": null,
      "outputs": []
    },
    {
      "cell_type": "code",
      "source": [
        "soup.find_all(id=\"title\")"
      ],
      "metadata": {
        "id": "JdqI8Mop5O2d"
      },
      "execution_count": null,
      "outputs": []
    },
    {
      "cell_type": "code",
      "source": [
        "soup.find_all(\"p\", class_=\"p1\")"
      ],
      "metadata": {
        "id": "tumzzD2M5VG6"
      },
      "execution_count": null,
      "outputs": []
    },
    {
      "cell_type": "markdown",
      "source": [
        ".select() takes a CSS selector as an input to select a Tag"
      ],
      "metadata": {
        "id": "cBfjoHF7N3dH"
      }
    },
    {
      "cell_type": "code",
      "source": [
        "soup.select(\"body > div > a:nth-of-type(1)\")"
      ],
      "metadata": {
        "id": "C93sHf_O5qbz"
      },
      "execution_count": null,
      "outputs": []
    },
    {
      "cell_type": "markdown",
      "source": [
        "Documentation Link: [here](https://www.crummy.com/software/BeautifulSoup/bs4/doc/)"
      ],
      "metadata": {
        "id": "jqGj2uPL68UV"
      }
    },
    {
      "cell_type": "markdown",
      "source": [
        "#Identify Sources of Data\n",
        "\n",
        "<center>\n",
        "Question: Do large companies (specified through market capitalization) have favorable workplace environments for their employees?\n",
        "</center>\n",
        "\n",
        "In order to answer this question we need to webpages that contain data relavent to this question.\n",
        "\n",
        "We will use this [link](https://companiesmarketcap.com/usa/largest-companies-in-the-usa-by-market-cap/?page=1) for getting the largest companies based on market capitalization and we will use Indeed Reviews to get insights on works environments.\n",
        "\n",
        "Let's take a look at these webpages and see if we notice patterns in them!\n",
        "\n",
        "\n",
        "\n"
      ],
      "metadata": {
        "id": "AexNTBctAnn4"
      }
    },
    {
      "cell_type": "markdown",
      "source": [
        "Firt lets make lists of all the data that we want:"
      ],
      "metadata": {
        "id": "bh4VE5yGfkAs"
      }
    },
    {
      "cell_type": "code",
      "source": [
        "total_lst = [] \n",
        "\n",
        "company_names_lst = []\n",
        "company_code_lst = []\n",
        "market_cap_lst = []\n",
        "industries_for_company_lst = []"
      ],
      "metadata": {
        "id": "1POYB0Gdrz9G"
      },
      "execution_count": 8,
      "outputs": []
    },
    {
      "cell_type": "markdown",
      "source": [
        "A status code of 200 mean that the request was sucessful. The get() method sends a GET request to the specified url. The GET method is used to retreive data from a server at the specified resource."
      ],
      "metadata": {
        "id": "GLqmoOgqfwxR"
      }
    },
    {
      "cell_type": "code",
      "source": [
        "html_text = requests.get(\"https://companiesmarketcap.com/usa/largest-companies-in-the-usa-by-market-cap/?page=1\")\n",
        "html_text.status_code"
      ],
      "metadata": {
        "id": "Wyeb7I8eAheP",
        "colab": {
          "base_uri": "https://localhost:8080/"
        },
        "outputId": "289f3a9f-95d7-4084-c41b-59f7d5afa7a3"
      },
      "execution_count": 9,
      "outputs": [
        {
          "output_type": "execute_result",
          "data": {
            "text/plain": [
              "200"
            ]
          },
          "metadata": {},
          "execution_count": 9
        }
      ]
    },
    {
      "cell_type": "markdown",
      "source": [
        ".content reutrns the content of the html page as a binary string. A binary string is a sequence of bytes. Unlike a character string which usually contains text data"
      ],
      "metadata": {
        "id": "9cbPmMBRgEgi"
      }
    },
    {
      "cell_type": "code",
      "source": [
        "# html_text.content"
      ],
      "metadata": {
        "id": "jOWXKw10qV4K"
      },
      "execution_count": 43,
      "outputs": []
    },
    {
      "cell_type": "markdown",
      "source": [
        "Now lets make a Beautiful Soup object (```soup```) which will contain all the information sotred in the html page we requested. "
      ],
      "metadata": {
        "id": "JahSrOmWgeU9"
      }
    },
    {
      "cell_type": "code",
      "source": [
        "soup = bs(html_text.content, 'html.parser')"
      ],
      "metadata": {
        "id": "xrSRkqXnpJTD"
      },
      "execution_count": 11,
      "outputs": []
    },
    {
      "cell_type": "code",
      "source": [
        "# print(soup.prettify())"
      ],
      "metadata": {
        "id": "lEWm5xg1CsoB"
      },
      "execution_count": null,
      "outputs": []
    },
    {
      "cell_type": "markdown",
      "source": [
        "First lets get all the Market Capitalization Values:"
      ],
      "metadata": {
        "id": "BBRn-1xMgqga"
      }
    },
    {
      "cell_type": "markdown",
      "source": [
        "The data is stored in a <td> tag with a class label of \"td-right\", but there is a lot more of other data. How can we filter this out??"
      ],
      "metadata": {
        "id": "mKXUvzfMgzhZ"
      }
    },
    {
      "cell_type": "code",
      "source": [
        "temp_mcap = soup.find_all(\"td\", {\"class\": \"td-right\"})\n",
        "temp_mcap[0:20]"
      ],
      "metadata": {
        "colab": {
          "base_uri": "https://localhost:8080/"
        },
        "id": "ypWdXLPc2c2X",
        "outputId": "d0cb8642-cf66-4707-879d-c7c8f475d196"
      },
      "execution_count": 42,
      "outputs": [
        {
          "output_type": "execute_result",
          "data": {
            "text/plain": [
              "[<td class=\"td-right\" data-sort=\"1\">1</td>,\n",
              " <td class=\"td-right\" data-sort=\"2729093103616\">$2.729 T</td>,\n",
              " <td class=\"td-right\" data-sort=\"16723\">$167.23</td>,\n",
              " <td class=\"td-right\" data-sort=\"2\">2</td>,\n",
              " <td class=\"td-right\" data-sort=\"2146803515392\">$2.146 T</td>,\n",
              " <td class=\"td-right\" data-sort=\"28636\">$286.36</td>,\n",
              " <td class=\"td-right\" data-sort=\"3\">3</td>,\n",
              " <td class=\"td-right\" data-sort=\"1691799126016\">$1.691 T</td>,\n",
              " <td class=\"td-right\" data-sort=\"256491\">$2,565</td>,\n",
              " <td class=\"td-right\" data-sort=\"4\">4</td>,\n",
              " <td class=\"td-right\" data-sort=\"1566282874880\">$1.566 T</td>,\n",
              " <td class=\"td-right\" data-sort=\"307996\">$3,080</td>,\n",
              " <td class=\"td-right\" data-sort=\"5\">5</td>,\n",
              " <td class=\"td-right\" data-sort=\"1009946001408\">$1.009 T</td>,\n",
              " <td class=\"td-right\" data-sort=\"97720\">$977.20</td>,\n",
              " <td class=\"td-right\" data-sort=\"6\">6</td>,\n",
              " <td class=\"td-right\" data-sort=\"769856045056\">$769.85 B</td>,\n",
              " <td class=\"td-right\" data-sort=\"52290056\">$522,901</td>,\n",
              " <td class=\"td-right\" data-sort=\"7\">7</td>,\n",
              " <td class=\"td-right\" data-sort=\"573000780000\">$573.00 B</td>]"
            ]
          },
          "metadata": {},
          "execution_count": 42
        }
      ]
    },
    {
      "cell_type": "markdown",
      "source": [
        "If we make the step size 3, then we only get Market Capitalization values and none of the other data values"
      ],
      "metadata": {
        "id": "UVouBI4JhEgp"
      }
    },
    {
      "cell_type": "code",
      "source": [
        "print(temp_mcap[1::3])\n",
        "len(temp_mcap[1::3])"
      ],
      "metadata": {
        "colab": {
          "base_uri": "https://localhost:8080/"
        },
        "id": "_X2Pex9Z35Zp",
        "outputId": "8cd937a4-6e81-4c3c-8ce0-344bd08dc6c8"
      },
      "execution_count": 14,
      "outputs": [
        {
          "output_type": "stream",
          "name": "stdout",
          "text": [
            "[<td class=\"td-right\" data-sort=\"2729093103616\">$2.729 T</td>, <td class=\"td-right\" data-sort=\"2146803515392\">$2.146 T</td>, <td class=\"td-right\" data-sort=\"1691799126016\">$1.691 T</td>, <td class=\"td-right\" data-sort=\"1566282874880\">$1.566 T</td>, <td class=\"td-right\" data-sort=\"1009946001408\">$1.009 T</td>, <td class=\"td-right\" data-sort=\"769856045056\">$769.85 B</td>, <td class=\"td-right\" data-sort=\"573000780000\">$573.00 B</td>, <td class=\"td-right\" data-sort=\"535331471360\">$535.33 B</td>, <td class=\"td-right\" data-sort=\"513740275712\">$513.74 B</td>, <td class=\"td-right\" data-sort=\"483560816640\">$483.56 B</td>, <td class=\"td-right\" data-sort=\"471632969728\">$471.63 B</td>, <td class=\"td-right\" data-sort=\"439266672640\">$439.26 B</td>, <td class=\"td-right\" data-sort=\"392280506368\">$392.28 B</td>, <td class=\"td-right\" data-sort=\"386463629312\">$386.46 B</td>, <td class=\"td-right\" data-sort=\"371689914368\">$371.68 B</td>, <td class=\"td-right\" data-sort=\"359892123648\">$359.89 B</td>, <td class=\"td-right\" data-sort=\"338997313536\">$338.99 B</td>, <td class=\"td-right\" data-sort=\"331965333504\">$331.96 B</td>, <td class=\"td-right\" data-sort=\"319742869504\">$319.74 B</td>, <td class=\"td-right\" data-sort=\"285935927296\">$285.93 B</td>, <td class=\"td-right\" data-sort=\"280976556032\">$280.97 B</td>, <td class=\"td-right\" data-sort=\"278961487872\">$278.96 B</td>, <td class=\"td-right\" data-sort=\"276776058880\">$276.77 B</td>, <td class=\"td-right\" data-sort=\"267498995712\">$267.49 B</td>, <td class=\"td-right\" data-sort=\"244037697536\">$244.03 B</td>, <td class=\"td-right\" data-sort=\"242718883840\">$242.71 B</td>, <td class=\"td-right\" data-sort=\"231399178240\">$231.39 B</td>, <td class=\"td-right\" data-sort=\"228522000384\">$228.52 B</td>, <td class=\"td-right\" data-sort=\"226795880448\">$226.79 B</td>, <td class=\"td-right\" data-sort=\"220254093312\">$220.25 B</td>, <td class=\"td-right\" data-sort=\"218601127936\">$218.60 B</td>, <td class=\"td-right\" data-sort=\"216273190912\">$216.27 B</td>, <td class=\"td-right\" data-sort=\"214875111424\">$214.87 B</td>, <td class=\"td-right\" data-sort=\"214226567168\">$214.22 B</td>, <td class=\"td-right\" data-sort=\"213828124672\">$213.82 B</td>, <td class=\"td-right\" data-sort=\"202281975808\">$202.28 B</td>, <td class=\"td-right\" data-sort=\"200722644992\">$200.72 B</td>, <td class=\"td-right\" data-sort=\"196707352576\">$196.70 B</td>, <td class=\"td-right\" data-sort=\"189227941888\">$189.22 B</td>, <td class=\"td-right\" data-sort=\"184378163200\">$184.37 B</td>, <td class=\"td-right\" data-sort=\"184367693824\">$184.36 B</td>, <td class=\"td-right\" data-sort=\"165868716032\">$165.86 B</td>, <td class=\"td-right\" data-sort=\"165780783104\">$165.78 B</td>, <td class=\"td-right\" data-sort=\"165582766080\">$165.58 B</td>, <td class=\"td-right\" data-sort=\"164235460608\">$164.23 B</td>, <td class=\"td-right\" data-sort=\"160121520128\">$160.12 B</td>, <td class=\"td-right\" data-sort=\"159735742464\">$159.73 B</td>, <td class=\"td-right\" data-sort=\"159125651456\">$159.12 B</td>, <td class=\"td-right\" data-sort=\"158163189760\">$158.16 B</td>, <td class=\"td-right\" data-sort=\"156433645568\">$156.43 B</td>, <td class=\"td-right\" data-sort=\"155255586816\">$155.25 B</td>, <td class=\"td-right\" data-sort=\"153064560000\">$153.06 B</td>, <td class=\"td-right\" data-sort=\"144895672320\">$144.89 B</td>, <td class=\"td-right\" data-sort=\"142718697472\">$142.71 B</td>, <td class=\"td-right\" data-sort=\"140038586368\">$140.03 B</td>, <td class=\"td-right\" data-sort=\"139177672704\">$139.17 B</td>, <td class=\"td-right\" data-sort=\"138002399232\">$138.00 B</td>, <td class=\"td-right\" data-sort=\"137856483328\">$137.85 B</td>, <td class=\"td-right\" data-sort=\"136318017536\">$136.31 B</td>, <td class=\"td-right\" data-sort=\"136301248512\">$136.30 B</td>, <td class=\"td-right\" data-sort=\"134587531264\">$134.58 B</td>, <td class=\"td-right\" data-sort=\"134184255488\">$134.18 B</td>, <td class=\"td-right\" data-sort=\"133065457664\">$133.06 B</td>, <td class=\"td-right\" data-sort=\"127816491008\">$127.81 B</td>, <td class=\"td-right\" data-sort=\"127807225856\">$127.80 B</td>, <td class=\"td-right\" data-sort=\"125976551424\">$125.97 B</td>, <td class=\"td-right\" data-sort=\"123978989568\">$123.97 B</td>, <td class=\"td-right\" data-sort=\"122085261312\">$122.08 B</td>, <td class=\"td-right\" data-sort=\"120971788288\">$120.97 B</td>, <td class=\"td-right\" data-sort=\"115290054656\">$115.29 B</td>, <td class=\"td-right\" data-sort=\"115252699136\">$115.25 B</td>, <td class=\"td-right\" data-sort=\"110558494720\">$110.55 B</td>, <td class=\"td-right\" data-sort=\"108800163840\">$108.80 B</td>, <td class=\"td-right\" data-sort=\"108365176832\">$108.36 B</td>, <td class=\"td-right\" data-sort=\"106056474624\">$106.05 B</td>, <td class=\"td-right\" data-sort=\"105784754176\">$105.78 B</td>, <td class=\"td-right\" data-sort=\"104384946176\">$104.38 B</td>, <td class=\"td-right\" data-sort=\"104143437824\">$104.14 B</td>, <td class=\"td-right\" data-sort=\"103114891264\">$103.11 B</td>, <td class=\"td-right\" data-sort=\"102632587264\">$102.63 B</td>, <td class=\"td-right\" data-sort=\"101044002816\">$101.04 B</td>, <td class=\"td-right\" data-sort=\"100699955200\">$100.69 B</td>, <td class=\"td-right\" data-sort=\"100490330112\">$100.49 B</td>, <td class=\"td-right\" data-sort=\"100369752064\">$100.36 B</td>, <td class=\"td-right\" data-sort=\"99802685440\">$99.80 B</td>, <td class=\"td-right\" data-sort=\"97710866432\">$97.71 B</td>, <td class=\"td-right\" data-sort=\"92219547648\">$92.21 B</td>, <td class=\"td-right\" data-sort=\"92070928384\">$92.07 B</td>, <td class=\"td-right\" data-sort=\"90911825920\">$90.91 B</td>, <td class=\"td-right\" data-sort=\"89108840448\">$89.10 B</td>, <td class=\"td-right\" data-sort=\"88491515904\">$88.49 B</td>, <td class=\"td-right\" data-sort=\"87676952576\">$87.67 B</td>, <td class=\"td-right\" data-sort=\"86921580000\">$86.92 B</td>, <td class=\"td-right\" data-sort=\"85711601664\">$85.71 B</td>, <td class=\"td-right\" data-sort=\"85709627392\">$85.70 B</td>, <td class=\"td-right\" data-sort=\"85602017280\">$85.60 B</td>, <td class=\"td-right\" data-sort=\"84895711232\">$84.89 B</td>, <td class=\"td-right\" data-sort=\"84452581376\">$84.45 B</td>, <td class=\"td-right\" data-sort=\"83103268864\">$83.10 B</td>, <td class=\"td-right\" data-sort=\"81740234752\">$81.74 B</td>]\n"
          ]
        },
        {
          "output_type": "execute_result",
          "data": {
            "text/plain": [
              "100"
            ]
          },
          "metadata": {},
          "execution_count": 14
        }
      ]
    },
    {
      "cell_type": "code",
      "source": [
        "for element in temp_mcap[1::3]:\n",
        "  market_cap_lst.append(element.string)\n",
        "print(market_cap_lst[0:10])"
      ],
      "metadata": {
        "colab": {
          "base_uri": "https://localhost:8080/"
        },
        "id": "047-nv4x4GVT",
        "outputId": "d0e55522-c912-48e8-aaba-9daf8261e18d"
      },
      "execution_count": 41,
      "outputs": [
        {
          "output_type": "stream",
          "name": "stdout",
          "text": [
            "['$2.729 T', '$2.146 T', '$1.691 T', '$1.566 T', '$1.009 T', '$769.85 B', '$573.00 B', '$535.33 B', '$513.74 B', '$483.56 B']\n"
          ]
        }
      ]
    },
    {
      "cell_type": "markdown",
      "source": [
        "Lets make total_lst consists of everything, indluding copany name, company code, and the link to the comany page on the site to get the industries"
      ],
      "metadata": {
        "id": "YRG_N2NKhO92"
      }
    },
    {
      "cell_type": "code",
      "source": [
        "total_lst = soup.select(\".name-div\")\n",
        "print(total_lst[0:10])"
      ],
      "metadata": {
        "colab": {
          "base_uri": "https://localhost:8080/"
        },
        "id": "x5D3Ail3opmd",
        "outputId": "957c2fa2-2446-48d3-cbb1-44e5b175d982"
      },
      "execution_count": 40,
      "outputs": [
        {
          "output_type": "stream",
          "name": "stdout",
          "text": [
            "[<div class=\"name-div\">\n",
            "<a href=\"/apple/marketcap/\"> <div class=\"company-name\">Apple</div>\n",
            "<div class=\"company-code\"><span class=\"rank d-none\"></span>AAPL</div>\n",
            "</a> </div>, <div class=\"name-div\">\n",
            "<a href=\"/microsoft/marketcap/\"> <div class=\"company-name\">Microsoft</div>\n",
            "<div class=\"company-code\"><span class=\"rank d-none\"></span>MSFT</div>\n",
            "</a> </div>, <div class=\"name-div\">\n",
            "<a href=\"/alphabet-google/marketcap/\"> <div class=\"company-name\">Alphabet (Google)</div>\n",
            "<div class=\"company-code\"><span class=\"rank d-none\"></span>GOOG</div>\n",
            "</a> </div>, <div class=\"name-div\">\n",
            "<a href=\"/amazon/marketcap/\"> <div class=\"company-name\">Amazon</div>\n",
            "<div class=\"company-code\"><span class=\"rank d-none\"></span>AMZN</div>\n",
            "</a> </div>, <div class=\"name-div\">\n",
            "<a href=\"/tesla/marketcap/\"> <div class=\"company-name\">Tesla</div>\n",
            "<div class=\"company-code\"><span class=\"rank d-none\"></span>TSLA</div>\n",
            "</a> </div>, <div class=\"name-div\">\n",
            "<a href=\"/berkshire-hathaway/marketcap/\"> <div class=\"company-name\">Berkshire Hathaway </div>\n",
            "<div class=\"company-code\"><span class=\"rank d-none\"></span>BRK-A</div>\n",
            "</a> </div>, <div class=\"name-div\">\n",
            "<a href=\"/facebook/marketcap/\"> <div class=\"company-name\">Meta (Facebook)</div>\n",
            "<div class=\"company-code\"><span class=\"rank d-none\"></span>FB</div>\n",
            "</a> </div>, <div class=\"name-div\">\n",
            "<a href=\"/nvidia/marketcap/\"> <div class=\"company-name\">NVIDIA</div>\n",
            "<div class=\"company-code\"><span class=\"rank d-none\"></span>NVDA</div>\n",
            "</a> </div>, <div class=\"name-div\">\n",
            "<a href=\"/united-health/marketcap/\"> <div class=\"company-name\">UnitedHealth</div>\n",
            "<div class=\"company-code\"><span class=\"rank d-none\"></span>UNH</div>\n",
            "</a> </div>, <div class=\"name-div\">\n",
            "<a href=\"/johnson-and-johnson/marketcap/\"> <div class=\"company-name\">Johnson &amp; Johnson</div>\n",
            "<div class=\"company-code\"><span class=\"rank d-none\"></span>JNJ</div>\n",
            "</a> </div>]\n"
          ]
        }
      ]
    },
    {
      "cell_type": "markdown",
      "source": [
        "Notice how each element of the total_lst is a ```<div>``` block"
      ],
      "metadata": {
        "id": "660RV7Qdhahi"
      }
    },
    {
      "cell_type": "code",
      "source": [
        "first = total_lst[0]\n",
        "print(first)"
      ],
      "metadata": {
        "colab": {
          "base_uri": "https://localhost:8080/"
        },
        "id": "htJQIiQAq03v",
        "outputId": "333c6f11-9d73-497c-d1a0-7834ef15e6f5"
      },
      "execution_count": 17,
      "outputs": [
        {
          "output_type": "stream",
          "name": "stdout",
          "text": [
            "<div class=\"name-div\">\n",
            "<a href=\"/apple/marketcap/\"> <div class=\"company-name\">Apple</div>\n",
            "<div class=\"company-code\"><span class=\"rank d-none\"></span>AAPL</div>\n",
            "</a> </div>\n"
          ]
        }
      ]
    },
    {
      "cell_type": "code",
      "source": [
        "type(first)"
      ],
      "metadata": {
        "colab": {
          "base_uri": "https://localhost:8080/"
        },
        "id": "PibDW0ohsseE",
        "outputId": "143b84d6-c255-4b2e-8b3b-ba0d4f46dab5"
      },
      "execution_count": 18,
      "outputs": [
        {
          "output_type": "execute_result",
          "data": {
            "text/plain": [
              "bs4.element.Tag"
            ]
          },
          "metadata": {},
          "execution_count": 18
        }
      ]
    },
    {
      "cell_type": "code",
      "source": [
        "first.name"
      ],
      "metadata": {
        "colab": {
          "base_uri": "https://localhost:8080/",
          "height": 36
        },
        "id": "9dfyyZcVs4Ie",
        "outputId": "6c16377e-4b60-4e10-dcc2-2ee994eae650"
      },
      "execution_count": 19,
      "outputs": [
        {
          "output_type": "execute_result",
          "data": {
            "text/plain": [
              "'div'"
            ],
            "application/vnd.google.colaboratory.intrinsic+json": {
              "type": "string"
            }
          },
          "metadata": {},
          "execution_count": 19
        }
      ]
    },
    {
      "cell_type": "markdown",
      "source": [
        "We can use the .string and .select method to get the company name within the first element. "
      ],
      "metadata": {
        "id": "tHWf6UZJhnMy"
      }
    },
    {
      "cell_type": "code",
      "source": [
        "company_name = first.select(\".company-name\")[0].string\n",
        "print(company_name)"
      ],
      "metadata": {
        "colab": {
          "base_uri": "https://localhost:8080/"
        },
        "id": "vWtTYC86tNYW",
        "outputId": "3cacb69b-7419-4796-f5c9-73e24a550d44"
      },
      "execution_count": 20,
      "outputs": [
        {
          "output_type": "stream",
          "name": "stdout",
          "text": [
            "Apple\n"
          ]
        }
      ]
    },
    {
      "cell_type": "markdown",
      "source": [
        ".string on a Tag type object returns a NavigableString type object. On the other hand, .text gets all the child strings and return concatenated using the given separator. Return type of .text is unicode object."
      ],
      "metadata": {
        "id": "RZUzu5axuCCs"
      }
    },
    {
      "cell_type": "code",
      "source": [
        "company_code = first.select(\".company-code\")#[0].string\n",
        "company_code[0].text"
      ],
      "metadata": {
        "colab": {
          "base_uri": "https://localhost:8080/",
          "height": 36
        },
        "id": "cUqKy_ngtjct",
        "outputId": "aaf6abd4-d44e-4ec7-9f62-6cb6ba6aeb29"
      },
      "execution_count": 21,
      "outputs": [
        {
          "output_type": "execute_result",
          "data": {
            "text/plain": [
              "'AAPL'"
            ],
            "application/vnd.google.colaboratory.intrinsic+json": {
              "type": "string"
            }
          },
          "metadata": {},
          "execution_count": 21
        }
      ]
    },
    {
      "cell_type": "markdown",
      "source": [
        "Getting the industries the company (in this case Apple) is a part of is more invloving. First lets get the href attribute"
      ],
      "metadata": {
        "id": "_r0l0OV9hvuu"
      }
    },
    {
      "cell_type": "code",
      "source": [
        "href_marketcap = first.a[\"href\"]\n",
        "print(href_marketcap, type(href_marketcap))"
      ],
      "metadata": {
        "colab": {
          "base_uri": "https://localhost:8080/"
        },
        "id": "upVSlMK1s6PY",
        "outputId": "e926e2db-992d-4a29-9397-b74a4f2aa1d2"
      },
      "execution_count": 22,
      "outputs": [
        {
          "output_type": "stream",
          "name": "stdout",
          "text": [
            "/apple/marketcap/ <class 'str'>\n"
          ]
        }
      ]
    },
    {
      "cell_type": "markdown",
      "source": [
        "Then we go to the href link and create a soup objest of the resulting html page"
      ],
      "metadata": {
        "id": "pvugV3R5h3oW"
      }
    },
    {
      "cell_type": "code",
      "source": [
        "temp_url = \"https://companiesmarketcap.com/\" + href_marketcap\n",
        "market_cap_url = requests.get(temp_url)\n",
        "market_cap_soup = bs(market_cap_url.content, \"html.parser\")"
      ],
      "metadata": {
        "id": "ZFm00MfiuJNJ"
      },
      "execution_count": 23,
      "outputs": []
    },
    {
      "cell_type": "markdown",
      "source": [
        "Now we have to identify the CSS selector that then get all the industries a company is a part of:"
      ],
      "metadata": {
        "id": "LSmAD78rh_8u"
      }
    },
    {
      "cell_type": "code",
      "source": [
        "industries = market_cap_soup.select(\".categories-box .line1\")\n",
        "print(industries[0].prettify())"
      ],
      "metadata": {
        "colab": {
          "base_uri": "https://localhost:8080/"
        },
        "id": "9D6Re0kEujzY",
        "outputId": "f96c1672-37d5-4a91-9aa4-bc98200ac8ed"
      },
      "execution_count": 24,
      "outputs": [
        {
          "output_type": "stream",
          "name": "stdout",
          "text": [
            "<div class=\"line1\">\n",
            " <a class=\"badge badge-light category-badge\" href=\"/tech/largest-tech-companies-by-market-cap/\">\n",
            "  👩‍💻 Tech\n",
            " </a>\n",
            " <a class=\"badge badge-light category-badge\" href=\"/software/largest-software-companies-by-market-cap/\">\n",
            "  👩‍💻 Software\n",
            " </a>\n",
            " <a class=\"badge badge-light category-badge\" href=\"/dow-jones/largest-companies-by-market-cap/\">\n",
            "  🇺🇸 Dow jones\n",
            " </a>\n",
            " <a class=\"badge badge-light category-badge\" href=\"/tech-hardware/largest-tech-hardware-companies-by-market-cap/\">\n",
            "  💻 Tech Hardware\n",
            " </a>\n",
            " <a class=\"badge badge-light category-badge\" href=\"/electronics/largest-electronic-manufacturing-by-market-cap/\">\n",
            "  🔌 Electronics\n",
            " </a>\n",
            "</div>\n",
            "\n"
          ]
        }
      ]
    },
    {
      "cell_type": "code",
      "source": [
        "industries[0].find_all(\"a\")"
      ],
      "metadata": {
        "colab": {
          "base_uri": "https://localhost:8080/"
        },
        "id": "4RrdzAz5vjc0",
        "outputId": "7e871295-c9a7-4821-b424-307c211d3a7a"
      },
      "execution_count": 25,
      "outputs": [
        {
          "output_type": "execute_result",
          "data": {
            "text/plain": [
              "[<a class=\"badge badge-light category-badge\" href=\"/tech/largest-tech-companies-by-market-cap/\">👩‍💻 Tech</a>,\n",
              " <a class=\"badge badge-light category-badge\" href=\"/software/largest-software-companies-by-market-cap/\">👩‍💻 Software</a>,\n",
              " <a class=\"badge badge-light category-badge\" href=\"/dow-jones/largest-companies-by-market-cap/\">🇺🇸 Dow jones</a>,\n",
              " <a class=\"badge badge-light category-badge\" href=\"/tech-hardware/largest-tech-hardware-companies-by-market-cap/\">💻 Tech Hardware</a>,\n",
              " <a class=\"badge badge-light category-badge\" href=\"/electronics/largest-electronic-manufacturing-by-market-cap/\">🔌 Electronics</a>]"
            ]
          },
          "metadata": {},
          "execution_count": 25
        }
      ]
    },
    {
      "cell_type": "code",
      "source": [
        "industries_lst = []\n",
        "for element in industries[0].find_all(\"a\"):\n",
        "  industries_lst.append(\" \".join(element.string.split()[1:]))\n",
        "\n",
        "industries_lst"
      ],
      "metadata": {
        "colab": {
          "base_uri": "https://localhost:8080/"
        },
        "id": "EyKNvjA_vyDV",
        "outputId": "63da07c9-ae59-46d4-d70a-264cb18ee86a"
      },
      "execution_count": 26,
      "outputs": [
        {
          "output_type": "execute_result",
          "data": {
            "text/plain": [
              "['Tech', 'Software', 'Dow jones', 'Tech Hardware', 'Electronics']"
            ]
          },
          "metadata": {},
          "execution_count": 26
        }
      ]
    },
    {
      "cell_type": "markdown",
      "source": [
        "Lets turn everything into functions to make it more organized:"
      ],
      "metadata": {
        "id": "oq2mu-T1O3uM"
      }
    },
    {
      "cell_type": "code",
      "source": [
        "def get_industries(lst):\n",
        "  ret_lst = []\n",
        "  \n",
        "  for element in lst:\n",
        "    industries_lst = []\n",
        "    temp_href = element.a[\"href\"]\n",
        "    temp_url = \"https://companiesmarketcap.com\" + temp_href\n",
        "    market_cap_url = requests.get(temp_url)\n",
        "    market_cap_soup = bs(market_cap_url.content, \"html.parser\")\n",
        "    industries = market_cap_soup.select(\".categories-box .line1\")\n",
        "    try:\n",
        "      for element in industries[0].find_all(\"a\"):\n",
        "        industries_lst.append(\" \".join(element.string.split()[1:]))\n",
        "      ret_lst.append(industries_lst)\n",
        "    except:\n",
        "      ret_lst.append(None)\n",
        "  return ret_lst\n"
      ],
      "metadata": {
        "id": "-6CHvaV6xa5i"
      },
      "execution_count": 27,
      "outputs": []
    },
    {
      "cell_type": "code",
      "source": [
        "industries_for_company_lst = get_industries(total_lst)\n",
        "print(len(industries_for_company_lst))\n",
        "industries_for_company_lst[0:4]"
      ],
      "metadata": {
        "colab": {
          "base_uri": "https://localhost:8080/"
        },
        "id": "Lm0-Q1RKySq9",
        "outputId": "843b7856-d401-4a3b-9fa0-5d7165c15d83"
      },
      "execution_count": 28,
      "outputs": [
        {
          "output_type": "stream",
          "name": "stdout",
          "text": [
            "100\n"
          ]
        },
        {
          "output_type": "execute_result",
          "data": {
            "text/plain": [
              "[['Tech', 'Software', 'Dow jones', 'Tech Hardware', 'Electronics'],\n",
              " ['Software', 'Tech', 'Dow jones', 'Video games'],\n",
              " ['Internet', 'Tech', 'Software', 'Autonomous driving'],\n",
              " ['E-Commerce', 'Internet', 'Tech', 'Retail']]"
            ]
          },
          "metadata": {},
          "execution_count": 28
        }
      ]
    },
    {
      "cell_type": "code",
      "source": [
        "def get_company_name(lst):\n",
        "  ret_lst = []\n",
        "  for element in lst:\n",
        "    ret_lst.append(element.select(\".company-name\")[0].string)\n",
        "  return ret_lst\n",
        "\n",
        "def get_company_code(lst):\n",
        "  ret_lst = []\n",
        "  for element in lst:\n",
        "    ret_lst.append(element.select(\".company-code\")[0].text)\n",
        "  return ret_lst"
      ],
      "metadata": {
        "id": "U7GlXM3d0mYl"
      },
      "execution_count": 29,
      "outputs": []
    },
    {
      "cell_type": "code",
      "source": [
        "company_names_lst = get_company_name(total_lst)\n",
        "company_code_lst = get_company_code(total_lst)\n",
        "print(company_names_lst[0:4])\n",
        "print(company_code_lst[0:4])"
      ],
      "metadata": {
        "colab": {
          "base_uri": "https://localhost:8080/"
        },
        "id": "y_Q3IlQP1NRP",
        "outputId": "fdfa8073-494c-46c0-d02c-71eba5f9781e"
      },
      "execution_count": 30,
      "outputs": [
        {
          "output_type": "stream",
          "name": "stdout",
          "text": [
            "['Apple', 'Microsoft', 'Alphabet (Google)', 'Amazon']\n",
            "['AAPL', 'MSFT', 'GOOG', 'AMZN']\n"
          ]
        }
      ]
    },
    {
      "cell_type": "markdown",
      "source": [
        "All the lists are filled, so we can now make a Dataframe!"
      ],
      "metadata": {
        "id": "mT0OE7vQPBu9"
      }
    },
    {
      "cell_type": "code",
      "source": [
        "data = dict()\n",
        "\n",
        "lst = [company_names_lst, company_code_lst, market_cap_lst, industries_for_company_lst]\n",
        "names = [\"company_names_lst\", \"company_code_lst\", \"market_cap_lst\", \"industries_for_company_lst\"]\n",
        "\n",
        "for i in [0,1,2,3]:\n",
        "  data[names[i]] = lst[i] \n",
        "\n",
        "df = pd.DataFrame(data=data)\n",
        "df.head(20)"
      ],
      "metadata": {
        "colab": {
          "base_uri": "https://localhost:8080/",
          "height": 676
        },
        "id": "0ayrj9-F4eRM",
        "outputId": "10620f5b-d5da-42bc-b81e-8f4431158d4c"
      },
      "execution_count": 31,
      "outputs": [
        {
          "output_type": "execute_result",
          "data": {
            "text/plain": [
              "      company_names_lst company_code_lst market_cap_lst  \\\n",
              "0                 Apple             AAPL       $2.729 T   \n",
              "1             Microsoft             MSFT       $2.146 T   \n",
              "2     Alphabet (Google)             GOOG       $1.691 T   \n",
              "3                Amazon             AMZN       $1.566 T   \n",
              "4                 Tesla             TSLA       $1.009 T   \n",
              "5   Berkshire Hathaway             BRK-A      $769.85 B   \n",
              "6       Meta (Facebook)               FB      $573.00 B   \n",
              "7                NVIDIA             NVDA      $535.33 B   \n",
              "8          UnitedHealth              UNH      $513.74 B   \n",
              "9     Johnson & Johnson              JNJ      $483.56 B   \n",
              "10                 Visa                V      $471.63 B   \n",
              "11              Walmart              WMT      $439.26 B   \n",
              "12     Procter & Gamble               PG      $392.28 B   \n",
              "13       JPMorgan Chase              JPM      $386.46 B   \n",
              "14          Exxon Mobil              XOM      $371.68 B   \n",
              "15           Mastercard               MA      $359.89 B   \n",
              "16              Chevron              CVX      $338.99 B   \n",
              "17           Home Depot               HD      $331.96 B   \n",
              "18     Bank of America               BAC      $319.74 B   \n",
              "19            Coca-Cola               KO      $285.93 B   \n",
              "\n",
              "                           industries_for_company_lst  \n",
              "0   [Tech, Software, Dow jones, Tech Hardware, Ele...  \n",
              "1            [Software, Tech, Dow jones, Video games]  \n",
              "2      [Internet, Tech, Software, Autonomous driving]  \n",
              "3                [E-Commerce, Internet, Tech, Retail]  \n",
              "4   [Automakers, Tech, Electric Vehicles, Bitcoin,...  \n",
              "5                                        [Investment]  \n",
              "6                                    [Tech, Internet]  \n",
              "7   [Tech, Semiconductors, Electronics, Tech Hardw...  \n",
              "8                  [Healthcare, Insurance, Dow jones]  \n",
              "9               [Pharmaceuticals, Dow jones, Biotech]  \n",
              "10                    [Financial services, Dow jones]  \n",
              "11            [Retail, Dow jones, Supermarket Chains]  \n",
              "12                        [Dow jones, Consumer goods]  \n",
              "13             [Banks, Financial services, Dow jones]  \n",
              "14                                  [Oil&Gas, Energy]  \n",
              "15                               [Financial services]  \n",
              "16                       [Oil&Gas, Dow jones, Energy]  \n",
              "17                                [Retail, Dow jones]  \n",
              "18                        [Banks, Financial services]  \n",
              "19                             [Beverages, Dow jones]  "
            ],
            "text/html": [
              "\n",
              "  <div id=\"df-9d465320-9b61-4f0a-acf2-8cda5e7070bc\">\n",
              "    <div class=\"colab-df-container\">\n",
              "      <div>\n",
              "<style scoped>\n",
              "    .dataframe tbody tr th:only-of-type {\n",
              "        vertical-align: middle;\n",
              "    }\n",
              "\n",
              "    .dataframe tbody tr th {\n",
              "        vertical-align: top;\n",
              "    }\n",
              "\n",
              "    .dataframe thead th {\n",
              "        text-align: right;\n",
              "    }\n",
              "</style>\n",
              "<table border=\"1\" class=\"dataframe\">\n",
              "  <thead>\n",
              "    <tr style=\"text-align: right;\">\n",
              "      <th></th>\n",
              "      <th>company_names_lst</th>\n",
              "      <th>company_code_lst</th>\n",
              "      <th>market_cap_lst</th>\n",
              "      <th>industries_for_company_lst</th>\n",
              "    </tr>\n",
              "  </thead>\n",
              "  <tbody>\n",
              "    <tr>\n",
              "      <th>0</th>\n",
              "      <td>Apple</td>\n",
              "      <td>AAPL</td>\n",
              "      <td>$2.729 T</td>\n",
              "      <td>[Tech, Software, Dow jones, Tech Hardware, Ele...</td>\n",
              "    </tr>\n",
              "    <tr>\n",
              "      <th>1</th>\n",
              "      <td>Microsoft</td>\n",
              "      <td>MSFT</td>\n",
              "      <td>$2.146 T</td>\n",
              "      <td>[Software, Tech, Dow jones, Video games]</td>\n",
              "    </tr>\n",
              "    <tr>\n",
              "      <th>2</th>\n",
              "      <td>Alphabet (Google)</td>\n",
              "      <td>GOOG</td>\n",
              "      <td>$1.691 T</td>\n",
              "      <td>[Internet, Tech, Software, Autonomous driving]</td>\n",
              "    </tr>\n",
              "    <tr>\n",
              "      <th>3</th>\n",
              "      <td>Amazon</td>\n",
              "      <td>AMZN</td>\n",
              "      <td>$1.566 T</td>\n",
              "      <td>[E-Commerce, Internet, Tech, Retail]</td>\n",
              "    </tr>\n",
              "    <tr>\n",
              "      <th>4</th>\n",
              "      <td>Tesla</td>\n",
              "      <td>TSLA</td>\n",
              "      <td>$1.009 T</td>\n",
              "      <td>[Automakers, Tech, Electric Vehicles, Bitcoin,...</td>\n",
              "    </tr>\n",
              "    <tr>\n",
              "      <th>5</th>\n",
              "      <td>Berkshire Hathaway</td>\n",
              "      <td>BRK-A</td>\n",
              "      <td>$769.85 B</td>\n",
              "      <td>[Investment]</td>\n",
              "    </tr>\n",
              "    <tr>\n",
              "      <th>6</th>\n",
              "      <td>Meta (Facebook)</td>\n",
              "      <td>FB</td>\n",
              "      <td>$573.00 B</td>\n",
              "      <td>[Tech, Internet]</td>\n",
              "    </tr>\n",
              "    <tr>\n",
              "      <th>7</th>\n",
              "      <td>NVIDIA</td>\n",
              "      <td>NVDA</td>\n",
              "      <td>$535.33 B</td>\n",
              "      <td>[Tech, Semiconductors, Electronics, Tech Hardw...</td>\n",
              "    </tr>\n",
              "    <tr>\n",
              "      <th>8</th>\n",
              "      <td>UnitedHealth</td>\n",
              "      <td>UNH</td>\n",
              "      <td>$513.74 B</td>\n",
              "      <td>[Healthcare, Insurance, Dow jones]</td>\n",
              "    </tr>\n",
              "    <tr>\n",
              "      <th>9</th>\n",
              "      <td>Johnson &amp; Johnson</td>\n",
              "      <td>JNJ</td>\n",
              "      <td>$483.56 B</td>\n",
              "      <td>[Pharmaceuticals, Dow jones, Biotech]</td>\n",
              "    </tr>\n",
              "    <tr>\n",
              "      <th>10</th>\n",
              "      <td>Visa</td>\n",
              "      <td>V</td>\n",
              "      <td>$471.63 B</td>\n",
              "      <td>[Financial services, Dow jones]</td>\n",
              "    </tr>\n",
              "    <tr>\n",
              "      <th>11</th>\n",
              "      <td>Walmart</td>\n",
              "      <td>WMT</td>\n",
              "      <td>$439.26 B</td>\n",
              "      <td>[Retail, Dow jones, Supermarket Chains]</td>\n",
              "    </tr>\n",
              "    <tr>\n",
              "      <th>12</th>\n",
              "      <td>Procter &amp; Gamble</td>\n",
              "      <td>PG</td>\n",
              "      <td>$392.28 B</td>\n",
              "      <td>[Dow jones, Consumer goods]</td>\n",
              "    </tr>\n",
              "    <tr>\n",
              "      <th>13</th>\n",
              "      <td>JPMorgan Chase</td>\n",
              "      <td>JPM</td>\n",
              "      <td>$386.46 B</td>\n",
              "      <td>[Banks, Financial services, Dow jones]</td>\n",
              "    </tr>\n",
              "    <tr>\n",
              "      <th>14</th>\n",
              "      <td>Exxon Mobil</td>\n",
              "      <td>XOM</td>\n",
              "      <td>$371.68 B</td>\n",
              "      <td>[Oil&amp;Gas, Energy]</td>\n",
              "    </tr>\n",
              "    <tr>\n",
              "      <th>15</th>\n",
              "      <td>Mastercard</td>\n",
              "      <td>MA</td>\n",
              "      <td>$359.89 B</td>\n",
              "      <td>[Financial services]</td>\n",
              "    </tr>\n",
              "    <tr>\n",
              "      <th>16</th>\n",
              "      <td>Chevron</td>\n",
              "      <td>CVX</td>\n",
              "      <td>$338.99 B</td>\n",
              "      <td>[Oil&amp;Gas, Dow jones, Energy]</td>\n",
              "    </tr>\n",
              "    <tr>\n",
              "      <th>17</th>\n",
              "      <td>Home Depot</td>\n",
              "      <td>HD</td>\n",
              "      <td>$331.96 B</td>\n",
              "      <td>[Retail, Dow jones]</td>\n",
              "    </tr>\n",
              "    <tr>\n",
              "      <th>18</th>\n",
              "      <td>Bank of America</td>\n",
              "      <td>BAC</td>\n",
              "      <td>$319.74 B</td>\n",
              "      <td>[Banks, Financial services]</td>\n",
              "    </tr>\n",
              "    <tr>\n",
              "      <th>19</th>\n",
              "      <td>Coca-Cola</td>\n",
              "      <td>KO</td>\n",
              "      <td>$285.93 B</td>\n",
              "      <td>[Beverages, Dow jones]</td>\n",
              "    </tr>\n",
              "  </tbody>\n",
              "</table>\n",
              "</div>\n",
              "      <button class=\"colab-df-convert\" onclick=\"convertToInteractive('df-9d465320-9b61-4f0a-acf2-8cda5e7070bc')\"\n",
              "              title=\"Convert this dataframe to an interactive table.\"\n",
              "              style=\"display:none;\">\n",
              "        \n",
              "  <svg xmlns=\"http://www.w3.org/2000/svg\" height=\"24px\"viewBox=\"0 0 24 24\"\n",
              "       width=\"24px\">\n",
              "    <path d=\"M0 0h24v24H0V0z\" fill=\"none\"/>\n",
              "    <path d=\"M18.56 5.44l.94 2.06.94-2.06 2.06-.94-2.06-.94-.94-2.06-.94 2.06-2.06.94zm-11 1L8.5 8.5l.94-2.06 2.06-.94-2.06-.94L8.5 2.5l-.94 2.06-2.06.94zm10 10l.94 2.06.94-2.06 2.06-.94-2.06-.94-.94-2.06-.94 2.06-2.06.94z\"/><path d=\"M17.41 7.96l-1.37-1.37c-.4-.4-.92-.59-1.43-.59-.52 0-1.04.2-1.43.59L10.3 9.45l-7.72 7.72c-.78.78-.78 2.05 0 2.83L4 21.41c.39.39.9.59 1.41.59.51 0 1.02-.2 1.41-.59l7.78-7.78 2.81-2.81c.8-.78.8-2.07 0-2.86zM5.41 20L4 18.59l7.72-7.72 1.47 1.35L5.41 20z\"/>\n",
              "  </svg>\n",
              "      </button>\n",
              "      \n",
              "  <style>\n",
              "    .colab-df-container {\n",
              "      display:flex;\n",
              "      flex-wrap:wrap;\n",
              "      gap: 12px;\n",
              "    }\n",
              "\n",
              "    .colab-df-convert {\n",
              "      background-color: #E8F0FE;\n",
              "      border: none;\n",
              "      border-radius: 50%;\n",
              "      cursor: pointer;\n",
              "      display: none;\n",
              "      fill: #1967D2;\n",
              "      height: 32px;\n",
              "      padding: 0 0 0 0;\n",
              "      width: 32px;\n",
              "    }\n",
              "\n",
              "    .colab-df-convert:hover {\n",
              "      background-color: #E2EBFA;\n",
              "      box-shadow: 0px 1px 2px rgba(60, 64, 67, 0.3), 0px 1px 3px 1px rgba(60, 64, 67, 0.15);\n",
              "      fill: #174EA6;\n",
              "    }\n",
              "\n",
              "    [theme=dark] .colab-df-convert {\n",
              "      background-color: #3B4455;\n",
              "      fill: #D2E3FC;\n",
              "    }\n",
              "\n",
              "    [theme=dark] .colab-df-convert:hover {\n",
              "      background-color: #434B5C;\n",
              "      box-shadow: 0px 1px 3px 1px rgba(0, 0, 0, 0.15);\n",
              "      filter: drop-shadow(0px 1px 2px rgba(0, 0, 0, 0.3));\n",
              "      fill: #FFFFFF;\n",
              "    }\n",
              "  </style>\n",
              "\n",
              "      <script>\n",
              "        const buttonEl =\n",
              "          document.querySelector('#df-9d465320-9b61-4f0a-acf2-8cda5e7070bc button.colab-df-convert');\n",
              "        buttonEl.style.display =\n",
              "          google.colab.kernel.accessAllowed ? 'block' : 'none';\n",
              "\n",
              "        async function convertToInteractive(key) {\n",
              "          const element = document.querySelector('#df-9d465320-9b61-4f0a-acf2-8cda5e7070bc');\n",
              "          const dataTable =\n",
              "            await google.colab.kernel.invokeFunction('convertToInteractive',\n",
              "                                                     [key], {});\n",
              "          if (!dataTable) return;\n",
              "\n",
              "          const docLinkHtml = 'Like what you see? Visit the ' +\n",
              "            '<a target=\"_blank\" href=https://colab.research.google.com/notebooks/data_table.ipynb>data table notebook</a>'\n",
              "            + ' to learn more about interactive tables.';\n",
              "          element.innerHTML = '';\n",
              "          dataTable['output_type'] = 'display_data';\n",
              "          await google.colab.output.renderOutput(dataTable, element);\n",
              "          const docLink = document.createElement('div');\n",
              "          docLink.innerHTML = docLinkHtml;\n",
              "          element.appendChild(docLink);\n",
              "        }\n",
              "      </script>\n",
              "    </div>\n",
              "  </div>\n",
              "  "
            ]
          },
          "metadata": {},
          "execution_count": 31
        }
      ]
    },
    {
      "cell_type": "markdown",
      "source": [
        "Now lets webscrape reviews off of indeed reviews!"
      ],
      "metadata": {
        "id": "OnKMsHiAuSee"
      }
    },
    {
      "cell_type": "code",
      "source": [
        "data2 = {\"overall_rating\": [], \"num_reviews\" : [], \"num_reviews_dist\" : [], \"work_life_balance\": [], \"compensation_benefits\" : [], \"job_security_advancements\" : [],\n",
        "         \"management\" : [], \"culture\" : []}"
      ],
      "metadata": {
        "id": "vftNYgW7cO50"
      },
      "execution_count": 32,
      "outputs": []
    },
    {
      "cell_type": "code",
      "source": [
        "def get_reviews(link):\n",
        "  review_link = requests.get(link)\n",
        "  review_soup = bs(review_link.content, 'html.parser')\n",
        "  data2[\"overall_rating\"].append(review_soup.select(\".css-184jb2u\")[0].string)\n",
        "  data2[\"num_reviews\"].append(review_soup.select(\".css-1ljxcao .e1wnkr790\")[0].string)\n",
        "  \n",
        "  t_lst = []\n",
        "  for i in review_soup.select(\".css-1ljxcao .e1wnkr790\"):\n",
        "    t_lst.append(i.string)\n",
        "  data2[\"num_reviews_dist\"].append(t_lst)\n",
        "\n",
        "  t_lst = []\n",
        "  for i in review_soup.select(\".css-6wnk7h\"):\n",
        "    t_lst.append(i.string)\n",
        "    \n",
        "  data2[\"work_life_balance\"].append(t_lst[0])\n",
        "  data2[\"compensation_benefits\"].append(t_lst[1])\n",
        "  data2[\"job_security_advancements\"].append(t_lst[2])\n",
        "  data2[\"management\"].append(t_lst[3])\n",
        "  data2[\"culture\"].append(t_lst[4])"
      ],
      "metadata": {
        "id": "_XWv6PBsuQ8H"
      },
      "execution_count": 33,
      "outputs": []
    },
    {
      "cell_type": "markdown",
      "source": [
        "Sometimes you have to hardcode cases:"
      ],
      "metadata": {
        "id": "jFBLcrB8PuF1"
      }
    },
    {
      "cell_type": "code",
      "source": [
        "for name in company_names_lst:\n",
        "  try:\n",
        "    if name == \"Alphabet (Google)\":\n",
        "      get_reviews(\"https://www.indeed.com/cmp/google/reviews\")\n",
        "    elif name == \"Meta (Facebook)\":\n",
        "      get_reviews(\"https://www.indeed.com/cmp/meta/reviews\")\n",
        "    elif name == \"T-Mobile US\":\n",
        "      get_reviews(\"https://www.indeed.com/cmp/T-Mobile/reviews\")\n",
        "    else:\n",
        "      get_reviews(f\"https://www.indeed.com/cmp/{name}/reviews\")\n",
        "  except: #This is used to identify cases to hardcode\n",
        "    print(name)\n",
        "    break"
      ],
      "metadata": {
        "id": "MBRJwz_1GCc4"
      },
      "execution_count": 34,
      "outputs": []
    },
    {
      "cell_type": "code",
      "source": [
        "for i,j in data2.items():\n",
        "  print(len(j))"
      ],
      "metadata": {
        "colab": {
          "base_uri": "https://localhost:8080/"
        },
        "id": "d1EFq0CpYNSm",
        "outputId": "5ba12d7d-2c92-42d2-a38d-2718eef7a230"
      },
      "execution_count": 35,
      "outputs": [
        {
          "output_type": "stream",
          "name": "stdout",
          "text": [
            "100\n",
            "100\n",
            "100\n",
            "100\n",
            "100\n",
            "100\n",
            "100\n",
            "100\n"
          ]
        }
      ]
    },
    {
      "cell_type": "markdown",
      "source": [
        "Because data2 is a dictionary we can simply create a dataframe"
      ],
      "metadata": {
        "id": "bgiThw4xQXk9"
      }
    },
    {
      "cell_type": "code",
      "source": [
        "df2 = pd.DataFrame(data=data2)\n",
        "df2.head(20)"
      ],
      "metadata": {
        "colab": {
          "base_uri": "https://localhost:8080/",
          "height": 676
        },
        "id": "oRFX7RXbcO9D",
        "outputId": "823fc915-3b00-405d-ea64-587365b8fca4"
      },
      "execution_count": 36,
      "outputs": [
        {
          "output_type": "execute_result",
          "data": {
            "text/plain": [
              "   overall_rating num_reviews                    num_reviews_dist  \\\n",
              "0             4.2        5.3K        [5.3K, 3.1K, 1.6K, 493, 364]   \n",
              "1             4.2        3.5K        [3.5K, 2.4K, 1.1K, 260, 152]   \n",
              "2             4.3        2.3K          [2.3K, 1.1K, 473, 122, 92]   \n",
              "3             3.4       22.9K  [22.9K, 20.4K, 18.4K, 8.7K, 10.7K]   \n",
              "4             3.4        1.4K        [1.4K, 1.3K, 1.1K, 596, 661]   \n",
              "5             4.0          84                 [84, 36, 32, 8, 11]   \n",
              "6             3.8          11                    [11, 6, 6, 2, 2]   \n",
              "7             4.2         123                [123, 78, 29, 7, 10]   \n",
              "8             3.6        5.5K      [5.5K, 5.3K, 3.8K, 1.6K, 1.7K]   \n",
              "9             4.2        3.2K         [3.2K, 2.2K, 794, 223, 175]   \n",
              "10            3.9         387             [387, 324, 200, 58, 54]   \n",
              "11            3.4         59K   [59K, 61.5K, 62.2K, 25.2K, 26.2K]   \n",
              "12            4.1        3.3K         [3.3K, 2.2K, 994, 299, 251]   \n",
              "13            3.9        7.1K       [7.1K, 6.8K, 3.8K, 1.1K, 900]   \n",
              "14            3.9        1.8K         [1.8K, 1.3K, 849, 289, 246]   \n",
              "15            4.0         246             [246, 244, 119, 19, 20]   \n",
              "16            4.0        2.4K         [2.4K, 1.7K, 907, 310, 302]   \n",
              "17            3.7         18K     [18K, 18.4K, 13.6K, 4.6K, 3.8K]   \n",
              "18            3.8       10.6K      [10.6K, 10.1K, 6.7K, 2K, 1.8K]   \n",
              "19            3.9        3.8K        [3.8K, 2.9K, 1.9K, 684, 648]   \n",
              "\n",
              "   work_life_balance compensation_benefits job_security_advancements  \\\n",
              "0                3.8                   4.1                       3.7   \n",
              "1                3.9                   4.1                       3.5   \n",
              "2                4.2                   4.1                       3.7   \n",
              "3                3.2                   3.7                       3.1   \n",
              "4                3.0                   3.6                       2.8   \n",
              "5                3.9                   3.8                       3.5   \n",
              "6                3.6                   4.0                       3.3   \n",
              "7                3.9                   4.1                       3.8   \n",
              "8                3.6                   3.5                       3.2   \n",
              "9                4.0                   4.1                       3.6   \n",
              "10               3.8                   4.0                       3.4   \n",
              "11               3.3                   3.3                       3.2   \n",
              "12               3.8                   4.0                       3.7   \n",
              "13               3.7                   3.9                       3.5   \n",
              "14               3.7                   3.7                       3.4   \n",
              "15               3.9                   4.0                       3.5   \n",
              "16               3.9                   3.6                       3.4   \n",
              "17               3.5                   3.4                       3.3   \n",
              "18               3.7                   3.9                       3.4   \n",
              "19               3.6                   3.8                       3.4   \n",
              "\n",
              "   management culture  \n",
              "0         3.7     4.1  \n",
              "1         3.6     4.0  \n",
              "2         3.9     4.2  \n",
              "3         3.0     3.3  \n",
              "4         2.9     3.3  \n",
              "5         3.8     3.9  \n",
              "6         3.4     3.6  \n",
              "7         3.8     4.1  \n",
              "8         3.2     3.5  \n",
              "9         3.8     4.0  \n",
              "10        3.4     3.6  \n",
              "11        3.0     3.2  \n",
              "12        3.7     3.9  \n",
              "13        3.5     3.7  \n",
              "14        3.6     3.7  \n",
              "15        3.5     3.8  \n",
              "16        3.6     3.8  \n",
              "17        3.3     3.6  \n",
              "18        3.4     3.6  \n",
              "19        3.4     3.6  "
            ],
            "text/html": [
              "\n",
              "  <div id=\"df-8d6e3fe4-b37b-40ee-8967-560b4cb8f4e2\">\n",
              "    <div class=\"colab-df-container\">\n",
              "      <div>\n",
              "<style scoped>\n",
              "    .dataframe tbody tr th:only-of-type {\n",
              "        vertical-align: middle;\n",
              "    }\n",
              "\n",
              "    .dataframe tbody tr th {\n",
              "        vertical-align: top;\n",
              "    }\n",
              "\n",
              "    .dataframe thead th {\n",
              "        text-align: right;\n",
              "    }\n",
              "</style>\n",
              "<table border=\"1\" class=\"dataframe\">\n",
              "  <thead>\n",
              "    <tr style=\"text-align: right;\">\n",
              "      <th></th>\n",
              "      <th>overall_rating</th>\n",
              "      <th>num_reviews</th>\n",
              "      <th>num_reviews_dist</th>\n",
              "      <th>work_life_balance</th>\n",
              "      <th>compensation_benefits</th>\n",
              "      <th>job_security_advancements</th>\n",
              "      <th>management</th>\n",
              "      <th>culture</th>\n",
              "    </tr>\n",
              "  </thead>\n",
              "  <tbody>\n",
              "    <tr>\n",
              "      <th>0</th>\n",
              "      <td>4.2</td>\n",
              "      <td>5.3K</td>\n",
              "      <td>[5.3K, 3.1K, 1.6K, 493, 364]</td>\n",
              "      <td>3.8</td>\n",
              "      <td>4.1</td>\n",
              "      <td>3.7</td>\n",
              "      <td>3.7</td>\n",
              "      <td>4.1</td>\n",
              "    </tr>\n",
              "    <tr>\n",
              "      <th>1</th>\n",
              "      <td>4.2</td>\n",
              "      <td>3.5K</td>\n",
              "      <td>[3.5K, 2.4K, 1.1K, 260, 152]</td>\n",
              "      <td>3.9</td>\n",
              "      <td>4.1</td>\n",
              "      <td>3.5</td>\n",
              "      <td>3.6</td>\n",
              "      <td>4.0</td>\n",
              "    </tr>\n",
              "    <tr>\n",
              "      <th>2</th>\n",
              "      <td>4.3</td>\n",
              "      <td>2.3K</td>\n",
              "      <td>[2.3K, 1.1K, 473, 122, 92]</td>\n",
              "      <td>4.2</td>\n",
              "      <td>4.1</td>\n",
              "      <td>3.7</td>\n",
              "      <td>3.9</td>\n",
              "      <td>4.2</td>\n",
              "    </tr>\n",
              "    <tr>\n",
              "      <th>3</th>\n",
              "      <td>3.4</td>\n",
              "      <td>22.9K</td>\n",
              "      <td>[22.9K, 20.4K, 18.4K, 8.7K, 10.7K]</td>\n",
              "      <td>3.2</td>\n",
              "      <td>3.7</td>\n",
              "      <td>3.1</td>\n",
              "      <td>3.0</td>\n",
              "      <td>3.3</td>\n",
              "    </tr>\n",
              "    <tr>\n",
              "      <th>4</th>\n",
              "      <td>3.4</td>\n",
              "      <td>1.4K</td>\n",
              "      <td>[1.4K, 1.3K, 1.1K, 596, 661]</td>\n",
              "      <td>3.0</td>\n",
              "      <td>3.6</td>\n",
              "      <td>2.8</td>\n",
              "      <td>2.9</td>\n",
              "      <td>3.3</td>\n",
              "    </tr>\n",
              "    <tr>\n",
              "      <th>5</th>\n",
              "      <td>4.0</td>\n",
              "      <td>84</td>\n",
              "      <td>[84, 36, 32, 8, 11]</td>\n",
              "      <td>3.9</td>\n",
              "      <td>3.8</td>\n",
              "      <td>3.5</td>\n",
              "      <td>3.8</td>\n",
              "      <td>3.9</td>\n",
              "    </tr>\n",
              "    <tr>\n",
              "      <th>6</th>\n",
              "      <td>3.8</td>\n",
              "      <td>11</td>\n",
              "      <td>[11, 6, 6, 2, 2]</td>\n",
              "      <td>3.6</td>\n",
              "      <td>4.0</td>\n",
              "      <td>3.3</td>\n",
              "      <td>3.4</td>\n",
              "      <td>3.6</td>\n",
              "    </tr>\n",
              "    <tr>\n",
              "      <th>7</th>\n",
              "      <td>4.2</td>\n",
              "      <td>123</td>\n",
              "      <td>[123, 78, 29, 7, 10]</td>\n",
              "      <td>3.9</td>\n",
              "      <td>4.1</td>\n",
              "      <td>3.8</td>\n",
              "      <td>3.8</td>\n",
              "      <td>4.1</td>\n",
              "    </tr>\n",
              "    <tr>\n",
              "      <th>8</th>\n",
              "      <td>3.6</td>\n",
              "      <td>5.5K</td>\n",
              "      <td>[5.5K, 5.3K, 3.8K, 1.6K, 1.7K]</td>\n",
              "      <td>3.6</td>\n",
              "      <td>3.5</td>\n",
              "      <td>3.2</td>\n",
              "      <td>3.2</td>\n",
              "      <td>3.5</td>\n",
              "    </tr>\n",
              "    <tr>\n",
              "      <th>9</th>\n",
              "      <td>4.2</td>\n",
              "      <td>3.2K</td>\n",
              "      <td>[3.2K, 2.2K, 794, 223, 175]</td>\n",
              "      <td>4.0</td>\n",
              "      <td>4.1</td>\n",
              "      <td>3.6</td>\n",
              "      <td>3.8</td>\n",
              "      <td>4.0</td>\n",
              "    </tr>\n",
              "    <tr>\n",
              "      <th>10</th>\n",
              "      <td>3.9</td>\n",
              "      <td>387</td>\n",
              "      <td>[387, 324, 200, 58, 54]</td>\n",
              "      <td>3.8</td>\n",
              "      <td>4.0</td>\n",
              "      <td>3.4</td>\n",
              "      <td>3.4</td>\n",
              "      <td>3.6</td>\n",
              "    </tr>\n",
              "    <tr>\n",
              "      <th>11</th>\n",
              "      <td>3.4</td>\n",
              "      <td>59K</td>\n",
              "      <td>[59K, 61.5K, 62.2K, 25.2K, 26.2K]</td>\n",
              "      <td>3.3</td>\n",
              "      <td>3.3</td>\n",
              "      <td>3.2</td>\n",
              "      <td>3.0</td>\n",
              "      <td>3.2</td>\n",
              "    </tr>\n",
              "    <tr>\n",
              "      <th>12</th>\n",
              "      <td>4.1</td>\n",
              "      <td>3.3K</td>\n",
              "      <td>[3.3K, 2.2K, 994, 299, 251]</td>\n",
              "      <td>3.8</td>\n",
              "      <td>4.0</td>\n",
              "      <td>3.7</td>\n",
              "      <td>3.7</td>\n",
              "      <td>3.9</td>\n",
              "    </tr>\n",
              "    <tr>\n",
              "      <th>13</th>\n",
              "      <td>3.9</td>\n",
              "      <td>7.1K</td>\n",
              "      <td>[7.1K, 6.8K, 3.8K, 1.1K, 900]</td>\n",
              "      <td>3.7</td>\n",
              "      <td>3.9</td>\n",
              "      <td>3.5</td>\n",
              "      <td>3.5</td>\n",
              "      <td>3.7</td>\n",
              "    </tr>\n",
              "    <tr>\n",
              "      <th>14</th>\n",
              "      <td>3.9</td>\n",
              "      <td>1.8K</td>\n",
              "      <td>[1.8K, 1.3K, 849, 289, 246]</td>\n",
              "      <td>3.7</td>\n",
              "      <td>3.7</td>\n",
              "      <td>3.4</td>\n",
              "      <td>3.6</td>\n",
              "      <td>3.7</td>\n",
              "    </tr>\n",
              "    <tr>\n",
              "      <th>15</th>\n",
              "      <td>4.0</td>\n",
              "      <td>246</td>\n",
              "      <td>[246, 244, 119, 19, 20]</td>\n",
              "      <td>3.9</td>\n",
              "      <td>4.0</td>\n",
              "      <td>3.5</td>\n",
              "      <td>3.5</td>\n",
              "      <td>3.8</td>\n",
              "    </tr>\n",
              "    <tr>\n",
              "      <th>16</th>\n",
              "      <td>4.0</td>\n",
              "      <td>2.4K</td>\n",
              "      <td>[2.4K, 1.7K, 907, 310, 302]</td>\n",
              "      <td>3.9</td>\n",
              "      <td>3.6</td>\n",
              "      <td>3.4</td>\n",
              "      <td>3.6</td>\n",
              "      <td>3.8</td>\n",
              "    </tr>\n",
              "    <tr>\n",
              "      <th>17</th>\n",
              "      <td>3.7</td>\n",
              "      <td>18K</td>\n",
              "      <td>[18K, 18.4K, 13.6K, 4.6K, 3.8K]</td>\n",
              "      <td>3.5</td>\n",
              "      <td>3.4</td>\n",
              "      <td>3.3</td>\n",
              "      <td>3.3</td>\n",
              "      <td>3.6</td>\n",
              "    </tr>\n",
              "    <tr>\n",
              "      <th>18</th>\n",
              "      <td>3.8</td>\n",
              "      <td>10.6K</td>\n",
              "      <td>[10.6K, 10.1K, 6.7K, 2K, 1.8K]</td>\n",
              "      <td>3.7</td>\n",
              "      <td>3.9</td>\n",
              "      <td>3.4</td>\n",
              "      <td>3.4</td>\n",
              "      <td>3.6</td>\n",
              "    </tr>\n",
              "    <tr>\n",
              "      <th>19</th>\n",
              "      <td>3.9</td>\n",
              "      <td>3.8K</td>\n",
              "      <td>[3.8K, 2.9K, 1.9K, 684, 648]</td>\n",
              "      <td>3.6</td>\n",
              "      <td>3.8</td>\n",
              "      <td>3.4</td>\n",
              "      <td>3.4</td>\n",
              "      <td>3.6</td>\n",
              "    </tr>\n",
              "  </tbody>\n",
              "</table>\n",
              "</div>\n",
              "      <button class=\"colab-df-convert\" onclick=\"convertToInteractive('df-8d6e3fe4-b37b-40ee-8967-560b4cb8f4e2')\"\n",
              "              title=\"Convert this dataframe to an interactive table.\"\n",
              "              style=\"display:none;\">\n",
              "        \n",
              "  <svg xmlns=\"http://www.w3.org/2000/svg\" height=\"24px\"viewBox=\"0 0 24 24\"\n",
              "       width=\"24px\">\n",
              "    <path d=\"M0 0h24v24H0V0z\" fill=\"none\"/>\n",
              "    <path d=\"M18.56 5.44l.94 2.06.94-2.06 2.06-.94-2.06-.94-.94-2.06-.94 2.06-2.06.94zm-11 1L8.5 8.5l.94-2.06 2.06-.94-2.06-.94L8.5 2.5l-.94 2.06-2.06.94zm10 10l.94 2.06.94-2.06 2.06-.94-2.06-.94-.94-2.06-.94 2.06-2.06.94z\"/><path d=\"M17.41 7.96l-1.37-1.37c-.4-.4-.92-.59-1.43-.59-.52 0-1.04.2-1.43.59L10.3 9.45l-7.72 7.72c-.78.78-.78 2.05 0 2.83L4 21.41c.39.39.9.59 1.41.59.51 0 1.02-.2 1.41-.59l7.78-7.78 2.81-2.81c.8-.78.8-2.07 0-2.86zM5.41 20L4 18.59l7.72-7.72 1.47 1.35L5.41 20z\"/>\n",
              "  </svg>\n",
              "      </button>\n",
              "      \n",
              "  <style>\n",
              "    .colab-df-container {\n",
              "      display:flex;\n",
              "      flex-wrap:wrap;\n",
              "      gap: 12px;\n",
              "    }\n",
              "\n",
              "    .colab-df-convert {\n",
              "      background-color: #E8F0FE;\n",
              "      border: none;\n",
              "      border-radius: 50%;\n",
              "      cursor: pointer;\n",
              "      display: none;\n",
              "      fill: #1967D2;\n",
              "      height: 32px;\n",
              "      padding: 0 0 0 0;\n",
              "      width: 32px;\n",
              "    }\n",
              "\n",
              "    .colab-df-convert:hover {\n",
              "      background-color: #E2EBFA;\n",
              "      box-shadow: 0px 1px 2px rgba(60, 64, 67, 0.3), 0px 1px 3px 1px rgba(60, 64, 67, 0.15);\n",
              "      fill: #174EA6;\n",
              "    }\n",
              "\n",
              "    [theme=dark] .colab-df-convert {\n",
              "      background-color: #3B4455;\n",
              "      fill: #D2E3FC;\n",
              "    }\n",
              "\n",
              "    [theme=dark] .colab-df-convert:hover {\n",
              "      background-color: #434B5C;\n",
              "      box-shadow: 0px 1px 3px 1px rgba(0, 0, 0, 0.15);\n",
              "      filter: drop-shadow(0px 1px 2px rgba(0, 0, 0, 0.3));\n",
              "      fill: #FFFFFF;\n",
              "    }\n",
              "  </style>\n",
              "\n",
              "      <script>\n",
              "        const buttonEl =\n",
              "          document.querySelector('#df-8d6e3fe4-b37b-40ee-8967-560b4cb8f4e2 button.colab-df-convert');\n",
              "        buttonEl.style.display =\n",
              "          google.colab.kernel.accessAllowed ? 'block' : 'none';\n",
              "\n",
              "        async function convertToInteractive(key) {\n",
              "          const element = document.querySelector('#df-8d6e3fe4-b37b-40ee-8967-560b4cb8f4e2');\n",
              "          const dataTable =\n",
              "            await google.colab.kernel.invokeFunction('convertToInteractive',\n",
              "                                                     [key], {});\n",
              "          if (!dataTable) return;\n",
              "\n",
              "          const docLinkHtml = 'Like what you see? Visit the ' +\n",
              "            '<a target=\"_blank\" href=https://colab.research.google.com/notebooks/data_table.ipynb>data table notebook</a>'\n",
              "            + ' to learn more about interactive tables.';\n",
              "          element.innerHTML = '';\n",
              "          dataTable['output_type'] = 'display_data';\n",
              "          await google.colab.output.renderOutput(dataTable, element);\n",
              "          const docLink = document.createElement('div');\n",
              "          docLink.innerHTML = docLinkHtml;\n",
              "          element.appendChild(docLink);\n",
              "        }\n",
              "      </script>\n",
              "    </div>\n",
              "  </div>\n",
              "  "
            ]
          },
          "metadata": {},
          "execution_count": 36
        }
      ]
    },
    {
      "cell_type": "markdown",
      "source": [
        "Lastly, we can join the two dataframes side by side to create out final result!"
      ],
      "metadata": {
        "id": "3VEi_FuBQfzs"
      }
    },
    {
      "cell_type": "code",
      "source": [
        "company_df = pd.concat([df, df2], axis=1)"
      ],
      "metadata": {
        "id": "R2z4tcsRYmhv"
      },
      "execution_count": 37,
      "outputs": []
    },
    {
      "cell_type": "code",
      "source": [
        "company_df"
      ],
      "metadata": {
        "colab": {
          "base_uri": "https://localhost:8080/",
          "height": 423
        },
        "id": "LVq6r4RbYwJa",
        "outputId": "f1cf9ce4-b6dc-41fa-abcf-02c9637748e1"
      },
      "execution_count": 38,
      "outputs": [
        {
          "output_type": "execute_result",
          "data": {
            "text/plain": [
              "    company_names_lst company_code_lst market_cap_lst  \\\n",
              "0               Apple             AAPL       $2.729 T   \n",
              "1           Microsoft             MSFT       $2.146 T   \n",
              "2   Alphabet (Google)             GOOG       $1.691 T   \n",
              "3              Amazon             AMZN       $1.566 T   \n",
              "4               Tesla             TSLA       $1.009 T   \n",
              "..                ...              ...            ...   \n",
              "95              Cigna               CI       $85.60 B   \n",
              "96          CME Group              CME       $84.89 B   \n",
              "97     Analog Devices              ADI       $84.45 B   \n",
              "98     HCA Healthcare              HCA       $83.10 B   \n",
              "99  Micron Technology               MU       $81.74 B   \n",
              "\n",
              "                           industries_for_company_lst overall_rating  \\\n",
              "0   [Tech, Software, Dow jones, Tech Hardware, Ele...            4.2   \n",
              "1            [Software, Tech, Dow jones, Video games]            4.2   \n",
              "2      [Internet, Tech, Software, Autonomous driving]            4.3   \n",
              "3                [E-Commerce, Internet, Tech, Retail]            3.4   \n",
              "4   [Automakers, Tech, Electric Vehicles, Bitcoin,...            3.4   \n",
              "..                                                ...            ...   \n",
              "95                                        [Insurance]            3.7   \n",
              "96  [Stock exchanges, Financial services, Stock/Cr...            4.1   \n",
              "97              [Semiconductors, Tech, Manufacturing]            3.9   \n",
              "98                                       [Healthcare]            3.5   \n",
              "99              [Tech, Tech Hardware, Semiconductors]            3.7   \n",
              "\n",
              "   num_reviews                    num_reviews_dist work_life_balance  \\\n",
              "0         5.3K        [5.3K, 3.1K, 1.6K, 493, 364]               3.8   \n",
              "1         3.5K        [3.5K, 2.4K, 1.1K, 260, 152]               3.9   \n",
              "2         2.3K          [2.3K, 1.1K, 473, 122, 92]               4.2   \n",
              "3        22.9K  [22.9K, 20.4K, 18.4K, 8.7K, 10.7K]               3.2   \n",
              "4         1.4K        [1.4K, 1.3K, 1.1K, 596, 661]               3.0   \n",
              "..         ...                                 ...               ...   \n",
              "95        1.5K         [1.5K, 1.4K, 985, 412, 437]               3.6   \n",
              "96         102                [102, 86, 40, 10, 7]               3.9   \n",
              "97         271             [271, 274, 158, 51, 34]               3.8   \n",
              "98         761           [761, 720, 561, 255, 321]               3.4   \n",
              "99         324             [324, 364, 254, 95, 63]               3.5   \n",
              "\n",
              "   compensation_benefits job_security_advancements management culture  \n",
              "0                    4.1                       3.7        3.7     4.1  \n",
              "1                    4.1                       3.5        3.6     4.0  \n",
              "2                    4.1                       3.7        3.9     4.2  \n",
              "3                    3.7                       3.1        3.0     3.3  \n",
              "4                    3.6                       2.8        2.9     3.3  \n",
              "..                   ...                       ...        ...     ...  \n",
              "95                   3.6                       3.2        3.3     3.5  \n",
              "96                   4.1                       3.5        3.5     3.7  \n",
              "97                   3.8                       3.5        3.5     3.7  \n",
              "98                   3.5                       3.2        3.1     3.3  \n",
              "99                   3.8                       3.2        3.2     3.4  \n",
              "\n",
              "[100 rows x 12 columns]"
            ],
            "text/html": [
              "\n",
              "  <div id=\"df-e3e95896-b985-4706-82d0-db19184b407d\">\n",
              "    <div class=\"colab-df-container\">\n",
              "      <div>\n",
              "<style scoped>\n",
              "    .dataframe tbody tr th:only-of-type {\n",
              "        vertical-align: middle;\n",
              "    }\n",
              "\n",
              "    .dataframe tbody tr th {\n",
              "        vertical-align: top;\n",
              "    }\n",
              "\n",
              "    .dataframe thead th {\n",
              "        text-align: right;\n",
              "    }\n",
              "</style>\n",
              "<table border=\"1\" class=\"dataframe\">\n",
              "  <thead>\n",
              "    <tr style=\"text-align: right;\">\n",
              "      <th></th>\n",
              "      <th>company_names_lst</th>\n",
              "      <th>company_code_lst</th>\n",
              "      <th>market_cap_lst</th>\n",
              "      <th>industries_for_company_lst</th>\n",
              "      <th>overall_rating</th>\n",
              "      <th>num_reviews</th>\n",
              "      <th>num_reviews_dist</th>\n",
              "      <th>work_life_balance</th>\n",
              "      <th>compensation_benefits</th>\n",
              "      <th>job_security_advancements</th>\n",
              "      <th>management</th>\n",
              "      <th>culture</th>\n",
              "    </tr>\n",
              "  </thead>\n",
              "  <tbody>\n",
              "    <tr>\n",
              "      <th>0</th>\n",
              "      <td>Apple</td>\n",
              "      <td>AAPL</td>\n",
              "      <td>$2.729 T</td>\n",
              "      <td>[Tech, Software, Dow jones, Tech Hardware, Ele...</td>\n",
              "      <td>4.2</td>\n",
              "      <td>5.3K</td>\n",
              "      <td>[5.3K, 3.1K, 1.6K, 493, 364]</td>\n",
              "      <td>3.8</td>\n",
              "      <td>4.1</td>\n",
              "      <td>3.7</td>\n",
              "      <td>3.7</td>\n",
              "      <td>4.1</td>\n",
              "    </tr>\n",
              "    <tr>\n",
              "      <th>1</th>\n",
              "      <td>Microsoft</td>\n",
              "      <td>MSFT</td>\n",
              "      <td>$2.146 T</td>\n",
              "      <td>[Software, Tech, Dow jones, Video games]</td>\n",
              "      <td>4.2</td>\n",
              "      <td>3.5K</td>\n",
              "      <td>[3.5K, 2.4K, 1.1K, 260, 152]</td>\n",
              "      <td>3.9</td>\n",
              "      <td>4.1</td>\n",
              "      <td>3.5</td>\n",
              "      <td>3.6</td>\n",
              "      <td>4.0</td>\n",
              "    </tr>\n",
              "    <tr>\n",
              "      <th>2</th>\n",
              "      <td>Alphabet (Google)</td>\n",
              "      <td>GOOG</td>\n",
              "      <td>$1.691 T</td>\n",
              "      <td>[Internet, Tech, Software, Autonomous driving]</td>\n",
              "      <td>4.3</td>\n",
              "      <td>2.3K</td>\n",
              "      <td>[2.3K, 1.1K, 473, 122, 92]</td>\n",
              "      <td>4.2</td>\n",
              "      <td>4.1</td>\n",
              "      <td>3.7</td>\n",
              "      <td>3.9</td>\n",
              "      <td>4.2</td>\n",
              "    </tr>\n",
              "    <tr>\n",
              "      <th>3</th>\n",
              "      <td>Amazon</td>\n",
              "      <td>AMZN</td>\n",
              "      <td>$1.566 T</td>\n",
              "      <td>[E-Commerce, Internet, Tech, Retail]</td>\n",
              "      <td>3.4</td>\n",
              "      <td>22.9K</td>\n",
              "      <td>[22.9K, 20.4K, 18.4K, 8.7K, 10.7K]</td>\n",
              "      <td>3.2</td>\n",
              "      <td>3.7</td>\n",
              "      <td>3.1</td>\n",
              "      <td>3.0</td>\n",
              "      <td>3.3</td>\n",
              "    </tr>\n",
              "    <tr>\n",
              "      <th>4</th>\n",
              "      <td>Tesla</td>\n",
              "      <td>TSLA</td>\n",
              "      <td>$1.009 T</td>\n",
              "      <td>[Automakers, Tech, Electric Vehicles, Bitcoin,...</td>\n",
              "      <td>3.4</td>\n",
              "      <td>1.4K</td>\n",
              "      <td>[1.4K, 1.3K, 1.1K, 596, 661]</td>\n",
              "      <td>3.0</td>\n",
              "      <td>3.6</td>\n",
              "      <td>2.8</td>\n",
              "      <td>2.9</td>\n",
              "      <td>3.3</td>\n",
              "    </tr>\n",
              "    <tr>\n",
              "      <th>...</th>\n",
              "      <td>...</td>\n",
              "      <td>...</td>\n",
              "      <td>...</td>\n",
              "      <td>...</td>\n",
              "      <td>...</td>\n",
              "      <td>...</td>\n",
              "      <td>...</td>\n",
              "      <td>...</td>\n",
              "      <td>...</td>\n",
              "      <td>...</td>\n",
              "      <td>...</td>\n",
              "      <td>...</td>\n",
              "    </tr>\n",
              "    <tr>\n",
              "      <th>95</th>\n",
              "      <td>Cigna</td>\n",
              "      <td>CI</td>\n",
              "      <td>$85.60 B</td>\n",
              "      <td>[Insurance]</td>\n",
              "      <td>3.7</td>\n",
              "      <td>1.5K</td>\n",
              "      <td>[1.5K, 1.4K, 985, 412, 437]</td>\n",
              "      <td>3.6</td>\n",
              "      <td>3.6</td>\n",
              "      <td>3.2</td>\n",
              "      <td>3.3</td>\n",
              "      <td>3.5</td>\n",
              "    </tr>\n",
              "    <tr>\n",
              "      <th>96</th>\n",
              "      <td>CME Group</td>\n",
              "      <td>CME</td>\n",
              "      <td>$84.89 B</td>\n",
              "      <td>[Stock exchanges, Financial services, Stock/Cr...</td>\n",
              "      <td>4.1</td>\n",
              "      <td>102</td>\n",
              "      <td>[102, 86, 40, 10, 7]</td>\n",
              "      <td>3.9</td>\n",
              "      <td>4.1</td>\n",
              "      <td>3.5</td>\n",
              "      <td>3.5</td>\n",
              "      <td>3.7</td>\n",
              "    </tr>\n",
              "    <tr>\n",
              "      <th>97</th>\n",
              "      <td>Analog Devices</td>\n",
              "      <td>ADI</td>\n",
              "      <td>$84.45 B</td>\n",
              "      <td>[Semiconductors, Tech, Manufacturing]</td>\n",
              "      <td>3.9</td>\n",
              "      <td>271</td>\n",
              "      <td>[271, 274, 158, 51, 34]</td>\n",
              "      <td>3.8</td>\n",
              "      <td>3.8</td>\n",
              "      <td>3.5</td>\n",
              "      <td>3.5</td>\n",
              "      <td>3.7</td>\n",
              "    </tr>\n",
              "    <tr>\n",
              "      <th>98</th>\n",
              "      <td>HCA Healthcare</td>\n",
              "      <td>HCA</td>\n",
              "      <td>$83.10 B</td>\n",
              "      <td>[Healthcare]</td>\n",
              "      <td>3.5</td>\n",
              "      <td>761</td>\n",
              "      <td>[761, 720, 561, 255, 321]</td>\n",
              "      <td>3.4</td>\n",
              "      <td>3.5</td>\n",
              "      <td>3.2</td>\n",
              "      <td>3.1</td>\n",
              "      <td>3.3</td>\n",
              "    </tr>\n",
              "    <tr>\n",
              "      <th>99</th>\n",
              "      <td>Micron Technology</td>\n",
              "      <td>MU</td>\n",
              "      <td>$81.74 B</td>\n",
              "      <td>[Tech, Tech Hardware, Semiconductors]</td>\n",
              "      <td>3.7</td>\n",
              "      <td>324</td>\n",
              "      <td>[324, 364, 254, 95, 63]</td>\n",
              "      <td>3.5</td>\n",
              "      <td>3.8</td>\n",
              "      <td>3.2</td>\n",
              "      <td>3.2</td>\n",
              "      <td>3.4</td>\n",
              "    </tr>\n",
              "  </tbody>\n",
              "</table>\n",
              "<p>100 rows × 12 columns</p>\n",
              "</div>\n",
              "      <button class=\"colab-df-convert\" onclick=\"convertToInteractive('df-e3e95896-b985-4706-82d0-db19184b407d')\"\n",
              "              title=\"Convert this dataframe to an interactive table.\"\n",
              "              style=\"display:none;\">\n",
              "        \n",
              "  <svg xmlns=\"http://www.w3.org/2000/svg\" height=\"24px\"viewBox=\"0 0 24 24\"\n",
              "       width=\"24px\">\n",
              "    <path d=\"M0 0h24v24H0V0z\" fill=\"none\"/>\n",
              "    <path d=\"M18.56 5.44l.94 2.06.94-2.06 2.06-.94-2.06-.94-.94-2.06-.94 2.06-2.06.94zm-11 1L8.5 8.5l.94-2.06 2.06-.94-2.06-.94L8.5 2.5l-.94 2.06-2.06.94zm10 10l.94 2.06.94-2.06 2.06-.94-2.06-.94-.94-2.06-.94 2.06-2.06.94z\"/><path d=\"M17.41 7.96l-1.37-1.37c-.4-.4-.92-.59-1.43-.59-.52 0-1.04.2-1.43.59L10.3 9.45l-7.72 7.72c-.78.78-.78 2.05 0 2.83L4 21.41c.39.39.9.59 1.41.59.51 0 1.02-.2 1.41-.59l7.78-7.78 2.81-2.81c.8-.78.8-2.07 0-2.86zM5.41 20L4 18.59l7.72-7.72 1.47 1.35L5.41 20z\"/>\n",
              "  </svg>\n",
              "      </button>\n",
              "      \n",
              "  <style>\n",
              "    .colab-df-container {\n",
              "      display:flex;\n",
              "      flex-wrap:wrap;\n",
              "      gap: 12px;\n",
              "    }\n",
              "\n",
              "    .colab-df-convert {\n",
              "      background-color: #E8F0FE;\n",
              "      border: none;\n",
              "      border-radius: 50%;\n",
              "      cursor: pointer;\n",
              "      display: none;\n",
              "      fill: #1967D2;\n",
              "      height: 32px;\n",
              "      padding: 0 0 0 0;\n",
              "      width: 32px;\n",
              "    }\n",
              "\n",
              "    .colab-df-convert:hover {\n",
              "      background-color: #E2EBFA;\n",
              "      box-shadow: 0px 1px 2px rgba(60, 64, 67, 0.3), 0px 1px 3px 1px rgba(60, 64, 67, 0.15);\n",
              "      fill: #174EA6;\n",
              "    }\n",
              "\n",
              "    [theme=dark] .colab-df-convert {\n",
              "      background-color: #3B4455;\n",
              "      fill: #D2E3FC;\n",
              "    }\n",
              "\n",
              "    [theme=dark] .colab-df-convert:hover {\n",
              "      background-color: #434B5C;\n",
              "      box-shadow: 0px 1px 3px 1px rgba(0, 0, 0, 0.15);\n",
              "      filter: drop-shadow(0px 1px 2px rgba(0, 0, 0, 0.3));\n",
              "      fill: #FFFFFF;\n",
              "    }\n",
              "  </style>\n",
              "\n",
              "      <script>\n",
              "        const buttonEl =\n",
              "          document.querySelector('#df-e3e95896-b985-4706-82d0-db19184b407d button.colab-df-convert');\n",
              "        buttonEl.style.display =\n",
              "          google.colab.kernel.accessAllowed ? 'block' : 'none';\n",
              "\n",
              "        async function convertToInteractive(key) {\n",
              "          const element = document.querySelector('#df-e3e95896-b985-4706-82d0-db19184b407d');\n",
              "          const dataTable =\n",
              "            await google.colab.kernel.invokeFunction('convertToInteractive',\n",
              "                                                     [key], {});\n",
              "          if (!dataTable) return;\n",
              "\n",
              "          const docLinkHtml = 'Like what you see? Visit the ' +\n",
              "            '<a target=\"_blank\" href=https://colab.research.google.com/notebooks/data_table.ipynb>data table notebook</a>'\n",
              "            + ' to learn more about interactive tables.';\n",
              "          element.innerHTML = '';\n",
              "          dataTable['output_type'] = 'display_data';\n",
              "          await google.colab.output.renderOutput(dataTable, element);\n",
              "          const docLink = document.createElement('div');\n",
              "          docLink.innerHTML = docLinkHtml;\n",
              "          element.appendChild(docLink);\n",
              "        }\n",
              "      </script>\n",
              "    </div>\n",
              "  </div>\n",
              "  "
            ]
          },
          "metadata": {},
          "execution_count": 38
        }
      ]
    },
    {
      "cell_type": "code",
      "source": [
        "company_df.to_csv(\"company_df.csv\")"
      ],
      "metadata": {
        "id": "CMZwWfsMZrKW"
      },
      "execution_count": 39,
      "outputs": []
    },
    {
      "cell_type": "markdown",
      "source": [
        "Notice how our dataset is very messy, we now have to go fourth with the rest of the Data Science pipeline and clean the dataset."
      ],
      "metadata": {
        "id": "ajDJFCYeQmiR"
      }
    },
    {
      "cell_type": "markdown",
      "source": [
        "# Practice Question\n",
        "\n",
        "## WebScrape \"Google\" from [https://www.google.com/](https://www.google.com/)\n",
        "\n",
        "![image.png](data:image/png;base64,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)\n",
        "\n",
        "\n",
        "The `Google` logo up above."
      ],
      "metadata": {
        "id": "Zi7cpDU5cPkY"
      }
    }
  ]
}