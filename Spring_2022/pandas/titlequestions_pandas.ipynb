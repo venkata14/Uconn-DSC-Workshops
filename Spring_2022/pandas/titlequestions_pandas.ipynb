{
  "nbformat": 4,
  "nbformat_minor": 0,
  "metadata": {
    "colab": {
      "name": "titlequestions_pandas.ipynb",
      "provenance": []
    },
    "kernelspec": {
      "name": "python3",
      "display_name": "Python 3"
    },
    "language_info": {
      "name": "python"
    }
  },
  "cells": [
    {
      "cell_type": "code",
      "execution_count": 56,
      "metadata": {
        "id": "Ncenpam5zcQJ"
      },
      "outputs": [],
      "source": [
        "import pandas as pd\n",
        "import numpy as np\n",
        "from numpy import random\n",
        "import seaborn as sns\n",
        "pd.set_option('display.max_rows', None)\n",
        "pd.set_option('display.max_columns', None)\n",
        "pd.set_option('display.width', 100)\n",
        "pd.set_option('display.colheader_justify', 'center')\n",
        "pd.set_option('display.precision', 3)"
      ]
    },
    {
      "cell_type": "markdown",
      "source": [
        "#Question 1: Filtering \n",
        "Below is a dictionary of column names and values. Create a pandas dataframe called q1df (using this dictionary) and output the sum of all the values in the dataframe that are less that 50."
      ],
      "metadata": {
        "id": "Zv7jOhM-Xnds"
      }
    },
    {
      "cell_type": "code",
      "source": [
        "random.seed(100)\n",
        "d = {\"col1\":random.randint(100, size=(5)).tolist(),\n",
        "     \"col2\": random.randint(100, size=(5)).tolist(),\n",
        "     \"col3\": random.randint(100, size=(5)).tolist(),\n",
        "     \"col4\": random.randint(100, size=(5)).tolist()}\n",
        "#Write your code here"
      ],
      "metadata": {
        "id": "BQygKApkTAOW"
      },
      "execution_count": 136,
      "outputs": []
    },
    {
      "cell_type": "markdown",
      "source": [
        "#Question 2: Standardization and Missing Values\n",
        "Below I have created a dataframe called q2df. This dataframe contains missing values (NaN) and the ranges of the values each column takes differs. For example, the values that col3 takes isbetween 0 and 100000 wile the values col5 take are between 0 and 1. The first step of this question is to fill in the missing values of these columns with the average of the columns.\n",
        "<br> \n",
        "There are many missing values in each column of the q2df dataframe. One way to deal will missing values is to replace them with the average of the column. \n",
        "<br>\n",
        "<br>\n",
        "Question: Using Pandas, replace all missing value with the average of the column values. \n",
        "<br>\n",
        "<br>\n",
        "The second part of this questions is to standardize the values of the dataframe. Standardization is performed to prevent features with wider ranges from dominating the distance metric, to learn more click [here](https://builtin.com/data-science/when-and-why-standardize-your-data). The formula is as follow: \n",
        "<br>\n",
        "<img src=\"https://images.saymedia-content.com/.image/t_share/MTc2NzAzNTQ1ODM0MjE5NDk5/how-to-use-the-standardize-function-in-excel.png\" alt=\"drawing\" width=\"200\"/>\n",
        "<br>\n",
        "Where $Z$ is the standardized value of $x$. While $µ$ and $σ$ are the mean and standard deviation of the values that x can take.\n",
        "<br>\n",
        "Question: Using Pandas, standarize the values of each column. \n",
        "<br>\n",
        "Some useful functions for both questions are - \n",
        "<br>\n",
        "```python\n",
        "df.mean()\n",
        "df.std()\n",
        "df.fillna()\n",
        "```\n",
        "<br>\n",
        "<br>\n"
      ],
      "metadata": {
        "id": "KgxPpHewYixX"
      }
    },
    {
      "cell_type": "code",
      "source": [
        "#standardiztion and missing values\n",
        "random.seed(5)\n",
        "d = {\"col1\":[None]+random.randint(100, size=(5)).tolist() + [None, None] + random.randint(100, size=(2)).tolist(),\n",
        "     \"col2\": random.randint(4, size=(3)).tolist() + [None, None] + random.randint(4, size=(5)).tolist(),\n",
        "     \"col3\": [None] + random.randint(100000, size=(9)).tolist(),\n",
        "     \"col4\": random.randint(525, size=(7)).tolist() + [None, None, None],\n",
        "     \"col5\": random.rand(6).tolist() + [None, None] + random.rand(2).tolist()}\n",
        "\n",
        "q1df = pd.DataFrame(data=d)\n",
        "display(q1df)\n",
        "#write code here"
      ],
      "metadata": {
        "colab": {
          "base_uri": "https://localhost:8080/",
          "height": 363
        },
        "id": "lDTxAMKVzfqR",
        "outputId": "ea4f918e-f60d-481e-eea2-d30845578974"
      },
      "execution_count": 137,
      "outputs": [
        {
          "output_type": "display_data",
          "data": {
            "text/html": [
              "\n",
              "  <div id=\"df-680d84bf-087f-48d5-807f-7df685ff4a1e\">\n",
              "    <div class=\"colab-df-container\">\n",
              "      <div>\n",
              "<style scoped>\n",
              "    .dataframe tbody tr th:only-of-type {\n",
              "        vertical-align: middle;\n",
              "    }\n",
              "\n",
              "    .dataframe tbody tr th {\n",
              "        vertical-align: top;\n",
              "    }\n",
              "\n",
              "    .dataframe thead th {\n",
              "        text-align: right;\n",
              "    }\n",
              "</style>\n",
              "<table border=\"1\" class=\"dataframe\">\n",
              "  <thead>\n",
              "    <tr style=\"text-align: center;\">\n",
              "      <th></th>\n",
              "      <th>col1</th>\n",
              "      <th>col2</th>\n",
              "      <th>col3</th>\n",
              "      <th>col4</th>\n",
              "      <th>col5</th>\n",
              "    </tr>\n",
              "  </thead>\n",
              "  <tbody>\n",
              "    <tr>\n",
              "      <th>0</th>\n",
              "      <td>NaN</td>\n",
              "      <td>3.0</td>\n",
              "      <td>NaN</td>\n",
              "      <td>146.0</td>\n",
              "      <td>0.015</td>\n",
              "    </tr>\n",
              "    <tr>\n",
              "      <th>1</th>\n",
              "      <td>99.0</td>\n",
              "      <td>0.0</td>\n",
              "      <td>95669.0</td>\n",
              "      <td>254.0</td>\n",
              "      <td>0.093</td>\n",
              "    </tr>\n",
              "    <tr>\n",
              "      <th>2</th>\n",
              "      <td>78.0</td>\n",
              "      <td>2.0</td>\n",
              "      <td>61415.0</td>\n",
              "      <td>377.0</td>\n",
              "      <td>0.827</td>\n",
              "    </tr>\n",
              "    <tr>\n",
              "      <th>3</th>\n",
              "      <td>61.0</td>\n",
              "      <td>NaN</td>\n",
              "      <td>27728.0</td>\n",
              "      <td>362.0</td>\n",
              "      <td>0.833</td>\n",
              "    </tr>\n",
              "    <tr>\n",
              "      <th>4</th>\n",
              "      <td>16.0</td>\n",
              "      <td>NaN</td>\n",
              "      <td>63515.0</td>\n",
              "      <td>41.0</td>\n",
              "      <td>0.892</td>\n",
              "    </tr>\n",
              "    <tr>\n",
              "      <th>5</th>\n",
              "      <td>73.0</td>\n",
              "      <td>0.0</td>\n",
              "      <td>73933.0</td>\n",
              "      <td>446.0</td>\n",
              "      <td>0.958</td>\n",
              "    </tr>\n",
              "    <tr>\n",
              "      <th>6</th>\n",
              "      <td>NaN</td>\n",
              "      <td>3.0</td>\n",
              "      <td>65227.0</td>\n",
              "      <td>210.0</td>\n",
              "      <td>NaN</td>\n",
              "    </tr>\n",
              "    <tr>\n",
              "      <th>7</th>\n",
              "      <td>NaN</td>\n",
              "      <td>0.0</td>\n",
              "      <td>34772.0</td>\n",
              "      <td>NaN</td>\n",
              "      <td>NaN</td>\n",
              "    </tr>\n",
              "    <tr>\n",
              "      <th>8</th>\n",
              "      <td>8.0</td>\n",
              "      <td>3.0</td>\n",
              "      <td>97366.0</td>\n",
              "      <td>NaN</td>\n",
              "      <td>0.561</td>\n",
              "    </tr>\n",
              "    <tr>\n",
              "      <th>9</th>\n",
              "      <td>62.0</td>\n",
              "      <td>1.0</td>\n",
              "      <td>85629.0</td>\n",
              "      <td>NaN</td>\n",
              "      <td>0.091</td>\n",
              "    </tr>\n",
              "  </tbody>\n",
              "</table>\n",
              "</div>\n",
              "      <button class=\"colab-df-convert\" onclick=\"convertToInteractive('df-680d84bf-087f-48d5-807f-7df685ff4a1e')\"\n",
              "              title=\"Convert this dataframe to an interactive table.\"\n",
              "              style=\"display:none;\">\n",
              "        \n",
              "  <svg xmlns=\"http://www.w3.org/2000/svg\" height=\"24px\"viewBox=\"0 0 24 24\"\n",
              "       width=\"24px\">\n",
              "    <path d=\"M0 0h24v24H0V0z\" fill=\"none\"/>\n",
              "    <path d=\"M18.56 5.44l.94 2.06.94-2.06 2.06-.94-2.06-.94-.94-2.06-.94 2.06-2.06.94zm-11 1L8.5 8.5l.94-2.06 2.06-.94-2.06-.94L8.5 2.5l-.94 2.06-2.06.94zm10 10l.94 2.06.94-2.06 2.06-.94-2.06-.94-.94-2.06-.94 2.06-2.06.94z\"/><path d=\"M17.41 7.96l-1.37-1.37c-.4-.4-.92-.59-1.43-.59-.52 0-1.04.2-1.43.59L10.3 9.45l-7.72 7.72c-.78.78-.78 2.05 0 2.83L4 21.41c.39.39.9.59 1.41.59.51 0 1.02-.2 1.41-.59l7.78-7.78 2.81-2.81c.8-.78.8-2.07 0-2.86zM5.41 20L4 18.59l7.72-7.72 1.47 1.35L5.41 20z\"/>\n",
              "  </svg>\n",
              "      </button>\n",
              "      \n",
              "  <style>\n",
              "    .colab-df-container {\n",
              "      display:flex;\n",
              "      flex-wrap:wrap;\n",
              "      gap: 12px;\n",
              "    }\n",
              "\n",
              "    .colab-df-convert {\n",
              "      background-color: #E8F0FE;\n",
              "      border: none;\n",
              "      border-radius: 50%;\n",
              "      cursor: pointer;\n",
              "      display: none;\n",
              "      fill: #1967D2;\n",
              "      height: 32px;\n",
              "      padding: 0 0 0 0;\n",
              "      width: 32px;\n",
              "    }\n",
              "\n",
              "    .colab-df-convert:hover {\n",
              "      background-color: #E2EBFA;\n",
              "      box-shadow: 0px 1px 2px rgba(60, 64, 67, 0.3), 0px 1px 3px 1px rgba(60, 64, 67, 0.15);\n",
              "      fill: #174EA6;\n",
              "    }\n",
              "\n",
              "    [theme=dark] .colab-df-convert {\n",
              "      background-color: #3B4455;\n",
              "      fill: #D2E3FC;\n",
              "    }\n",
              "\n",
              "    [theme=dark] .colab-df-convert:hover {\n",
              "      background-color: #434B5C;\n",
              "      box-shadow: 0px 1px 3px 1px rgba(0, 0, 0, 0.15);\n",
              "      filter: drop-shadow(0px 1px 2px rgba(0, 0, 0, 0.3));\n",
              "      fill: #FFFFFF;\n",
              "    }\n",
              "  </style>\n",
              "\n",
              "      <script>\n",
              "        const buttonEl =\n",
              "          document.querySelector('#df-680d84bf-087f-48d5-807f-7df685ff4a1e button.colab-df-convert');\n",
              "        buttonEl.style.display =\n",
              "          google.colab.kernel.accessAllowed ? 'block' : 'none';\n",
              "\n",
              "        async function convertToInteractive(key) {\n",
              "          const element = document.querySelector('#df-680d84bf-087f-48d5-807f-7df685ff4a1e');\n",
              "          const dataTable =\n",
              "            await google.colab.kernel.invokeFunction('convertToInteractive',\n",
              "                                                     [key], {});\n",
              "          if (!dataTable) return;\n",
              "\n",
              "          const docLinkHtml = 'Like what you see? Visit the ' +\n",
              "            '<a target=\"_blank\" href=https://colab.research.google.com/notebooks/data_table.ipynb>data table notebook</a>'\n",
              "            + ' to learn more about interactive tables.';\n",
              "          element.innerHTML = '';\n",
              "          dataTable['output_type'] = 'display_data';\n",
              "          await google.colab.output.renderOutput(dataTable, element);\n",
              "          const docLink = document.createElement('div');\n",
              "          docLink.innerHTML = docLinkHtml;\n",
              "          element.appendChild(docLink);\n",
              "        }\n",
              "      </script>\n",
              "    </div>\n",
              "  </div>\n",
              "  "
            ],
            "text/plain": [
              "   col1  col2   col3    col4   col5 \n",
              "0   NaN   3.0      NaN  146.0  0.015\n",
              "1  99.0   0.0  95669.0  254.0  0.093\n",
              "2  78.0   2.0  61415.0  377.0  0.827\n",
              "3  61.0   NaN  27728.0  362.0  0.833\n",
              "4  16.0   NaN  63515.0   41.0  0.892\n",
              "5  73.0   0.0  73933.0  446.0  0.958\n",
              "6   NaN   3.0  65227.0  210.0    NaN\n",
              "7   NaN   0.0  34772.0    NaN    NaN\n",
              "8   8.0   3.0  97366.0    NaN  0.561\n",
              "9  62.0   1.0  85629.0    NaN  0.091"
            ]
          },
          "metadata": {}
        }
      ]
    },
    {
      "cell_type": "markdown",
      "source": [
        "#Question 3: Fill In The Blank\n",
        "The following has code that should output a heatmap that looks like the one on the bottom (take a screenshot of it so you do not loose it!)\n",
        "<br>\n",
        "Fill in the blanks to output this heatmap. You wont need to add any extra lines. All the values should be between 0 and 500 and the size of the dataframe should be 13 x 6."
      ],
      "metadata": {
        "id": "rY9qwpRNc7f0"
      }
    },
    {
      "cell_type": "code",
      "source": [
        "random.seed(10)\n",
        "l1 = random.randint(___, size=(6))\n",
        "q2df = pd.DataFrame(data={\"col1\":l1})\n",
        "for i in range(2,7):\n",
        "  templst = [str(x) for x in random.randint(random.randint(___), size=(6))]\n",
        "  q2df[f\"col{_}\"] = _____\n",
        "for i in range(_):\n",
        "  templst = [str(x) for x in random.randint(random.randint(___), size=(6))]\n",
        "  q2df.___[len(___)] = _____\n",
        "for col in q2df.______.tolist():\n",
        "  q2df____ = q2df[col]._____(float)\n",
        "\n",
        "sns.heatmap(q2df._____)"
      ],
      "metadata": {
        "colab": {
          "base_uri": "https://localhost:8080/",
          "height": 286
        },
        "id": "gAXkhRPJ4XZj",
        "outputId": "37dacd99-7c6d-4151-efa7-40fd219e4092"
      },
      "execution_count": 135,
      "outputs": [
        {
          "output_type": "execute_result",
          "data": {
            "text/plain": [
              "<matplotlib.axes._subplots.AxesSubplot at 0x7f5c07e832d0>"
            ]
          },
          "metadata": {},
          "execution_count": 135
        },
        {
          "output_type": "display_data",
          "data": {
            "image/png": "[encoded data removed]",
            "text/plain": [
              "<Figure size 432x288 with 2 Axes>"
            ]
          },
          "metadata": {
            "needs_background": "light"
          }
        }
      ]
    },
    {
      "cell_type": "code",
      "source": [
        ""
      ],
      "metadata": {
        "id": "HD6p2NnyQPmI"
      },
      "execution_count": null,
      "outputs": []
    }
  ]
}