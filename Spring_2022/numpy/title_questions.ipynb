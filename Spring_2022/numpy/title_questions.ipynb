{
  "cells": [
    {
      "cell_type": "markdown",
      "metadata": {
        "id": "s0_5ZmgiFSXh"
      },
      "source": [
        "# NumPy Title Questions\n",
        "\n",
        "This notebook contains the 3 questions for the Uconn Data Science Club \"titles\"\n",
        "- If you do not understand these questions of do not know how to some of these problems, please ask us or work with others on discord\n",
        "- We will given the solutions next week\n",
        "- Note: If you are able to solve all three problems, you will become real well versed in NumPy."
      ]
    },
    {
      "cell_type": "code",
      "execution_count": null,
      "metadata": {
        "id": "PiYbOQBEAvgw"
      },
      "outputs": [],
      "source": [
        "import numpy as np\n",
        "from numpy.lib.scimath import sqrt as csqrt\n",
        "import random\n",
        "import time"
      ]
    },
    {
      "cell_type": "markdown",
      "metadata": {
        "id": "zNI2g4ylFSX3"
      },
      "source": [
        "---"
      ]
    },
    {
      "cell_type": "markdown",
      "metadata": {
        "id": "WnM6DLF0-Vk2"
      },
      "source": [
        "# Level 1 Question: Matrix Multiplication\n",
        "\n",
        "Question: Given three lists (list1, list2 & list3), create the matrix below. \n",
        "\n",
        "$\n",
        "output matrix =\n",
        " \\begin{pmatrix}\n",
        "  161 & 203\\\\\n",
        "  154 & 167\\\\\n",
        " \\end{pmatrix}\n",
        "$ \n",
        "<br />\n",
        "\n",
        "#### Useful functions:\n",
        "```python\n",
        "np.array() #Hint: this function can be used to convert a python list to a numpy array\n",
        "np.reshape() \n",
        "np.dot()\n",
        " ```\n",
        "\n",
        "Hint: You need to reshape the 'lists' and multiply them in a specific order. The dimensions of the first matrix you create should be (2,3). Notice how the output should have a dimention of (2,2). Also remember that you can only multiply two matricies if the number of columns of the first matrix is equal to the number of rows of the second matrix."
      ]
    },
    {
      "cell_type": "code",
      "execution_count": null,
      "metadata": {
        "id": "sZtDRXkZ_j_m"
      },
      "outputs": [],
      "source": [
        "list1 = [3,6,5,2,9,0]\n",
        "list2 = [2,8,2,7,1,9]\n",
        "list3 = [7,4,0,1]\n",
        "# Write code here"
      ]
    },
    {
      "cell_type": "markdown",
      "metadata": {
        "id": "Z4nBfkhJFSX-"
      },
      "source": [
        "---"
      ]
    },
    {
      "cell_type": "markdown",
      "metadata": {
        "id": "5Wh4KJhyEgOk"
      },
      "source": [
        "# Level 2 Question: Dynammic Programming w/ Numpy\n",
        "\n",
        "### For those who do not know dynamic programming, here is a quick introduction\n",
        "Dynammic Programming is an algorthimic technique that allows you to solve problems through the solutions of sub problems.\n",
        "<br>\n",
        "Take for example the fibonacci sequence given by the formula:\n",
        "\n",
        "<img src=\"https://images.ctfassets.net/3s5io6mnxfqz/7whl3QX652UcMHYW55IZfy/248814801a399bea7797c7eb12f7ff83/Screen_Shot_2020-10-14_at_1.57.52_PM.png?fm=jpg&w=800&fl=progressive\" width=\"150\"/>\n",
        "\n",
        "This outputs the seqeunce:\n",
        "$0, 1, 1, 2, 3, 5, 8, 13, 12 ...$\n",
        "\n",
        "The python implmentation for the fibonacci sequence is:\n",
        "```python\n",
        "def fib(n):\n",
        "    if n == 1 or n == 2:\n",
        "        return 1\n",
        "    else:\n",
        "        return fib(n-1) + fib(n-2)\n",
        "```\n",
        "\n",
        "This is a recursive implmentation of the fibonacci sequence (since the function calls itself). This however take a very long time to compute when the input (n) get large. This run in exponential time of $2^n$. Click [here](https://evoniuk.github.io/posts/fibonacci.html) to learn and read more about the time complexity of recursive fibonacci. However a quick explination as to why is because every operation calls the function twice. We can represent this is a tree as follows:\n",
        "\n",
        "<img src=\"https://i.stack.imgur.com/7iU1j.png\" width=\"400\"/>\n",
        "\n",
        "Notice how everytime $fib(n)$ is called, $fib(n)$ makes a call to $fib(n-1)$ and $fib(n-2)$\n",
        "\n",
        "Furthermore, notice how certain $fib(n)$ calls are begin requeted. For example, there are 2 calls to $fib(3)$ and 2 calls to $fib(2)$ etc.\n",
        "\n",
        "So fix this problem (since we call the same function multiple times which is one of the reason why the recursive definition is too slow) we implement a dynamic programming approach. We can avoid the repeated work by storing the Fibonacci numbers calculated so far. \n",
        "```python\n",
        "def fib(n):\n",
        "    # Taking 1st two fibonacci numbers as 0 and 1\n",
        "    f = [0, 1]\n",
        "    for i in range(2, n+1):\n",
        "        f.append(f[i-1] + f[i-2]) #we compute the fib seq and store it in the lsit\n",
        "    return f[n]\n",
        "``` \n",
        "This is significantly faster because we solve the probelm of fib(n) by solving the sub problems at lead up to it and then store it. **This is the essense of dynamic programming**. This way we do not need to repeat any calculations. To learn more about why this works click [here](https://iq.opengenus.org/n-th-fibonacci-number-using-dynamic-programming/).\n",
        "\n",
        "### End of review\n",
        "\n",
        "One algorithm used in the field of Natural Language Processing (NLP) is the edit distance algorithm. <b> I will note that before trying this problem you have the get a good understand of this algorithm. So please ask questions! </b> Edit distance is a way of quantifying how dissimilar (or similar) two strings (e.g., words) are to one another by counting the **minimum number of operations required to transform one string into the other string**. The recursive formula for this algorithm is as follows. \n",
        "\n",
        "<img src=\"https://miro.medium.com/max/1094/1*zL9VPl17oeW4hQiph8766g.png\" width=\"400\"/>\n",
        "\n",
        "Essentially, for the dynammic programming implementation of the fibonacci sequence, the sub problems were solved and then stored into a list. However for the edit distance problem the sub problems are solved and stored into a 2D table. For example, given the strings \"ELEPHANT\" and \"RELEVANT\", the edit distance between the two is 3. So there needs to be 3 operations to change the two words into each other. \n",
        "\n",
        "<img src=\"https://www.ritambhara.in/wp-content/uploads/2016/05/min_Edit_Distance_DP_Table.png\" width=\"700\"/>\n",
        "\n",
        "How do we fill out this table using the recursive formula? Watch this [video](https://www.youtube.com/watch?v=We3YDTzNXEk) to learn how. <b> You have to watch this video to solve this problem </b>\n",
        "\n",
        "**Question**: Create a function `edit_distance(string1, string2)` that returns the edit distance of two input strings. Make sure to use numpy functions to solve this.\n",
        "\n",
        "#### Useful functions: \n",
        "```python\n",
        "np.zeros()\n",
        "#accessing elements (splicing) within a numpy arrays is also very useful for solving this\n",
        "```\n"
      ]
    },
    {
      "cell_type": "code",
      "execution_count": null,
      "metadata": {
        "id": "0FVV0APvdZiL"
      },
      "outputs": [],
      "source": [
        "def edit_distance(string1, string2):\n",
        "  pass"
      ]
    },
    {
      "cell_type": "markdown",
      "metadata": {
        "id": "2YVav9YCFSYI"
      },
      "source": [
        "---"
      ]
    },
    {
      "cell_type": "markdown",
      "metadata": {
        "id": "3xf782BQVBhk"
      },
      "source": [
        "# Level 3 Question: Vectorized Implementation of the Discrete Fourier Transform (DFT)\n",
        "\n",
        "For the purposes of solving this question you do not actually need to know what the DFT is, however if you are curious you can read more about [here](https://www.robots.ox.ac.uk/~sjrob/Teaching/SP/l7.pdf) and watch this [video](https://www.youtube.com/watch?v=nl9TZanwbBk) to get a better inutition.\n",
        "\n",
        "The formula for the DFT is given as follows:\n",
        "\n",
        "<img src=\"https://images.squarespace-cdn.com/content/v1/5230e9f8e4b06ab69d1d8068/1551062445198-50AWK4MBGTX91T37976R/ke17ZwdGBToddI8pDm48kOxSPJF7C3lryFz4mxjX5pJZw-zPPgdn4jUwVcJE1ZvWEtT5uBSRWt4vQZAgTJucoTqqXjS3CfNDSuuf31e0tVE8Nu52Oe9TYUyuz7ktTIALx4NwD9ndt9IFW3zpxXSc-ltO8nJtk629tZGIWiyY3XQ/discrete+Fourier+transform+formula.PNG?format=500w\" width=\"400\"/>\n",
        "\n",
        "Here, $j = sqrt(-1)$, $N$ is equal to the length of the output vector $X$ which is the same length at the input vector $x$, $X(k)$ denotes the $kth$ position of the output vector $X$\n",
        "\n",
        "**Question**: Below, I have created a vector y of random integers. Understand the attributes of y, and implement a vectorized calculation of the DFT given the above formula.\n",
        "\n",
        "Before you go about this problem, read the code cells below to understand what vectorization is. If you already know then you can skip this."
      ]
    },
    {
      "cell_type": "markdown",
      "metadata": {
        "id": "SXTTkMOyYnIz"
      },
      "source": [
        "## What is vectorization?\n",
        "\n",
        "Vectorization is the process of converting an algorithm from operating on a single value at a time to operating on a set of values at one time.\n",
        "\n",
        "For example, look at the following equation:\n",
        "<br>\n",
        "$\\sum_{i=1}^n x_i + \\sum_{j=1}^n y_j$\n",
        "<br>\n",
        "Where n = len(x) = len(y).\n",
        "<br>\n",
        "One way to calculate this is as follows (run the code cells below)\n"
      ]
    },
    {
      "cell_type": "code",
      "execution_count": null,
      "metadata": {
        "colab": {
          "base_uri": "https://localhost:8080/"
        },
        "id": "IpF3aM2LZgSZ",
        "outputId": "3cd363c0-b71e-4ff2-eb9d-a7c14e6d9b24"
      },
      "outputs": [
        {
          "name": "stdout",
          "output_type": "stream",
          "text": [
            "Result:  4997494489786 And it took:  0.43595242500305176 s\n"
          ]
        }
      ],
      "source": [
        "import random\n",
        "import time\n",
        "random.seed(23)\n",
        "x = random.sample(range(0, 5000000), 1000000)\n",
        "y = random.sample(range(0, 5000000), 1000000)\n",
        "\n",
        "start = time.time()\n",
        "sumx = 0\n",
        "for i in range(0, len(x)):\n",
        "  sumx = sumx + x[i]\n",
        "\n",
        "sumy = 0\n",
        "for i in range(0, len(y)):\n",
        "  sumx = sumx + y[i]\n",
        "\n",
        "res = sumx + sumy\n",
        "\n",
        "end = time.time()\n",
        "print(\"Result: \", res, \"And it took: \", (end - start), \"s\")"
      ]
    },
    {
      "cell_type": "markdown",
      "metadata": {
        "id": "08bCSY68azru"
      },
      "source": [
        "Notice how this nonvectorized (because we are operating on a single value each time) approach took almost a half second to compute.\n",
        "<br>\n",
        "However we can do the exact same computtion much faster with numpy by vectorization (run the code cells below)"
      ]
    },
    {
      "cell_type": "code",
      "execution_count": null,
      "metadata": {
        "colab": {
          "base_uri": "https://localhost:8080/"
        },
        "id": "zacFXubybSXx",
        "outputId": "8ee3cdc4-1eb9-44e2-cca2-7257d62570af"
      },
      "outputs": [
        {
          "name": "stdout",
          "output_type": "stream",
          "text": [
            "Result:  4997494489786 And it took:  0.008933544158935547 s\n"
          ]
        }
      ],
      "source": [
        "start = time.time()\n",
        "x = np.array(x)\n",
        "y = np.array(y)\n",
        "\n",
        "res = np.sum(x) + np.sum(y)\n",
        "\n",
        "end = time.time()\n",
        "print(\"Result: \", res, \"And it took: \", (end - start), \"s\")"
      ]
    },
    {
      "cell_type": "markdown",
      "metadata": {
        "id": "LwXsBnj9b8nQ"
      },
      "source": [
        "This approach was significantly faster and got the same result due to the use of numpy. In Data science this is a very common technique to speed up computation.\n",
        "<br>\n",
        "Below, write a vectorized implementation of the DFT, some useful functions are\n",
        "```python\n",
        "csqrt(-1) #gives you the sqrt(-1) which is j in the DFT formula\n",
        "np.reshape()\n",
        "np.arange()\n",
        "np.multiply()\n",
        "np.sum()\n",
        "np.exp()\n",
        "```\n",
        "<br>\n",
        "You might not need all of these functions and feel free use other functions as well. Also note that the output vector will consist of complex values."
      ]
    },
    {
      "cell_type": "code",
      "execution_count": null,
      "metadata": {
        "id": "j2f9femeN5Z_"
      },
      "outputs": [],
      "source": [
        "np.random.seed(5)\n",
        "y = np.random.randint(200, size=(1, 100))\n",
        "#Write Code here"
      ]
    }
  ],
  "metadata": {
    "colab": {
      "name": "DataScieneNumpyAfterWrkPractice (1).ipynb",
      "provenance": []
    },
    "kernelspec": {
      "display_name": "Python 3",
      "name": "python3"
    },
    "language_info": {
      "name": "python"
    }
  },
  "nbformat": 4,
  "nbformat_minor": 0
}