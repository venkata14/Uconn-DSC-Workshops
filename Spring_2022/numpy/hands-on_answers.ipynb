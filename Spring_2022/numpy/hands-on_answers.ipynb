{
 "cells": [
  {
   "cell_type": "code",
   "execution_count": 10,
   "metadata": {},
   "outputs": [],
   "source": [
    "import numpy as np\n",
    "import random"
   ]
  },
  {
   "cell_type": "markdown",
   "metadata": {},
   "source": [
    "# Question 1\n",
    "> ## Create a Numpy Array named arr that contains every integer from 0 to 100 (inclusive)"
   ]
  },
  {
   "cell_type": "code",
   "execution_count": 4,
   "metadata": {},
   "outputs": [
    {
     "name": "stdout",
     "output_type": "stream",
     "text": [
      "Solution 1:  [  0.   2.   4.   6.   8.  10.  12.  14.  16.  18.  20.  22.  24.  26.\n",
      "  28.  30.  32.  34.  36.  38.  40.  42.  44.  46.  48.  50.  52.  54.\n",
      "  56.  58.  60.  62.  64.  66.  68.  70.  72.  74.  76.  78.  80.  82.\n",
      "  84.  86.  88.  90.  92.  94.  96.  98. 100.]\n",
      "Solution 2:  [  0   2   4   6   8  10  12  14  16  18  20  22  24  26  28  30  32  34\n",
      "  36  38  40  42  44  46  48  50  52  54  56  58  60  62  64  66  68  70\n",
      "  72  74  76  78  80  82  84  86  88  90  92  94  96  98 100]\n",
      "Solution 3:  [  0.   2.   4.   6.   8.  10.  12.  14.  16.  18.  20.  22.  24.  26.\n",
      "  28.  30.  32.  34.  36.  38.  40.  42.  44.  46.  48.  50.  52.  54.\n",
      "  56.  58.  60.  62.  64.  66.  68.  70.  72.  74.  76.  78.  80.  82.\n",
      "  84.  86.  88.  90.  92.  94.  96.  98. 100.]\n"
     ]
    }
   ],
   "source": [
    "# A hardcoded, but inefficient solution\n",
    "arr = np.ones(51)\n",
    "y = 0\n",
    "for i, x in enumerate(arr):\n",
    "  arr[i] = y\n",
    "  y += 2\n",
    "print(\"Solution 1: \", arr)\n",
    "\n",
    "# using numpy features    \n",
    "arr = np.arange(0,102,2)\n",
    "print(\"Solution 2: \", arr)\n",
    "\n",
    "# Alternatively\n",
    "arr = np.linspace(0, 100, 51)\n",
    "print(\"Solution 3: \", arr)"
   ]
  },
  {
   "cell_type": "markdown",
   "metadata": {},
   "source": [
    "# Question 2\n",
    "> ## Reverse the order of arr"
   ]
  },
  {
   "cell_type": "code",
   "execution_count": 9,
   "metadata": {},
   "outputs": [
    {
     "name": "stdout",
     "output_type": "stream",
     "text": [
      "[  0.   2.   4.   6.   8.  10.  12.  14.  16.  18.  20.  22.  24.  26.\n",
      "  28.  30.  32.  34.  36.  38.  40.  42.  44.  46.  48.  50.  52.  54.\n",
      "  56.  58.  60.  62.  64.  66.  68.  70.  72.  74.  76.  78.  80.  82.\n",
      "  84.  86.  88.  90.  92.  94.  96.  98. 100.]\n"
     ]
    }
   ],
   "source": [
    "# A pythonic solution\n",
    "arr = arr[::-1]\n",
    "print(arr)\n",
    "# a solution using numpy features\n",
    "arr = np.flipud(arr)\n",
    "print(arr)\n"
   ]
  },
  {
   "cell_type": "markdown",
   "metadata": {},
   "source": [
    "# Question 3\n",
    "> ## Create a 3x3 array and populate it with random integers from 1-999. Return the maximum value from each row. "
   ]
  },
  {
   "cell_type": "code",
   "execution_count": 17,
   "metadata": {},
   "outputs": [
    {
     "name": "stdout",
     "output_type": "stream",
     "text": [
      "[[556 127 528]\n",
      " [189 818 791]\n",
      " [183 736 680]]\n",
      "Maximum Value for Row 1:  556\n",
      "Maximum Value for Row 2:  818\n",
      "Maximum Value for Row 3:  736\n"
     ]
    }
   ],
   "source": [
    "#The Solution\n",
    "arr = np.random.randint(1, 1000, size=(3, 3))\n",
    "maxlist = np.amax(arr, axis=1)\n",
    "print(arr)\n",
    "print(\"Maximum Value for Row 1: \", maxlist[0])\n",
    "print(\"Maximum Value for Row 2: \", maxlist[1])\n",
    "print(\"Maximum Value for Row 3: \", maxlist[2])"
   ]
  },
  {
   "cell_type": "code",
   "execution_count": null,
   "metadata": {},
   "outputs": [],
   "source": []
  }
 ],
 "metadata": {
  "kernelspec": {
   "display_name": "Python 3",
   "language": "python",
   "name": "python3"
  },
  "language_info": {
   "codemirror_mode": {
    "name": "ipython",
    "version": 3
   },
   "file_extension": ".py",
   "mimetype": "text/x-python",
   "name": "python",
   "nbconvert_exporter": "python",
   "pygments_lexer": "ipython3",
   "version": "3.7.6"
  }
 },
 "nbformat": 4,
 "nbformat_minor": 4
}
