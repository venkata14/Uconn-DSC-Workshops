{
  "nbformat": 4,
  "nbformat_minor": 0,
  "metadata": {
    "colab": {
      "name": "titlequestion_charting.ipynb",
      "provenance": []
    },
    "kernelspec": {
      "name": "python3",
      "display_name": "Python 3"
    },
    "language_info": {
      "name": "python"
    }
  },
  "cells": [
    {
      "cell_type": "code",
      "source": [
        "import random\n",
        "import numpy as np\n",
        "import matplotlib.pyplot as plt\n",
        "import pandas as pd\n",
        "from sklearn.datasets import load_iris\n",
        "import seaborn as sns"
      ],
      "metadata": {
        "id": "XkoSg3A5Ez0S"
      },
      "execution_count": 90,
      "outputs": []
    },
    {
      "cell_type": "markdown",
      "source": [
        "# Easy: Plotting a function\n",
        "I have created a function below called func(x). This function take in an input for $x$ and outputs a value $y$ such that $y = x^2 + 7x + 3$\n",
        "<br>\n",
        "Question - Create a plot of the function $y = x^2 + 7x + 3$ using matplotlib within a domain of $[-20,20]$\n",
        "<br>\n",
        "Here are some useful functions - \n",
        "```python\n",
        "np.linspace()\n",
        "plt.plot()\n",
        "```\n",
        "<br>\n",
        "After you create the graph, add an appropriate x-axis label, y-axis label, and a title. Furthermore change the color of the line in the graph to your favorite color (if your favorite color is blue, then choose your second favorite color) :)\n",
        "<br>\n",
        "<br>\n",
        "Make sure to read the documentation of these functions to understand how they work. Feel free to use any others functions to solve this question!"
      ],
      "metadata": {
        "id": "FPKBP06OEg6j"
      }
    },
    {
      "cell_type": "code",
      "source": [
        "def func(x):\n",
        "  return (x**2 + 7*x + 3)\n",
        "#Write your code below"
      ],
      "metadata": {
        "id": "U9wlzSgjz0zf"
      },
      "execution_count": 91,
      "outputs": []
    },
    {
      "cell_type": "markdown",
      "source": [
        "#Medium: Linear Association\n",
        "In the code cell below, data1 and data2 consist of 75 random integers generated from the np.random.randint() function.\n",
        "<br>\n",
        "Question - Generate a scatter plot with data1 on the x-axis and data2 on the y-axis. Afterward plot a line of best line On the graph which is of color red.\n",
        "<br>\n",
        "You will get dimensionality issues if you just go straight into plotting data1 and data2. However numpy have a few functions to help with this. Below are useful funcitons to help solve this question - \n",
        "```python\n",
        "np.flatten()\n",
        "np.polyfit() \n",
        "plt.scatter()\n",
        "plt.plot()\n",
        "``` \n",
        "Make sure to read the documentation of these functions to understand how they work. Feel free to use any others functions to solve this question!"
      ],
      "metadata": {
        "id": "NNbkb0x_GhhE"
      }
    },
    {
      "cell_type": "code",
      "execution_count": 92,
      "metadata": {
        "id": "SgNwwTRNvSjx"
      },
      "outputs": [],
      "source": [
        "np.random.seed(1)\n",
        "data1 = np.sort(np.random.randint(100, size=(1, 75)))\n",
        "np.random.seed(3)\n",
        "data2 = np.sort(np.random.randint(100, size=(1, 75)))\n",
        "#Write your code below"
      ]
    },
    {
      "cell_type": "markdown",
      "source": [
        "#Hard: Identifying Quantitative Features of Data\n",
        "The purpose of this question is to learn how to use graphs to understand the porpoerties of your data. To do this we will be using the built in iris dataset which is a part of the scikit-learn package in python. We will learn more about the this package later in this semster. \n",
        "\n",
        "The iris data set is one of the most famous datasets in the data science and machine learning community. It consists 50 samples from each of three species of Iris (Iris setosa, Iris virginica and Iris versicolor). Four features were measured from each sample: the length and the width of the sepals and petals. To learn more about this datset click [here](https://en.wikipedia.org/wiki/Iris_flower_data_set).\n",
        "\n",
        "The data set has already been loaded. Furthermore, there are fours lists: sepal_length, sepal_width, petal_length, petal_width. These four lists coresspond to the values of the meauments in the iris dataset of the features sepal length, sepal width, petal length, petal width. These lists have already been created.\n",
        "<br>\n",
        "<br>\n",
        "Question -  Using the seaborn and/or matplotlib.pyplot libraries, answer each of the folowing questions, and output a well labelled graph that led you to each answer:\n",
        "<ol>\n",
        "  <li>Which feature has the most outliers?</li>\n",
        "  <li>Which feature has the most variability?</li>\n",
        "  <li>Which feature in the most <a href=\"https://medium.com/@MaheshGadakari/normal-distribution-for-beginners-3c8d5bc5ba16#:~:text=The%20normal%20distribution%20is%20symmetric,mean%20and%20median%20are%20equal.\">normally distributed</a>?</li>\n",
        "  <li>Which two features have a very high correlation (there can be multiple answers)?</li>\n",
        "</ol>\n",
        "\n",
        "Some useful functions are below - \n",
        "```python\n",
        "sns.boxplot() #this will help for q1 & q2\n",
        "plt.scatter #this will help for q3\n",
        "sna.displot() #this will help for q4\n",
        "```\n",
        "You do not have to use the above functions, feel free to answer these questions however you would like! Just make sure you use plotting to answer them."
      ],
      "metadata": {
        "id": "04knpd9lL80u"
      }
    },
    {
      "cell_type": "code",
      "source": [
        "# Load Iris data (https://en.wikipedia.org/wiki/Iris_flower_data_set)\n",
        "iris = load_iris()\n",
        "# Load iris into a dataframe and set the field names\n",
        "df = pd.DataFrame(iris['data'], columns=iris['feature_names'])\n",
        "sepal_length = df[\"sepal length (cm)\"].tolist()\n",
        "sepal_width = df[\"sepal width (cm)\"].tolist()\n",
        "petal_length = df[\"petal length (cm)\"].tolist()\n",
        "petal_width = df[\"petal width (cm)\"].tolist()"
      ],
      "metadata": {
        "id": "prnKHeZM5APL"
      },
      "execution_count": 93,
      "outputs": []
    },
    {
      "cell_type": "code",
      "source": [
        "#Write your code here"
      ],
      "metadata": {
        "id": "R61tA_MBRlaP"
      },
      "execution_count": 94,
      "outputs": []
    }
  ]
}