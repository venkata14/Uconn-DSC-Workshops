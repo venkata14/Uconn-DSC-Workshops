{
 "cells": [
  {
   "cell_type": "code",
   "execution_count": 3,
   "metadata": {},
   "outputs": [],
   "source": [
    "import random\n",
    "import matplotlib.pyplot as plt\n",
    "import numpy as np"
   ]
  },
  {
   "cell_type": "markdown",
   "metadata": {},
   "source": [
    "# Question 1\n",
    "> ### Plot a line, using the following starter code with a label for the X Axis titled \"Hours Slept\", a label for the Y Axis titled \"Grade\", and a label for the Title of the plot."
   ]
  },
  {
   "cell_type": "code",
   "execution_count": 1,
   "metadata": {},
   "outputs": [],
   "source": [
    "X = range(1, 50)\n",
    "Y = [value * 2 for value in X]\n",
    "# Enter your code here"
   ]
  },
  {
   "cell_type": "markdown",
   "metadata": {},
   "source": [
    "# Question 2\n",
    "> ### Using the following starter code, use numpy and matplotlib to make a scatterplot of 3 different groups comparing age and height. "
   ]
  },
  {
   "cell_type": "code",
   "execution_count": 4,
   "metadata": {},
   "outputs": [],
   "source": [
    "age1 = random.sample(range(50),10)\n",
    "age2 = random.sample(range(50),10)\n",
    "age3 = random.sample(range(50),10)\n",
    "\n",
    "height1 = random.sample(range(140),10)\n",
    "height2 = random.sample(range(140),10)\n",
    "height3 = random.sample(range(140),10)\n",
    "# Enter your code here"
   ]
  },
  {
   "cell_type": "markdown",
   "metadata": {},
   "source": [
    "# Question 3\n",
    "> ### Use numpy to join these lists and create a scatterplot with the same x and y axes as the previous problem"
   ]
  },
  {
   "cell_type": "code",
   "execution_count": 5,
   "metadata": {},
   "outputs": [],
   "source": [
    "age1 = random.sample(range(50),10)\n",
    "age2 = random.sample(range(50),10)\n",
    "age3 = random.sample(range(50),10)\n",
    "\n",
    "height1 = random.sample(range(140),10)\n",
    "height2 = random.sample(range(140),10)\n",
    "height3 = random.sample(range(140),10)\n",
    "# Enter your code here"
   ]
  }
 ],
 "metadata": {
  "kernelspec": {
   "display_name": "Python 3",
   "language": "python",
   "name": "python3"
  },
  "language_info": {
   "codemirror_mode": {
    "name": "ipython",
    "version": 3
   },
   "file_extension": ".py",
   "mimetype": "text/x-python",
   "name": "python",
   "nbconvert_exporter": "python",
   "pygments_lexer": "ipython3",
   "version": "3.7.6"
  }
 },
 "nbformat": 4,
 "nbformat_minor": 4
}
