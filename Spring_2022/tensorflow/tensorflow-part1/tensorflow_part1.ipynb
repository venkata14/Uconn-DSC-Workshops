{
  "cells": [
    {
      "cell_type": "markdown",
      "metadata": {
        "id": "6lEhnn8dUcm5"
      },
      "source": [
        "# Tensorflow Workshop Part 1"
      ]
    },
    {
      "cell_type": "markdown",
      "metadata": {
        "id": "YVtM9eHUpj5Y"
      },
      "source": [
        "Note, that neural networks are not great for understanding data. They are better suited for predictions\n",
        "\n",
        "We will first talk about tensors and then talk about neural networks"
      ]
    },
    {
      "cell_type": "code",
      "execution_count": 1,
      "metadata": {
        "colab": {
          "base_uri": "https://localhost:8080/"
        },
        "id": "ovp4gxgadFSf",
        "outputId": "9ae6cc83-d823-45ff-8b1f-b515f3c286c4"
      },
      "outputs": [
        {
          "name": "stdout",
          "output_type": "stream",
          "text": [
            "Requirement already satisfied: tensorflow in /usr/local/lib/python3.7/dist-packages (2.8.0)\n",
            "Requirement already satisfied: libclang>=9.0.1 in /usr/local/lib/python3.7/dist-packages (from tensorflow) (13.0.0)\n",
            "Requirement already satisfied: gast>=0.2.1 in /usr/local/lib/python3.7/dist-packages (from tensorflow) (0.5.3)\n",
            "Requirement already satisfied: protobuf>=3.9.2 in /usr/local/lib/python3.7/dist-packages (from tensorflow) (3.17.3)\n",
            "Requirement already satisfied: setuptools in /usr/local/lib/python3.7/dist-packages (from tensorflow) (57.4.0)\n",
            "Requirement already satisfied: wrapt>=1.11.0 in /usr/local/lib/python3.7/dist-packages (from tensorflow) (1.14.0)\n",
            "Requirement already satisfied: opt-einsum>=2.3.2 in /usr/local/lib/python3.7/dist-packages (from tensorflow) (3.3.0)\n",
            "Requirement already satisfied: tensorflow-io-gcs-filesystem>=0.23.1 in /usr/local/lib/python3.7/dist-packages (from tensorflow) (0.24.0)\n",
            "Requirement already satisfied: termcolor>=1.1.0 in /usr/local/lib/python3.7/dist-packages (from tensorflow) (1.1.0)\n",
            "Requirement already satisfied: astunparse>=1.6.0 in /usr/local/lib/python3.7/dist-packages (from tensorflow) (1.6.3)\n",
            "Requirement already satisfied: absl-py>=0.4.0 in /usr/local/lib/python3.7/dist-packages (from tensorflow) (1.0.0)\n",
            "Requirement already satisfied: keras-preprocessing>=1.1.1 in /usr/local/lib/python3.7/dist-packages (from tensorflow) (1.1.2)\n",
            "Requirement already satisfied: typing-extensions>=3.6.6 in /usr/local/lib/python3.7/dist-packages (from tensorflow) (3.10.0.2)\n",
            "Requirement already satisfied: tensorboard<2.9,>=2.8 in /usr/local/lib/python3.7/dist-packages (from tensorflow) (2.8.0)\n",
            "Requirement already satisfied: keras<2.9,>=2.8.0rc0 in /usr/local/lib/python3.7/dist-packages (from tensorflow) (2.8.0)\n",
            "Requirement already satisfied: flatbuffers>=1.12 in /usr/local/lib/python3.7/dist-packages (from tensorflow) (2.0)\n",
            "Collecting tf-estimator-nightly==2.8.0.dev2021122109\n",
            "  Downloading tf_estimator_nightly-2.8.0.dev2021122109-py2.py3-none-any.whl (462 kB)\n",
            "\u001b[K     |████████████████████████████████| 462 kB 4.3 MB/s \n",
            "\u001b[?25hRequirement already satisfied: google-pasta>=0.1.1 in /usr/local/lib/python3.7/dist-packages (from tensorflow) (0.2.0)\n",
            "Requirement already satisfied: numpy>=1.20 in /usr/local/lib/python3.7/dist-packages (from tensorflow) (1.21.5)\n",
            "Requirement already satisfied: h5py>=2.9.0 in /usr/local/lib/python3.7/dist-packages (from tensorflow) (3.1.0)\n",
            "Requirement already satisfied: six>=1.12.0 in /usr/local/lib/python3.7/dist-packages (from tensorflow) (1.15.0)\n",
            "Requirement already satisfied: grpcio<2.0,>=1.24.3 in /usr/local/lib/python3.7/dist-packages (from tensorflow) (1.44.0)\n",
            "Requirement already satisfied: wheel<1.0,>=0.23.0 in /usr/local/lib/python3.7/dist-packages (from astunparse>=1.6.0->tensorflow) (0.37.1)\n",
            "Requirement already satisfied: cached-property in /usr/local/lib/python3.7/dist-packages (from h5py>=2.9.0->tensorflow) (1.5.2)\n",
            "Requirement already satisfied: werkzeug>=0.11.15 in /usr/local/lib/python3.7/dist-packages (from tensorboard<2.9,>=2.8->tensorflow) (1.0.1)\n",
            "Requirement already satisfied: requests<3,>=2.21.0 in /usr/local/lib/python3.7/dist-packages (from tensorboard<2.9,>=2.8->tensorflow) (2.23.0)\n",
            "Requirement already satisfied: markdown>=2.6.8 in /usr/local/lib/python3.7/dist-packages (from tensorboard<2.9,>=2.8->tensorflow) (3.3.6)\n",
            "Requirement already satisfied: google-auth-oauthlib<0.5,>=0.4.1 in /usr/local/lib/python3.7/dist-packages (from tensorboard<2.9,>=2.8->tensorflow) (0.4.6)\n",
            "Requirement already satisfied: tensorboard-data-server<0.7.0,>=0.6.0 in /usr/local/lib/python3.7/dist-packages (from tensorboard<2.9,>=2.8->tensorflow) (0.6.1)\n",
            "Requirement already satisfied: google-auth<3,>=1.6.3 in /usr/local/lib/python3.7/dist-packages (from tensorboard<2.9,>=2.8->tensorflow) (1.35.0)\n",
            "Requirement already satisfied: tensorboard-plugin-wit>=1.6.0 in /usr/local/lib/python3.7/dist-packages (from tensorboard<2.9,>=2.8->tensorflow) (1.8.1)\n",
            "Requirement already satisfied: rsa<5,>=3.1.4 in /usr/local/lib/python3.7/dist-packages (from google-auth<3,>=1.6.3->tensorboard<2.9,>=2.8->tensorflow) (4.8)\n",
            "Requirement already satisfied: pyasn1-modules>=0.2.1 in /usr/local/lib/python3.7/dist-packages (from google-auth<3,>=1.6.3->tensorboard<2.9,>=2.8->tensorflow) (0.2.8)\n",
            "Requirement already satisfied: cachetools<5.0,>=2.0.0 in /usr/local/lib/python3.7/dist-packages (from google-auth<3,>=1.6.3->tensorboard<2.9,>=2.8->tensorflow) (4.2.4)\n",
            "Requirement already satisfied: requests-oauthlib>=0.7.0 in /usr/local/lib/python3.7/dist-packages (from google-auth-oauthlib<0.5,>=0.4.1->tensorboard<2.9,>=2.8->tensorflow) (1.3.1)\n",
            "Requirement already satisfied: importlib-metadata>=4.4 in /usr/local/lib/python3.7/dist-packages (from markdown>=2.6.8->tensorboard<2.9,>=2.8->tensorflow) (4.11.3)\n",
            "Requirement already satisfied: zipp>=0.5 in /usr/local/lib/python3.7/dist-packages (from importlib-metadata>=4.4->markdown>=2.6.8->tensorboard<2.9,>=2.8->tensorflow) (3.7.0)\n",
            "Requirement already satisfied: pyasn1<0.5.0,>=0.4.6 in /usr/local/lib/python3.7/dist-packages (from pyasn1-modules>=0.2.1->google-auth<3,>=1.6.3->tensorboard<2.9,>=2.8->tensorflow) (0.4.8)\n",
            "Requirement already satisfied: certifi>=2017.4.17 in /usr/local/lib/python3.7/dist-packages (from requests<3,>=2.21.0->tensorboard<2.9,>=2.8->tensorflow) (2021.10.8)\n",
            "Requirement already satisfied: urllib3!=1.25.0,!=1.25.1,<1.26,>=1.21.1 in /usr/local/lib/python3.7/dist-packages (from requests<3,>=2.21.0->tensorboard<2.9,>=2.8->tensorflow) (1.24.3)\n",
            "Requirement already satisfied: idna<3,>=2.5 in /usr/local/lib/python3.7/dist-packages (from requests<3,>=2.21.0->tensorboard<2.9,>=2.8->tensorflow) (2.10)\n",
            "Requirement already satisfied: chardet<4,>=3.0.2 in /usr/local/lib/python3.7/dist-packages (from requests<3,>=2.21.0->tensorboard<2.9,>=2.8->tensorflow) (3.0.4)\n",
            "Requirement already satisfied: oauthlib>=3.0.0 in /usr/local/lib/python3.7/dist-packages (from requests-oauthlib>=0.7.0->google-auth-oauthlib<0.5,>=0.4.1->tensorboard<2.9,>=2.8->tensorflow) (3.2.0)\n",
            "Installing collected packages: tf-estimator-nightly\n",
            "Successfully installed tf-estimator-nightly-2.8.0.dev2021122109\n"
          ]
        }
      ],
      "source": [
        "# install tensorflow\n",
        "!pip3 install tensorflow"
      ]
    },
    {
      "cell_type": "code",
      "execution_count": 2,
      "metadata": {
        "id": "3psIrbReUcnC"
      },
      "outputs": [],
      "source": [
        "import warnings\n",
        "warnings.filterwarnings(\"ignore\")"
      ]
    },
    {
      "cell_type": "code",
      "execution_count": 3,
      "metadata": {
        "colab": {
          "base_uri": "https://localhost:8080/",
          "height": 35
        },
        "id": "oG1SsktfdNqx",
        "outputId": "85663afd-3c3d-4afc-97b8-8fdb71edf67c"
      },
      "outputs": [
        {
          "data": {
            "application/vnd.google.colaboratory.intrinsic+json": {
              "type": "string"
            },
            "text/plain": [
              "'2.8.0'"
            ]
          },
          "execution_count": 3,
          "metadata": {},
          "output_type": "execute_result"
        }
      ],
      "source": [
        "import tensorflow as tf\n",
        "\n",
        "# Get version\n",
        "# Note that we are go using Tensorflow 2. There is a Tensorflow 1 but it is considerably different in syntax\n",
        "tf.__version__"
      ]
    },
    {
      "cell_type": "markdown",
      "metadata": {
        "id": "YwwSVW_8mFmh"
      },
      "source": [
        "# What is a tensor?"
      ]
    },
    {
      "cell_type": "markdown",
      "metadata": {
        "id": "ExgcDcHQfqPp"
      },
      "source": [
        "In TensorFlow, a tensor is simply multi-dimensional arrays with a uniform type. They are conceptually similar to a numpy array.\n",
        "\n",
        "Extending this idea, scalars, vectors, and matrices are simply specific types of tensors. A scalar is a rank-0 tensor, a vector is a rank-1 tensor, and a matrix is a rank-2 tensor."
      ]
    },
    {
      "cell_type": "code",
      "execution_count": 4,
      "metadata": {
        "colab": {
          "base_uri": "https://localhost:8080/"
        },
        "id": "SK90oxs1UHGL",
        "outputId": "6f374fc4-3a8d-4598-feeb-8440805bca86"
      },
      "outputs": [
        {
          "name": "stdout",
          "output_type": "stream",
          "text": [
            "tf.Tensor(8, shape=(), dtype=int32)\n",
            "tf.Tensor(\n",
            "[[0. 0. 0.]\n",
            " [0. 0. 0.]\n",
            " [0. 0. 0.]], shape=(3, 3), dtype=float32) \n",
            "\n",
            "[[0. 0. 0.]\n",
            " [0. 0. 0.]\n",
            " [0. 0. 0.]]\n"
          ]
        }
      ],
      "source": [
        "import numpy as np\n",
        "\n",
        "# Rank-0 tensor\n",
        "print(tf.constant(8))\n",
        "\n",
        "# Rank-1 tensor\n",
        "tf.constant([2.0, 3.0, 4.0])\n",
        "\n",
        "# Rank-2 tensor\n",
        "print(tf.zeros((3,3)), '\\n')\n",
        "# Make NumPy Array of zeros\n",
        "print(np.zeros((3,3)))"
      ]
    },
    {
      "cell_type": "code",
      "execution_count": 5,
      "metadata": {
        "colab": {
          "base_uri": "https://localhost:8080/"
        },
        "id": "gTsKv6xmUbKJ",
        "outputId": "1e4e9957-58b7-467f-b986-adea3db3cf61"
      },
      "outputs": [
        {
          "name": "stdout",
          "output_type": "stream",
          "text": [
            "tf.Tensor(\n",
            "[[3 3 3]\n",
            " [3 3 3]\n",
            " [3 3 3]], shape=(3, 3), dtype=int32) \n",
            "\n",
            "[[3. 3. 3.]\n",
            " [3. 3. 3.]\n",
            " [3. 3. 3.]]\n"
          ]
        }
      ],
      "source": [
        "# Make custom tensor\n",
        "print(tf.fill([3,3], value=3), '\\n')\n",
        "# Make custom array\n",
        "array = np.empty([3,3])\n",
        "array.fill(3)\n",
        "print(array)"
      ]
    },
    {
      "cell_type": "code",
      "execution_count": 6,
      "metadata": {
        "colab": {
          "base_uri": "https://localhost:8080/"
        },
        "id": "xoDbrHJLjr1O",
        "outputId": "ad98fe64-874b-45e2-e2d6-a6e7442e795a"
      },
      "outputs": [
        {
          "name": "stdout",
          "output_type": "stream",
          "text": [
            "[[1 2]\n",
            " [3 4]] \n",
            "\n",
            "tf.Tensor(\n",
            "[[1 2]\n",
            " [3 4]], shape=(2, 2), dtype=int32)\n"
          ]
        }
      ],
      "source": [
        "data = [[1,2],[3,4]]\n",
        "\n",
        "# Make custom NumPy array\n",
        "custom_array = np.array(data)\n",
        "print(custom_array, '\\n')\n",
        "\n",
        "# Make custom Tensor\n",
        "custom_tensor = tf.constant(data)\n",
        "print(custom_tensor)"
      ]
    },
    {
      "cell_type": "code",
      "execution_count": null,
      "metadata": {
        "id": "0t50-83hkeCJ"
      },
      "outputs": [],
      "source": [
        "# Change Values in Array and Tensor\n",
        "\n",
        "custom_array[0,1] = 1\n",
        "print(custom_array, '\\n')\n",
        "\n",
        "try:\n",
        "  # Tensors are immutable\n",
        "  custom_tensor[0,1] = 1\n",
        "except Exception as e:\n",
        "  # We will get to the error later\n",
        "  print(e)\n"
      ]
    },
    {
      "cell_type": "markdown",
      "metadata": {
        "id": "ecOElsIVUICr"
      },
      "source": [
        "## Math with Tensorflow\n"
      ]
    },
    {
      "cell_type": "code",
      "execution_count": 8,
      "metadata": {
        "colab": {
          "base_uri": "https://localhost:8080/"
        },
        "id": "ZVSb3ZHcpn0E",
        "outputId": "9b9032e3-293c-430c-a8eb-7754e5931e89"
      },
      "outputs": [
        {
          "data": {
            "text/plain": [
              "<tf.Tensor: shape=(2, 2), dtype=int32, numpy=\n",
              "array([[1, 2],\n",
              "       [3, 4]], dtype=int32)>"
            ]
          },
          "execution_count": 8,
          "metadata": {},
          "output_type": "execute_result"
        }
      ],
      "source": [
        "custom_tensor"
      ]
    },
    {
      "cell_type": "code",
      "execution_count": 9,
      "metadata": {
        "colab": {
          "base_uri": "https://localhost:8080/"
        },
        "id": "70qXSdHtpy2i",
        "outputId": "de935f6b-cfef-431e-f6b7-41d28430b2e5"
      },
      "outputs": [
        {
          "name": "stdout",
          "output_type": "stream",
          "text": [
            "tf.Tensor(\n",
            "[[2 4]\n",
            " [6 8]], shape=(2, 2), dtype=int32)\n",
            "tf.Tensor(\n",
            "[[ 1  4]\n",
            " [ 9 16]], shape=(2, 2), dtype=int32)\n",
            "tf.Tensor(\n",
            "[[ 1  4]\n",
            " [ 9 16]], shape=(2, 2), dtype=int32)\n"
          ]
        }
      ],
      "source": [
        "# Add Tensors\n",
        "print(\n",
        "    tf.math.add(custom_tensor, custom_tensor)\n",
        ")\n",
        "# Multiplies Tensors\n",
        "print(\n",
        "    tf.math.multiply(custom_tensor, custom_tensor)\n",
        ")\n",
        "# Square element-wise\n",
        "print(\n",
        "    tf.math.square(custom_tensor)\n",
        ")\n"
      ]
    },
    {
      "cell_type": "markdown",
      "metadata": {
        "id": "WeoxxK22dSNW"
      },
      "source": [
        "### However, it is very tedious to manipulate and work with tensors to preprocess data, handle data, analyze data, etc...\n",
        "\n",
        "It is easier to do everthing with NumPy Arrays and then do all mathamatical operations for machine learning with Tensors"
      ]
    },
    {
      "cell_type": "code",
      "execution_count": 10,
      "metadata": {
        "colab": {
          "base_uri": "https://localhost:8080/"
        },
        "id": "X068FFYxdRE6",
        "outputId": "8d91df74-7e97-4855-9379-1fae4b29890a"
      },
      "outputs": [
        {
          "name": "stdout",
          "output_type": "stream",
          "text": [
            "[-1.64750894 -1.47408695 -1.30066495 -1.12724296 -0.95382097 -0.78039897\n",
            " -0.60697698 -0.43355498 -0.26013299 -0.086711    0.086711    0.26013299\n",
            "  0.43355498  0.60697698  0.78039897  0.95382097  1.12724296  1.30066495\n",
            "  1.47408695  1.64750894] \n",
            "\n"
          ]
        },
        {
          "data": {
            "text/plain": [
              "<tf.Tensor: shape=(20,), dtype=float64, numpy=\n",
              "array([-1.64750894, -1.47408695, -1.30066495, -1.12724296, -0.95382097,\n",
              "       -0.78039897, -0.60697698, -0.43355498, -0.26013299, -0.086711  ,\n",
              "        0.086711  ,  0.26013299,  0.43355498,  0.60697698,  0.78039897,\n",
              "        0.95382097,  1.12724296,  1.30066495,  1.47408695,  1.64750894])>"
            ]
          },
          "execution_count": 10,
          "metadata": {},
          "output_type": "execute_result"
        }
      ],
      "source": [
        "# Some complex array manipulation .....\n",
        "# It's much easier to transform it using NumPy Arrays\n",
        "data = [1,2,3,4,5,6,7,8,9,10,11,12,13,14,15,16,17,18,19,20]\n",
        "data_arr = np.array(data)\n",
        "mean = np.mean(data_arr)\n",
        "data_arr = data_arr - mean\n",
        "data_arr = data_arr / 20\n",
        "std = np.std(data_arr)\n",
        "data_arr = data_arr/std\n",
        "print(data_arr, '\\n')\n",
        "\n",
        "# Convert it to Tensor\n",
        "tf.constant(data_arr)"
      ]
    },
    {
      "cell_type": "markdown",
      "metadata": {
        "id": "OarE9GOIUbue"
      },
      "source": [
        "#### In General:\n",
        "The difference between a NumPy array and a tensor is that the tensors are backed by the accelerator memory like GPU and they are immutable, unlike NumPy arrays. This makes tensors faster\n",
        "\n",
        "Tensors are immutable because they contain computing instructions to solve the Tensors rather than storing values themselves. This makes Tensors fast but also annoying to use at first.\n",
        "\n",
        "Each operation you will do with TensorFlow involves the manipulation of a tensor. There are four main tensor type you can create:\n",
        "\n",
        "- tf.constant \n",
        "- tf.Variable (a variable of fixed type and shape)\n",
        "- tf.placeholder (a v1 implimentation. A placeholder)\n",
        "- tf.SparseTensor (efficient storage of tensors with a lot of zeros. Also to store unequal tensors)"
      ]
    },
    {
      "cell_type": "markdown",
      "metadata": {
        "id": "rdzx7hH3VjiT"
      },
      "source": [
        "## Speed Comparison between NumPy Array and TensorFlow Tensor"
      ]
    },
    {
      "cell_type": "code",
      "execution_count": 11,
      "metadata": {
        "colab": {
          "base_uri": "https://localhost:8080/",
          "height": 265
        },
        "id": "5Ns5u7roUd0Y",
        "outputId": "66e3e8ba-751e-46cd-d4bc-b2e20a4c318e"
      },
      "outputs": [
        {
          "data": {
            "image/png": "[encoded data removed]",
            "text/plain": [
              "<Figure size 432x288 with 1 Axes>"
            ]
          },
          "metadata": {
            "needs_background": "light"
          },
          "output_type": "display_data"
        }
      ],
      "source": [
        "#import libraries\n",
        "import tensorflow as tf\n",
        "import numpy as np\n",
        "import time\n",
        "import matplotlib.pyplot as plt\n",
        "\n",
        "# function performing operation and returning us the time.\n",
        "# Matrix Product Time\n",
        "def matmul_time(type,x):\n",
        "    start = time.time()\n",
        "    # Use Numpy or TensorFlow\n",
        "    if type=='numpy':\n",
        "        np.matmul(x,x)\n",
        "    else:\n",
        "        tf.matmul(x,x)\n",
        "    end = time.time()\n",
        "    return end - start\n",
        "\n",
        "# Keep track of times\n",
        "shape_dim = [] # This will be the x axis\n",
        "numpy_time = []\n",
        "cpu_tf_time = []\n",
        "gpu_tf_time = []\n",
        "\n",
        "for shape in range(100,5001,100):\n",
        "    shape_dim.append(shape)\n",
        "\n",
        "    # NumPy. Using Randome values from a Uniform Distribution\n",
        "    x = np.random.uniform(size=[shape,shape])\n",
        "    numpy_time.append(matmul_time('numpy',x))\n",
        "\n",
        "    #Tensor using GPU\n",
        "    with tf.device(\"GPU:0\"): # The 0 is the GPU to use. So if you had multiple GPUs, you identify the GPU to use with \"GPU:1\" or 2,3,...\n",
        "        x = tf.random.uniform([shape, shape])\n",
        "        gpu_tf_time.append(matmul_time('gpu',x))\n",
        "  \n",
        "    #Tensor using CPU\n",
        "    with tf.device(\"CPU:0\"):\n",
        "        x = tf.random.uniform([shape, shape])\n",
        "        cpu_tf_time.append(matmul_time('cpu',x))\n",
        "\n",
        "plt.plot(shape_dim, numpy_time, label='NumPy')\n",
        "plt.plot(shape_dim, cpu_tf_time, label='Tensor - CPU')\n",
        "plt.plot(shape_dim, gpu_tf_time, label='Tensor - GPU')\n",
        "plt.legend()\n",
        "plt.show()"
      ]
    },
    {
      "cell_type": "markdown",
      "metadata": {
        "id": "1XXaDqVMaCri"
      },
      "source": [
        "### This is pretty much all there is to their difference. But there is a reason for these differences.\n",
        "\n",
        "#### Eager Execution vs Graph Execution\n",
        "Eager Execution simplifies the model building experience in TensorFlow, whereas Graph Execution can provide optimizations that make models run faster with better memory efficiency. \n",
        "- Tensors are techinically instructions on how to transform your data. (Why is this important?) \n",
        "- You use Eager Execution for prototyping\n",
        "- You run your model in Graph Execution to run faster\n",
        "\n",
        "\n",
        "This workshop only goes over Eager Execution\n",
        "\n",
        "Check this out for Graph Execution:\n",
        "https://blog.tensorflow.org/2018/08/code-with-eager-execution-run-with-graphs.html"
      ]
    },
    {
      "cell_type": "code",
      "execution_count": null,
      "metadata": {
        "id": "AjSesKu9B7Tn"
      },
      "outputs": [],
      "source": [
        "# This workshop will be using Eager Execution\n",
        "\n",
        "# Turn on Eager Execution\n",
        "tf.config.run_functions_eagerly(True)"
      ]
    },
    {
      "cell_type": "markdown",
      "metadata": {
        "id": "YDoHwcB2UcnR"
      },
      "source": [
        "# What are Neural Networks?\n",
        "\n",
        "Neural Networks form the base of Deep Learning. It recognized patterns in data.\n",
        "\n",
        "**How is this done?**\n",
        "\n",
        "- Forward Propigation\n",
        "- Backward Propigation\n",
        "\n",
        "### Forward Propigation\n",
        "\n",
        "(Image from Simplilearn)\n",
        "\n",
        "<center>\n",
        "    <img src=\"attachment:566beaf0-caf1-4e09-810d-397c93043e78.png\" align=\"center\"/>\n",
        "</center>\n",
        "\n",
        "- Neural Networks are made up of layers of Neurons\n",
        "    - Neurons are the core processing unit of the network\n",
        "- There are multiple layers\n",
        "    - The **Input Layer**: recieves the input\n",
        "    - The **Output Layer**: predicts the final output\n",
        "    - The **Hidden Layers**: layers that perform most of the computation required by the network\n",
        "    \n",
        "Above is an image of a circle and we want the network to predict that it is a circle\n",
        "- Each neuron of one layer is connect to neurons of another layer through a channel\n",
        "    - The image above only shows 2 channels per neuron but this can differ\n",
        "    - Each channel has a \"weight\" associated to it\n",
        "- At first, the inputs are multiplied to their corresponding weight and their sum is sent as input to the hidden layer\n",
        "    - Each sum has a \"bias\" which is added to the input sum\n",
        "- The individual neurons in the hidden layer can choose to become active or not based on the \"activation function\"\n",
        "    - An example of this activation could be like \"if the input I recieved is greater than 0, I activate and send that value to the next hidden layer. If the input is equal to or less than 0, I deactivate and send 0 to the next hidden layer\"\n",
        "    - This is how it transmits data to the next layer of the network\n",
        "- The process recurrs until it reachs the end of the network where it gives us an output. This is called Forward Propigation\n",
        "    - The output could be defined as the neuron with the highest value (the activation function)\n",
        "    \n",
        "After a Forward Pass, The network calculates how wrong it is through a loss function\n",
        "- There is a simple loss function above. Can you figure it out?\n",
        "This error information is sent backward through the network and changes the parameters of the network. This is called Backward Propigation. \n",
        "- It updates the parameters (weights and bias) through an \"optimization function\"\n",
        "\n",
        "Everytime one cycle of Forward Propigation and Backward Propigation occurs, the model gets a little better at predicting the right output. \n"
      ]
    },
    {
      "cell_type": "markdown",
      "metadata": {
        "id": "4NZ14Eu8H2PD"
      },
      "source": [
        "# We will be using the Keras API to build our models\n",
        "\n",
        "What is Keras?\n",
        "\n",
        "# Dense Neural Network\n",
        "\n",
        "**What is a Dense Neural Network (Keras)?**\n",
        "\n",
        "A dense neural network is a network composed of \"dense\" layers that are all connected \"deeply\", which means each neuron in the dense layer receives input from all neurons of its previous layer. This layer is the most commonly used layer in models.\n",
        "\n",
        "**How does it work and what happens at each internal node?**\n",
        "\n",
        "<center>\n",
        "    <img src=\"attachment:c19d3a68-e28b-4cfd-bf19-45206e8c860b.png\" align=\"center\"/>\n",
        "</center>\n",
        "\n",
        "**Few Key Parameters of the Keras Dense Layer:**\n",
        "\n",
        "1. Units\n",
        "    - The number of internal nodes\n",
        "2. Activation\n",
        "    - Define the activation function -> a function that transforms the incoming signal of each neuron. Used to induce non-linearity into a neural network to allow the network to learn complex relationships\n",
        "    - The most common used is the Rectified Linear Unit (ReLU) activation function\n",
        "        - y = max(0,x)\n",
        "        \n",
        "As we go through this work shop, I will slowly introduce more layers and activation functions\n",
        "\n",
        "**Flatten Layer** -> Flattens the input\n",
        "\n",
        "**Linear Activation Function** -> This is basically a pass-through\n"
      ]
    },
    {
      "cell_type": "markdown",
      "metadata": {
        "id": "d2cIYKmuUcnS"
      },
      "source": [
        "### Dataset: MNIST\n",
        "\n",
        "<center>\n",
        "    <img src=\"https://upload.wikimedia.org/wikipedia/commons/thumb/2/27/MnistExamples.png/320px-MnistExamples.png\" align=\"center\"/>\n",
        "</center>\n",
        "\n",
        "- MNIST is a large database of small, square 28x28 pixel grayscale images of handwritten single digits between 0 and 9\n",
        "- It consists of a total of 70,000 handwritten images of digits, with the training set having 60,000 images and the test set having 10,000\n",
        "- All images are labeled with the respective digit that they represent. There are a total of 10 classes of digits (from 0 to 9)\n",
        "- The training data is the images and they are represented as a 28x28 matrix where the value at a specific position is the brightness of the respective pixel \n"
      ]
    },
    {
      "cell_type": "code",
      "execution_count": 13,
      "metadata": {
        "colab": {
          "base_uri": "https://localhost:8080/",
          "height": 177
        },
        "id": "n-3XfBFTH1TE",
        "outputId": "16d4d3a2-3f83-473e-fb95-b53c2ffdabf8"
      },
      "outputs": [
        {
          "name": "stdout",
          "output_type": "stream",
          "text": [
            "(60000, 28, 28)\n",
            "(10000, 28, 28)\n"
          ]
        },
        {
          "data": {
            "image/png": "[encoded data removed]",
            "text/plain": [
              "<Figure size 1152x1152 with 8 Axes>"
            ]
          },
          "metadata": {
            "needs_background": "light"
          },
          "output_type": "display_data"
        }
      ],
      "source": [
        "from io import BytesIO\n",
        "import requests\n",
        "import matplotlib.pyplot as plt\n",
        "%matplotlib inline\n",
        "\n",
        "\n",
        "# importing and dividing up the dataset into train and test cases\n",
        "r = requests.get('https://storage.googleapis.com/tensorflow/tf-keras-datasets/mnist.npz', stream = True)\n",
        "data = np.load(BytesIO(r.raw.read())) #np.load only reads files. BytesIO creates file like object\n",
        "x_test, x_train, y_train, y_test = data['x_test'], data['x_train'], data['y_train'], data['y_test']\n",
        "\n",
        "\n",
        "# Number of samples for Train Data\n",
        "print(x_train.shape)\n",
        "# Number of samples for Test Data\n",
        "print(x_test.shape)\n",
        "\n",
        "\n",
        "# Visulaize some of the Data\n",
        "num_to_show = 8\n",
        "fig, ax = plt.subplots(1, num_to_show, figsize=(num_to_show*2, num_to_show*2))\n",
        "\n",
        "for index, axplot in enumerate(ax):\n",
        "    # An easy way to show a matrix of pixel values as an image is with the imshow() function \n",
        "    axplot.imshow(x_test[index], cmap='gist_gray')\n",
        "    axplot.axis('off')\n",
        "    axplot.set_title(str(y_test[index]))\n",
        "plt.show()"
      ]
    },
    {
      "cell_type": "code",
      "execution_count": 14,
      "metadata": {
        "colab": {
          "base_uri": "https://localhost:8080/"
        },
        "id": "VchalvaSUcnU",
        "outputId": "d71c5ea8-6183-4a03-fa5c-a41ae9866b59"
      },
      "outputs": [
        {
          "name": "stdout",
          "output_type": "stream",
          "text": [
            "[[  0   0   0   0   0   0   0   0   0   0   0   0   0   0   0   0   0   0\n",
            "    0   0   0   0   0   0   0   0   0   0]\n",
            " [  0   0   0   0   0   0   0   0   0   0   0   0   0   0   0   0   0   0\n",
            "    0   0   0   0   0   0   0   0   0   0]\n",
            " [  0   0   0   0   0   0   0   0   0   0   0   0   0   0   0   0   0   0\n",
            "    0   0   0   0   0   0   0   0   0   0]\n",
            " [  0   0   0   0   0   0   0   0   0   0   0   0   0   0   0   0   0   0\n",
            "    0   0   0   0   0   0   0   0   0   0]\n",
            " [  0   0   0   0   0   0   0   0   0   0   0   0   0   0   0   0   0   0\n",
            "    0   0   0   0   0   0   0   0   0   0]\n",
            " [  0   0   0   0   0   0   0   0   0   0   0   0   0   0   0   0   0   0\n",
            "    0   0   0   0   0   0   0   0   0   0]\n",
            " [  0   0   0   0   0   0   0   0   0   0   0   0   0   0   0   0   0   0\n",
            "    0   0   0   0   0   0   0   0   0   0]\n",
            " [  0   0   0   0   0   0  84 185 159 151  60  36   0   0   0   0   0   0\n",
            "    0   0   0   0   0   0   0   0   0   0]\n",
            " [  0   0   0   0   0   0 222 254 254 254 254 241 198 198 198 198 198 198\n",
            "  198 198 170  52   0   0   0   0   0   0]\n",
            " [  0   0   0   0   0   0  67 114  72 114 163 227 254 225 254 254 254 250\n",
            "  229 254 254 140   0   0   0   0   0   0]\n",
            " [  0   0   0   0   0   0   0   0   0   0   0  17  66  14  67  67  67  59\n",
            "   21 236 254 106   0   0   0   0   0   0]\n",
            " [  0   0   0   0   0   0   0   0   0   0   0   0   0   0   0   0   0   0\n",
            "   83 253 209  18   0   0   0   0   0   0]\n",
            " [  0   0   0   0   0   0   0   0   0   0   0   0   0   0   0   0   0  22\n",
            "  233 255  83   0   0   0   0   0   0   0]\n",
            " [  0   0   0   0   0   0   0   0   0   0   0   0   0   0   0   0   0 129\n",
            "  254 238  44   0   0   0   0   0   0   0]\n",
            " [  0   0   0   0   0   0   0   0   0   0   0   0   0   0   0   0  59 249\n",
            "  254  62   0   0   0   0   0   0   0   0]\n",
            " [  0   0   0   0   0   0   0   0   0   0   0   0   0   0   0   0 133 254\n",
            "  187   5   0   0   0   0   0   0   0   0]\n",
            " [  0   0   0   0   0   0   0   0   0   0   0   0   0   0   0   9 205 248\n",
            "   58   0   0   0   0   0   0   0   0   0]\n",
            " [  0   0   0   0   0   0   0   0   0   0   0   0   0   0   0 126 254 182\n",
            "    0   0   0   0   0   0   0   0   0   0]\n",
            " [  0   0   0   0   0   0   0   0   0   0   0   0   0   0  75 251 240  57\n",
            "    0   0   0   0   0   0   0   0   0   0]\n",
            " [  0   0   0   0   0   0   0   0   0   0   0   0   0  19 221 254 166   0\n",
            "    0   0   0   0   0   0   0   0   0   0]\n",
            " [  0   0   0   0   0   0   0   0   0   0   0   0   3 203 254 219  35   0\n",
            "    0   0   0   0   0   0   0   0   0   0]\n",
            " [  0   0   0   0   0   0   0   0   0   0   0   0  38 254 254  77   0   0\n",
            "    0   0   0   0   0   0   0   0   0   0]\n",
            " [  0   0   0   0   0   0   0   0   0   0   0  31 224 254 115   1   0   0\n",
            "    0   0   0   0   0   0   0   0   0   0]\n",
            " [  0   0   0   0   0   0   0   0   0   0   0 133 254 254  52   0   0   0\n",
            "    0   0   0   0   0   0   0   0   0   0]\n",
            " [  0   0   0   0   0   0   0   0   0   0  61 242 254 254  52   0   0   0\n",
            "    0   0   0   0   0   0   0   0   0   0]\n",
            " [  0   0   0   0   0   0   0   0   0   0 121 254 254 219  40   0   0   0\n",
            "    0   0   0   0   0   0   0   0   0   0]\n",
            " [  0   0   0   0   0   0   0   0   0   0 121 254 207  18   0   0   0   0\n",
            "    0   0   0   0   0   0   0   0   0   0]\n",
            " [  0   0   0   0   0   0   0   0   0   0   0   0   0   0   0   0   0   0\n",
            "    0   0   0   0   0   0   0   0   0   0]]\n"
          ]
        }
      ],
      "source": [
        "# Pixel Values\n",
        "# This shows the number 7\n",
        "print(x_test[0])"
      ]
    },
    {
      "cell_type": "markdown",
      "metadata": {
        "id": "pFlpaSrxUcnU"
      },
      "source": [
        "### Lets Build a Neural Network\n",
        "\n",
        "So far, for X, we have a matrix of values. For Y we have the range 0-9."
      ]
    },
    {
      "cell_type": "code",
      "execution_count": 15,
      "metadata": {
        "id": "OTCm-aLIUcnU"
      },
      "outputs": [],
      "source": [
        "from tensorflow.keras.models import Sequential\n",
        "from tensorflow.keras.layers import Dense, Flatten \n",
        "\n",
        "# Define the inner layer\n",
        "n_hidden1 = 512  # 1st hidden layer\n",
        "n_hidden2 = 256  # 2nd hidden layer\n",
        "n_hidden3 = 128  # 3rd hidden layer\n",
        "n_output = 1  # output layer (0-9 digits)\n",
        "\n",
        "# Parameters\n",
        "epochs = 30 # This is the number of times to iterate over the training set\n",
        "batch_size = 128 # Update the network parameters after iterating through a number of samples\n",
        "\n",
        "# We use Sequential as it forms a linear stack of layers\n",
        "model = Sequential()\n",
        "model.add(Flatten(input_shape=(28,28))) # This is the input layer\n",
        "model.add(Dense(n_hidden1, activation='relu'))\n",
        "model.add(Dense(n_hidden2, activation='relu'))\n",
        "model.add(Dense(n_hidden3, activation='relu'))\n",
        "model.add(Dense(n_output, activation='linear')) # This is the output layer"
      ]
    },
    {
      "cell_type": "code",
      "execution_count": 16,
      "metadata": {
        "colab": {
          "base_uri": "https://localhost:8080/"
        },
        "id": "3weEH2yuUcnV",
        "outputId": "cb46a846-e352-4e30-cf87-63b2f378330b"
      },
      "outputs": [
        {
          "name": "stdout",
          "output_type": "stream",
          "text": [
            "Model: \"sequential\"\n",
            "_________________________________________________________________\n",
            " Layer (type)                Output Shape              Param #   \n",
            "=================================================================\n",
            " flatten (Flatten)           (None, 784)               0         \n",
            "                                                                 \n",
            " dense (Dense)               (None, 512)               401920    \n",
            "                                                                 \n",
            " dense_1 (Dense)             (None, 256)               131328    \n",
            "                                                                 \n",
            " dense_2 (Dense)             (None, 128)               32896     \n",
            "                                                                 \n",
            " dense_3 (Dense)             (None, 1)                 129       \n",
            "                                                                 \n",
            "=================================================================\n",
            "Total params: 566,273\n",
            "Trainable params: 566,273\n",
            "Non-trainable params: 0\n",
            "_________________________________________________________________\n"
          ]
        }
      ],
      "source": [
        "# To get a summary of our model\n",
        "model.summary()"
      ]
    },
    {
      "cell_type": "code",
      "execution_count": 17,
      "metadata": {
        "colab": {
          "base_uri": "https://localhost:8080/"
        },
        "id": "X7Aw7OP0UcnV",
        "outputId": "753d2308-637d-42c2-e256-311a08bb42e6"
      },
      "outputs": [
        {
          "name": "stdout",
          "output_type": "stream",
          "text": [
            "Epoch 1/30\n",
            "469/469 [==============================] - 18s 35ms/step - loss: 3.2961 - accuracy: 0.1316 - val_loss: 1.1421 - val_accuracy: 0.1591\n",
            "Epoch 2/30\n",
            "469/469 [==============================] - 11s 23ms/step - loss: 0.8126 - accuracy: 0.1621 - val_loss: 0.6590 - val_accuracy: 0.1753\n",
            "Epoch 3/30\n",
            "469/469 [==============================] - 11s 24ms/step - loss: 0.6507 - accuracy: 0.1794 - val_loss: 0.6115 - val_accuracy: 0.1953\n",
            "Epoch 4/30\n",
            "469/469 [==============================] - 11s 24ms/step - loss: 0.5587 - accuracy: 0.1895 - val_loss: 0.5817 - val_accuracy: 0.1786\n",
            "Epoch 5/30\n",
            "469/469 [==============================] - 11s 24ms/step - loss: 0.4753 - accuracy: 0.1978 - val_loss: 0.4916 - val_accuracy: 0.2013\n",
            "Epoch 6/30\n",
            "469/469 [==============================] - 11s 24ms/step - loss: 0.4347 - accuracy: 0.2004 - val_loss: 0.4377 - val_accuracy: 0.2066\n",
            "Epoch 7/30\n",
            "469/469 [==============================] - 11s 24ms/step - loss: 0.4042 - accuracy: 0.2024 - val_loss: 0.4251 - val_accuracy: 0.2061\n",
            "Epoch 8/30\n",
            "469/469 [==============================] - 12s 25ms/step - loss: 0.3761 - accuracy: 0.2037 - val_loss: 0.4355 - val_accuracy: 0.2016\n",
            "Epoch 9/30\n",
            "469/469 [==============================] - 11s 24ms/step - loss: 0.3540 - accuracy: 0.2050 - val_loss: 0.4299 - val_accuracy: 0.2033\n",
            "Epoch 10/30\n",
            "469/469 [==============================] - 12s 26ms/step - loss: 0.3462 - accuracy: 0.2047 - val_loss: 0.3625 - val_accuracy: 0.2048\n",
            "Epoch 11/30\n",
            "469/469 [==============================] - 11s 23ms/step - loss: 0.3406 - accuracy: 0.2053 - val_loss: 0.4796 - val_accuracy: 0.2064\n",
            "Epoch 12/30\n",
            "469/469 [==============================] - 11s 24ms/step - loss: 0.3151 - accuracy: 0.2060 - val_loss: 0.3633 - val_accuracy: 0.2080\n",
            "Epoch 13/30\n",
            "469/469 [==============================] - 12s 25ms/step - loss: 0.2925 - accuracy: 0.2067 - val_loss: 0.3436 - val_accuracy: 0.2083\n",
            "Epoch 14/30\n",
            "469/469 [==============================] - 12s 25ms/step - loss: 0.2883 - accuracy: 0.2072 - val_loss: 0.3279 - val_accuracy: 0.2088\n",
            "Epoch 15/30\n",
            "469/469 [==============================] - 11s 23ms/step - loss: 0.2869 - accuracy: 0.2075 - val_loss: 0.3225 - val_accuracy: 0.2073\n",
            "Epoch 16/30\n",
            "469/469 [==============================] - 11s 24ms/step - loss: 0.2722 - accuracy: 0.2075 - val_loss: 0.3283 - val_accuracy: 0.2068\n",
            "Epoch 17/30\n",
            "469/469 [==============================] - 11s 24ms/step - loss: 0.2705 - accuracy: 0.2078 - val_loss: 0.3061 - val_accuracy: 0.2074\n",
            "Epoch 18/30\n",
            "469/469 [==============================] - 11s 23ms/step - loss: 0.2546 - accuracy: 0.2083 - val_loss: 0.3329 - val_accuracy: 0.2096\n",
            "Epoch 19/30\n",
            "469/469 [==============================] - 11s 24ms/step - loss: 0.2533 - accuracy: 0.2084 - val_loss: 0.3012 - val_accuracy: 0.2084\n",
            "Epoch 20/30\n",
            "469/469 [==============================] - 11s 23ms/step - loss: 0.2500 - accuracy: 0.2084 - val_loss: 0.3101 - val_accuracy: 0.2064\n",
            "Epoch 21/30\n",
            "469/469 [==============================] - 11s 24ms/step - loss: 0.2483 - accuracy: 0.2086 - val_loss: 0.3485 - val_accuracy: 0.2062\n",
            "Epoch 22/30\n",
            "469/469 [==============================] - 11s 23ms/step - loss: 0.2334 - accuracy: 0.2089 - val_loss: 0.3976 - val_accuracy: 0.2059\n",
            "Epoch 23/30\n",
            "469/469 [==============================] - 11s 23ms/step - loss: 0.2381 - accuracy: 0.2086 - val_loss: 0.2892 - val_accuracy: 0.2086\n",
            "Epoch 24/30\n",
            "469/469 [==============================] - 11s 24ms/step - loss: 0.2226 - accuracy: 0.2088 - val_loss: 0.2996 - val_accuracy: 0.2084\n",
            "Epoch 25/30\n",
            "469/469 [==============================] - 11s 24ms/step - loss: 0.2189 - accuracy: 0.2091 - val_loss: 0.3232 - val_accuracy: 0.2064\n",
            "Epoch 26/30\n",
            "469/469 [==============================] - 11s 23ms/step - loss: 0.2270 - accuracy: 0.2085 - val_loss: 0.2910 - val_accuracy: 0.2075\n",
            "Epoch 27/30\n",
            "469/469 [==============================] - 11s 23ms/step - loss: 0.2173 - accuracy: 0.2088 - val_loss: 0.2792 - val_accuracy: 0.2102\n",
            "Epoch 28/30\n",
            "469/469 [==============================] - 11s 24ms/step - loss: 0.2037 - accuracy: 0.2091 - val_loss: 0.2779 - val_accuracy: 0.2095\n",
            "Epoch 29/30\n",
            "469/469 [==============================] - 11s 24ms/step - loss: 0.2073 - accuracy: 0.2093 - val_loss: 0.2693 - val_accuracy: 0.2077\n",
            "Epoch 30/30\n",
            "469/469 [==============================] - 11s 24ms/step - loss: 0.2023 - accuracy: 0.2090 - val_loss: 0.3160 - val_accuracy: 0.2075\n"
          ]
        }
      ],
      "source": [
        "# Compile the model\n",
        "# We talked about the loss used here before\n",
        "# You can use Stocastic Gradient decent here for the optimizer but Adam is far more efficient and is most commonly used\n",
        "model.compile(optimizer='adam', loss='mean_absolute_error', metrics=['accuracy'])\n",
        "# Fit the model\n",
        "history = model.fit(x_train, y_train, epochs=epochs, validation_data=(x_test, y_test), batch_size=batch_size)"
      ]
    },
    {
      "cell_type": "code",
      "execution_count": 18,
      "metadata": {
        "colab": {
          "base_uri": "https://localhost:8080/"
        },
        "id": "uFu_I3mRUcnW",
        "outputId": "b03542c9-fb4b-4abe-9215-70c0a416abfa"
      },
      "outputs": [
        {
          "data": {
            "text/plain": [
              "dict"
            ]
          },
          "execution_count": 18,
          "metadata": {},
          "output_type": "execute_result"
        }
      ],
      "source": [
        "type(history.history) # This is a dictionary containing the metric information defined above"
      ]
    },
    {
      "cell_type": "code",
      "execution_count": 19,
      "metadata": {
        "colab": {
          "base_uri": "https://localhost:8080/",
          "height": 265
        },
        "id": "86CvrOHzUcnW",
        "outputId": "45596db6-76cc-4096-8ba6-15f5f6539b48"
      },
      "outputs": [
        {
          "data": {
            "image/png": "[encoded data removed]",
            "text/plain": [
              "<Figure size 432x288 with 1 Axes>"
            ]
          },
          "metadata": {
            "needs_background": "light"
          },
          "output_type": "display_data"
        }
      ],
      "source": [
        "plt.plot(history.history['accuracy'], label=\"Train Data\")\n",
        "plt.plot(history.history['val_accuracy'], label=\"Validation Data\")\n",
        "plt.legend()\n",
        "plt.show()"
      ]
    },
    {
      "cell_type": "markdown",
      "metadata": {
        "id": "FRKAFArrUcnX"
      },
      "source": [
        "#### The accuracy above is not great. Using the linear activation is not the best for classification tasks\n",
        "- To get a higher accuracy, we would rather have one output node for each \"class\". In this case, the numbers. Sowe sould want 10 output nodes\n",
        "\n",
        "**Soft Max Activation Function**\n",
        "\n",
        "<center>\n",
        "    <img src=\"https://www.easy-tensorflow.com/images/NN/linear_classifier.png\" align=\"center\"/>\n",
        "</center>\n",
        "\n",
        "##### In order to train like this, your y labels need to be one-hot-encoded\n",
        "\n",
        "7 becomes [0, 0, 0, 0, 0, 0, 0, 1, 0, 0]\n",
        "\n",
        "1 becomes [0, 1, 0, 0, 0, 0, 0, 0, 0, 0]\n"
      ]
    },
    {
      "cell_type": "code",
      "execution_count": 20,
      "metadata": {
        "id": "51S2CjqpJFpx"
      },
      "outputs": [],
      "source": [
        "from sklearn.preprocessing import OneHotEncoder\n",
        "\n",
        "inst = OneHotEncoder()\n",
        "y_train_encoded = inst.fit_transform(y_train.reshape(-1,1)).toarray()\n",
        "\n",
        "inst = OneHotEncoder()\n",
        "y_test_encoded = inst.fit_transform(y_test.reshape(-1,1)).toarray()"
      ]
    },
    {
      "cell_type": "code",
      "execution_count": 21,
      "metadata": {
        "colab": {
          "base_uri": "https://localhost:8080/"
        },
        "id": "qC-akEGxgw3v",
        "outputId": "fcdac7a5-5ba2-4ddb-808d-4fb83bf7f838"
      },
      "outputs": [
        {
          "name": "stdout",
          "output_type": "stream",
          "text": [
            "[7 2 1 ... 4 5 6]\n"
          ]
        },
        {
          "data": {
            "text/plain": [
              "array([[0., 0., 0., ..., 1., 0., 0.],\n",
              "       [0., 0., 1., ..., 0., 0., 0.],\n",
              "       [0., 1., 0., ..., 0., 0., 0.],\n",
              "       ...,\n",
              "       [0., 0., 0., ..., 0., 0., 0.],\n",
              "       [0., 0., 0., ..., 0., 0., 0.],\n",
              "       [0., 0., 0., ..., 0., 0., 0.]])"
            ]
          },
          "execution_count": 21,
          "metadata": {},
          "output_type": "execute_result"
        }
      ],
      "source": [
        "print(y_test)\n",
        "y_test_encoded"
      ]
    },
    {
      "cell_type": "code",
      "execution_count": 22,
      "metadata": {
        "colab": {
          "base_uri": "https://localhost:8080/"
        },
        "id": "MtI4vgZsi0ns",
        "outputId": "de6a001a-0a46-4098-9026-efc69a726505"
      },
      "outputs": [
        {
          "name": "stdout",
          "output_type": "stream",
          "text": [
            "Model: \"sequential_1\"\n",
            "_________________________________________________________________\n",
            " Layer (type)                Output Shape              Param #   \n",
            "=================================================================\n",
            " flatten_1 (Flatten)         (None, 784)               0         \n",
            "                                                                 \n",
            " dense_4 (Dense)             (None, 512)               401920    \n",
            "                                                                 \n",
            " dense_5 (Dense)             (None, 256)               131328    \n",
            "                                                                 \n",
            " dense_6 (Dense)             (None, 128)               32896     \n",
            "                                                                 \n",
            " dense_7 (Dense)             (None, 10)                1290      \n",
            "                                                                 \n",
            "=================================================================\n",
            "Total params: 567,434\n",
            "Trainable params: 567,434\n",
            "Non-trainable params: 0\n",
            "_________________________________________________________________\n"
          ]
        }
      ],
      "source": [
        "from tensorflow.keras.models import Sequential\n",
        "from tensorflow.keras.layers import Dense, Flatten \n",
        "\n",
        "# Define the inner layer\n",
        "n_hidden1 = 512  # 1st hidden layer\n",
        "n_hidden2 = 256  # 2nd hidden layer\n",
        "n_hidden3 = 128  # 3rd hidden layer\n",
        "n_output = 10  # output layer. This time, 10 output nodes\n",
        "\n",
        "# Parameters\n",
        "epochs = 30 # This is the number of times to iterate over the training set\n",
        "batch_size = 128 # Update the network parameters after iterating through a number of samples\n",
        "\n",
        "model = Sequential()\n",
        "model.add(Flatten(input_shape=(28,28)))\n",
        "model.add(Dense(n_hidden1, activation='relu'))\n",
        "model.add(Dense(n_hidden2, activation='relu'))\n",
        "model.add(Dense(n_hidden3, activation='relu'))\n",
        "model.add(Dense(n_output, activation='softmax'))\n",
        "model.summary()"
      ]
    },
    {
      "cell_type": "markdown",
      "metadata": {
        "id": "tTJiGpNLUcnY"
      },
      "source": [
        "#### We need a different loss function for this improved network\n",
        "\n",
        "**Categorical Crossentropy**\n",
        "\n",
        "- Compares the the predicted probability distribution to the target probability distribution and outputs an error (shown above)"
      ]
    },
    {
      "cell_type": "code",
      "execution_count": 23,
      "metadata": {
        "colab": {
          "base_uri": "https://localhost:8080/"
        },
        "id": "3jn-PaMPjqFR",
        "outputId": "1676c2b5-4e91-4cb0-95c5-d189fef9c010"
      },
      "outputs": [
        {
          "name": "stdout",
          "output_type": "stream",
          "text": [
            "Epoch 1/30\n",
            "469/469 [==============================] - 12s 26ms/step - loss: 1.6095 - accuracy: 0.8928 - val_loss: 0.3513 - val_accuracy: 0.9317\n",
            "Epoch 2/30\n",
            "469/469 [==============================] - 12s 25ms/step - loss: 0.1951 - accuracy: 0.9525 - val_loss: 0.2205 - val_accuracy: 0.9501\n",
            "Epoch 3/30\n",
            "469/469 [==============================] - 15s 33ms/step - loss: 0.1226 - accuracy: 0.9673 - val_loss: 0.1879 - val_accuracy: 0.9571\n",
            "Epoch 4/30\n",
            "469/469 [==============================] - 12s 26ms/step - loss: 0.0902 - accuracy: 0.9742 - val_loss: 0.1801 - val_accuracy: 0.9622\n",
            "Epoch 5/30\n",
            "469/469 [==============================] - 12s 27ms/step - loss: 0.0829 - accuracy: 0.9766 - val_loss: 0.1674 - val_accuracy: 0.9646\n",
            "Epoch 6/30\n",
            "469/469 [==============================] - 12s 26ms/step - loss: 0.0843 - accuracy: 0.9769 - val_loss: 0.1765 - val_accuracy: 0.9616\n",
            "Epoch 7/30\n",
            "469/469 [==============================] - 12s 26ms/step - loss: 0.0729 - accuracy: 0.9795 - val_loss: 0.2208 - val_accuracy: 0.9570\n",
            "Epoch 8/30\n",
            "469/469 [==============================] - 12s 26ms/step - loss: 0.0726 - accuracy: 0.9797 - val_loss: 0.1382 - val_accuracy: 0.9691\n",
            "Epoch 9/30\n",
            "469/469 [==============================] - 13s 28ms/step - loss: 0.0621 - accuracy: 0.9829 - val_loss: 0.1586 - val_accuracy: 0.9699\n",
            "Epoch 10/30\n",
            "469/469 [==============================] - 12s 26ms/step - loss: 0.0600 - accuracy: 0.9832 - val_loss: 0.1689 - val_accuracy: 0.9652\n",
            "Epoch 11/30\n",
            "469/469 [==============================] - 13s 28ms/step - loss: 0.0539 - accuracy: 0.9845 - val_loss: 0.1425 - val_accuracy: 0.9710\n",
            "Epoch 12/30\n",
            "469/469 [==============================] - 20s 42ms/step - loss: 0.0554 - accuracy: 0.9849 - val_loss: 0.1336 - val_accuracy: 0.9720\n",
            "Epoch 13/30\n",
            "469/469 [==============================] - 17s 37ms/step - loss: 0.0447 - accuracy: 0.9869 - val_loss: 0.1464 - val_accuracy: 0.9732\n",
            "Epoch 14/30\n",
            "469/469 [==============================] - 12s 25ms/step - loss: 0.0462 - accuracy: 0.9870 - val_loss: 0.1448 - val_accuracy: 0.9714\n",
            "Epoch 15/30\n",
            "469/469 [==============================] - 15s 33ms/step - loss: 0.0441 - accuracy: 0.9874 - val_loss: 0.1388 - val_accuracy: 0.9716\n",
            "Epoch 16/30\n",
            "469/469 [==============================] - 17s 36ms/step - loss: 0.0447 - accuracy: 0.9878 - val_loss: 0.1307 - val_accuracy: 0.9738\n",
            "Epoch 17/30\n",
            "469/469 [==============================] - 12s 25ms/step - loss: 0.0434 - accuracy: 0.9879 - val_loss: 0.1155 - val_accuracy: 0.9762\n",
            "Epoch 18/30\n",
            "469/469 [==============================] - 12s 26ms/step - loss: 0.0323 - accuracy: 0.9906 - val_loss: 0.1185 - val_accuracy: 0.9731\n",
            "Epoch 19/30\n",
            "469/469 [==============================] - 12s 25ms/step - loss: 0.0277 - accuracy: 0.9923 - val_loss: 0.1306 - val_accuracy: 0.9723\n",
            "Epoch 20/30\n",
            "469/469 [==============================] - 12s 26ms/step - loss: 0.0372 - accuracy: 0.9894 - val_loss: 0.1183 - val_accuracy: 0.9746\n",
            "Epoch 21/30\n",
            "469/469 [==============================] - 12s 26ms/step - loss: 0.0321 - accuracy: 0.9903 - val_loss: 0.1401 - val_accuracy: 0.9712\n",
            "Epoch 22/30\n",
            "469/469 [==============================] - 15s 32ms/step - loss: 0.0356 - accuracy: 0.9905 - val_loss: 0.1562 - val_accuracy: 0.9682\n",
            "Epoch 23/30\n",
            "469/469 [==============================] - 15s 32ms/step - loss: 0.0262 - accuracy: 0.9926 - val_loss: 0.1418 - val_accuracy: 0.9716\n",
            "Epoch 24/30\n",
            "469/469 [==============================] - 13s 28ms/step - loss: 0.0272 - accuracy: 0.9927 - val_loss: 0.1439 - val_accuracy: 0.9727\n",
            "Epoch 25/30\n",
            "469/469 [==============================] - 17s 35ms/step - loss: 0.0237 - accuracy: 0.9937 - val_loss: 0.1185 - val_accuracy: 0.9768\n",
            "Epoch 26/30\n",
            "469/469 [==============================] - 12s 26ms/step - loss: 0.0242 - accuracy: 0.9939 - val_loss: 0.1464 - val_accuracy: 0.9744\n",
            "Epoch 27/30\n",
            "469/469 [==============================] - 12s 25ms/step - loss: 0.0264 - accuracy: 0.9927 - val_loss: 0.1188 - val_accuracy: 0.9743\n",
            "Epoch 28/30\n",
            "469/469 [==============================] - 12s 25ms/step - loss: 0.0233 - accuracy: 0.9934 - val_loss: 0.1320 - val_accuracy: 0.9749\n",
            "Epoch 29/30\n",
            "469/469 [==============================] - 12s 26ms/step - loss: 0.0232 - accuracy: 0.9940 - val_loss: 0.1233 - val_accuracy: 0.9782\n",
            "Epoch 30/30\n",
            "469/469 [==============================] - 13s 27ms/step - loss: 0.0172 - accuracy: 0.9950 - val_loss: 0.1581 - val_accuracy: 0.9736\n"
          ]
        }
      ],
      "source": [
        "model.compile(optimizer='adam', loss='categorical_crossentropy', metrics=['accuracy'])\n",
        "history = model.fit(x_train, y_train_encoded, epochs=epochs, validation_data=(x_test, y_test_encoded), batch_size=batch_size)"
      ]
    },
    {
      "cell_type": "code",
      "execution_count": 24,
      "metadata": {
        "colab": {
          "base_uri": "https://localhost:8080/",
          "height": 0
        },
        "id": "JMSWbGsaUcnZ",
        "outputId": "bb5f7acd-12a5-4f34-92e6-a492e276addf"
      },
      "outputs": [
        {
          "data": {
            "image/png": "[encoded data removed]",
            "text/plain": [
              "<Figure size 432x288 with 1 Axes>"
            ]
          },
          "metadata": {
            "needs_background": "light"
          },
          "output_type": "display_data"
        }
      ],
      "source": [
        "plt.plot(history.history['accuracy'], label=\"Train Data\")\n",
        "plt.plot(history.history['val_accuracy'], label=\"Validation Data\")\n",
        "plt.title(\"Accuracy over Epochs\")\n",
        "plt.xlabel('Epochs')\n",
        "plt.ylabel('Accuracy')\n",
        "plt.legend()\n",
        "plt.show()"
      ]
    },
    {
      "cell_type": "markdown",
      "metadata": {
        "id": "dw9_dDi9UcnZ"
      },
      "source": [
        "### Now we can use our model to predict values!\n",
        "\n",
        "*Note: The inputs mush be preprocessed the same way when we trained the model*"
      ]
    },
    {
      "cell_type": "code",
      "execution_count": 25,
      "metadata": {
        "colab": {
          "base_uri": "https://localhost:8080/",
          "height": 0
        },
        "id": "n3nDq4h8oKkS",
        "outputId": "f2933799-3b63-4324-ce49-af811cf89676"
      },
      "outputs": [
        {
          "data": {
            "image/png": "[encoded data removed]",
            "text/plain": [
              "<Figure size 432x288 with 1 Axes>"
            ]
          },
          "metadata": {
            "needs_background": "light"
          },
          "output_type": "display_data"
        }
      ],
      "source": [
        "# Take a sample\n",
        "sample = x_test[0]\n",
        "\n",
        "# See this sample\n",
        "plt.imshow(sample, cmap=\"gist_gray\")\n",
        "plt.show()"
      ]
    },
    {
      "cell_type": "code",
      "execution_count": 26,
      "metadata": {
        "colab": {
          "base_uri": "https://localhost:8080/"
        },
        "id": "QjW5FVFSkrOw",
        "outputId": "92f2e8b4-a4f0-4a2e-a5c5-b74fdceb8126"
      },
      "outputs": [
        {
          "name": "stdout",
          "output_type": "stream",
          "text": [
            "(60000, 28, 28)\n",
            "(28, 28)\n",
            "(1, 28, 28)\n"
          ]
        }
      ],
      "source": [
        "# Predict using the trained model\n",
        "# Note: since we trained the model on a 3 dimentional vector, the input to the predict function must be a three dimentional vector\n",
        "print(x_train.shape)\n",
        "print(sample.shape)\n",
        "sample = np.expand_dims(sample, axis=0)\n",
        "print(sample.shape)"
      ]
    },
    {
      "cell_type": "code",
      "execution_count": 27,
      "metadata": {
        "colab": {
          "base_uri": "https://localhost:8080/"
        },
        "id": "FVF-NtODUcna",
        "outputId": "8e7de9a2-aaa3-44c1-a4b6-4b2e2d85ff88"
      },
      "outputs": [
        {
          "name": "stdout",
          "output_type": "stream",
          "text": [
            "[[6.6710490e-09 2.6235233e-07 2.4472547e-05 1.8914388e-06 6.1863531e-08\n",
            "  6.0165370e-08 3.6564692e-18 9.9996793e-01 2.7332106e-10 5.3509593e-06]]\n",
            "Prediction: 7\n"
          ]
        }
      ],
      "source": [
        "# Predict using model\n",
        "prediction = model.predict(sample)\n",
        "print(prediction)\n",
        "\n",
        "# To get the predicted number\n",
        "print('Prediction:', np.argmax(prediction))"
      ]
    },
    {
      "cell_type": "code",
      "execution_count": 28,
      "metadata": {
        "id": "AM9ftQT3k8-g"
      },
      "outputs": [],
      "source": [
        "# Predict everything in one go\n",
        "predictions = model.predict(x_test)"
      ]
    },
    {
      "cell_type": "code",
      "execution_count": 29,
      "metadata": {
        "colab": {
          "base_uri": "https://localhost:8080/"
        },
        "id": "QHVoWoeEUcnb",
        "outputId": "1ceaceae-edcf-448c-d2e4-e41d1a3b2ae1"
      },
      "outputs": [
        {
          "name": "stdout",
          "output_type": "stream",
          "text": [
            "(10000, 10)\n",
            "[6.6710490e-09 2.6235233e-07 2.4472525e-05 1.8914407e-06 6.1863652e-08\n",
            " 6.0165256e-08 3.6564692e-18 9.9996793e-01 2.7332056e-10 5.3509593e-06]\n",
            "[7 2 1 ... 4 5 6]\n"
          ]
        }
      ],
      "source": [
        "print(predictions.shape)\n",
        "print(predictions[0])\n",
        "\n",
        "# Convert predictions into a more human friendly format\n",
        "predictions = np.array([np.argmax(n) for n in predictions])\n",
        "print(predictions)"
      ]
    },
    {
      "cell_type": "code",
      "execution_count": 30,
      "metadata": {
        "colab": {
          "base_uri": "https://localhost:8080/"
        },
        "id": "evwZne_hpkrG",
        "outputId": "50a9364b-ac5c-4969-85f0-d002dfa4fb4a"
      },
      "outputs": [
        {
          "name": "stdout",
          "output_type": "stream",
          "text": [
            "Accuracy: 0.9736\n",
            "F1 Score: 0.9733315702728247\n"
          ]
        }
      ],
      "source": [
        "# To calculate accuracy\n",
        "from sklearn.metrics import accuracy_score, f1_score\n",
        "\n",
        "print('Accuracy:', accuracy_score(y_test, predictions))\n",
        "print('F1 Score:', f1_score(y_test, predictions, average='macro')) # We talk about this in a previous workshop. It is the average of percision and recall"
      ]
    },
    {
      "cell_type": "markdown",
      "metadata": {
        "id": "aGVoLP7EpxYQ"
      },
      "source": [
        "---\n",
        "\n",
        "### On a side note, there are multiple ways to create a nmmeural network"
      ]
    },
    {
      "cell_type": "markdown",
      "metadata": {
        "id": "VVbF5Bfasvm2"
      },
      "source": [
        "#### List like Method"
      ]
    },
    {
      "cell_type": "code",
      "execution_count": 31,
      "metadata": {
        "colab": {
          "base_uri": "https://localhost:8080/"
        },
        "id": "U1ry9j-fsuyy",
        "outputId": "d9cae0fc-8350-476a-b6f2-3832365cedb6"
      },
      "outputs": [
        {
          "name": "stdout",
          "output_type": "stream",
          "text": [
            "Model: \"list_like_method\"\n",
            "_________________________________________________________________\n",
            " Layer (type)                Output Shape              Param #   \n",
            "=================================================================\n",
            " flatten_2 (Flatten)         (None, 784)               0         \n",
            "                                                                 \n",
            " dense_8 (Dense)             (None, 512)               401920    \n",
            "                                                                 \n",
            " dense_9 (Dense)             (None, 256)               131328    \n",
            "                                                                 \n",
            " dense_10 (Dense)            (None, 128)               32896     \n",
            "                                                                 \n",
            " dense_11 (Dense)            (None, 10)                1290      \n",
            "                                                                 \n",
            "=================================================================\n",
            "Total params: 567,434\n",
            "Trainable params: 567,434\n",
            "Non-trainable params: 0\n",
            "_________________________________________________________________\n"
          ]
        }
      ],
      "source": [
        "# Define the inner layer\n",
        "n_hidden1 = 512  # 1st hidden layer\n",
        "n_hidden2 = 256  # 2nd hidden layer\n",
        "n_hidden3 = 128  # 3rd hidden layer\n",
        "n_output = 10  # output layer. This time, 10 output nodes\n",
        "\n",
        "# Parameters\n",
        "epochs = 30 # This is the number of times to iterate over the training set\n",
        "batch_size = 128 # Update the network parameters after iterating through a number of samples\n",
        "\n",
        "model = Sequential([\n",
        "                    Flatten(input_shape=(28,28)),\n",
        "                    Dense(n_hidden1, activation='relu'),\n",
        "                    Dense(n_hidden2, activation='relu'),\n",
        "                    Dense(n_hidden3, activation='relu'),\n",
        "                    Dense(n_output, activation='softmax')\n",
        "], name=\"list_like_method\")\n",
        "model.summary()"
      ]
    },
    {
      "cell_type": "markdown",
      "metadata": {
        "id": "Q7ZtcilNtf1L"
      },
      "source": [
        "#### Method 3: Functional API"
      ]
    },
    {
      "cell_type": "code",
      "execution_count": 32,
      "metadata": {
        "colab": {
          "base_uri": "https://localhost:8080/"
        },
        "id": "Sqc4chiktSaL",
        "outputId": "80ac4c58-4b7a-4df3-d49d-82df5771d208"
      },
      "outputs": [
        {
          "name": "stdout",
          "output_type": "stream",
          "text": [
            "Model: \"functional_api\"\n",
            "_________________________________________________________________\n",
            " Layer (type)                Output Shape              Param #   \n",
            "=================================================================\n",
            " input_1 (InputLayer)        [(None, 28, 28)]          0         \n",
            "                                                                 \n",
            " flatten_3 (Flatten)         (None, 784)               0         \n",
            "                                                                 \n",
            " dense_12 (Dense)            (None, 512)               401920    \n",
            "                                                                 \n",
            " dense_13 (Dense)            (None, 256)               131328    \n",
            "                                                                 \n",
            " dense_14 (Dense)            (None, 128)               32896     \n",
            "                                                                 \n",
            " dense_15 (Dense)            (None, 10)                1290      \n",
            "                                                                 \n",
            "=================================================================\n",
            "Total params: 567,434\n",
            "Trainable params: 567,434\n",
            "Non-trainable params: 0\n",
            "_________________________________________________________________\n"
          ]
        }
      ],
      "source": [
        "from tensorflow.keras import Input, Model, Sequential\n",
        "from tensorflow.keras.layers import Flatten, Dense\n",
        "\n",
        "# The next layer is a function layer of the previous layers\n",
        "inputs = Input(shape=(28,28))\n",
        "inner = Flatten()(inputs)\n",
        "inner = Dense(n_hidden1, activation='relu')(inner)\n",
        "inner = Dense(n_hidden2, activation='relu')(inner)\n",
        "inner = Dense(n_hidden3, activation='relu')(inner)\n",
        "outputs = Dense(n_output, activation='softmax')(inner)\n",
        "\n",
        "model = Model(inputs=inputs, outputs=outputs, name=\"functional_api\")\n",
        "# This is not a good way to visualize this Model\n",
        "model.summary()"
      ]
    },
    {
      "cell_type": "code",
      "execution_count": null,
      "metadata": {
        "colab": {
          "base_uri": "https://localhost:8080/"
        },
        "id": "9xk0UhiNUcnd",
        "outputId": "d344c00e-1cf4-4ab0-928c-0a4757266007"
      },
      "outputs": [
        {
          "name": "stdout",
          "output_type": "stream",
          "text": [
            "Requirement already satisfied: pydot in /usr/local/lib/python3.7/dist-packages (1.3.0)\n",
            "Requirement already satisfied: pyparsing>=2.1.4 in /usr/local/lib/python3.7/dist-packages (from pydot) (3.0.7)\n"
          ]
        }
      ],
      "source": [
        "## For a better wasy to visualize a model first tensorflow.keras.layershviz\n",
        "!pip3 install pydot\n",
        "!pip3 install pydotplus\n",
        "# Install GraphViz from https://graphviz.org/download/"
      ]
    },
    {
      "cell_type": "code",
      "execution_count": null,
      "metadata": {
        "id": "uxsLim_-upmp"
      },
      "outputs": [],
      "source": [
        "from tensorflow.keras.utils import plot_model\n",
        "\n",
        "# Visualize models\n",
        "plot_model(model, show_shapes=True)"
      ]
    },
    {
      "cell_type": "code",
      "execution_count": null,
      "metadata": {
        "id": "q1MtyQYowMxS"
      },
      "outputs": [],
      "source": [
        "# This is why the Functional API is great\n",
        "\n",
        "from tensorflow.keras import Input, Model\n",
        "from tensorflow.keras.layers import concatenate\n",
        "\n",
        "inputs = Input(shape=(28,28))\n",
        "inner = Flatten()(inputs)\n",
        "inner = Dense(n_hidden1, activation='relu')(inner)\n",
        "inner1 = Dense(n_hidden1, activation='relu')(inner)\n",
        "inner2 = Dense(n_hidden2, activation='relu')(inner)\n",
        "inner3 = concatenate([inner1, inner2])\n",
        "inner = Dense(n_hidden3, activation='relu')(inner3)\n",
        "outputs = Dense(n_output, activation='softmax')(inner)\n",
        "\n",
        "model = Model(inputs=inputs, outputs=outputs, name=\"functional_api_1\")\n",
        "# This is not a good way to visualize this Model\n",
        "model.summary()"
      ]
    },
    {
      "cell_type": "code",
      "execution_count": null,
      "metadata": {
        "id": "kb0wKiHnxhJP"
      },
      "outputs": [],
      "source": [
        "from tensorflow.keras.utils import plot_model\n",
        "\n",
        "plot_model(model, show_shapes=True)"
      ]
    },
    {
      "cell_type": "code",
      "execution_count": null,
      "metadata": {
        "id": "wD8-iX11xuZR"
      },
      "outputs": [],
      "source": [
        "# You can run them as you normally would\n",
        "model.compile(optimizer='adam', loss='categorical_crossentropy', metrics=['accuracy'])\n",
        "history = model.fit(x_train, y_train_encoded, epochs=4, batch_size=batch_size)"
      ]
    },
    {
      "cell_type": "markdown",
      "metadata": {
        "id": "pLYdpM11Ucnf"
      },
      "source": [
        "### So do we have a great model for identifyinf handwritten digits? ... NO!\n",
        "\n",
        "Can you tell what the problem with out model is?\n",
        "\n",
        "What happens if we shift our images to the left?"
      ]
    },
    {
      "cell_type": "code",
      "execution_count": null,
      "metadata": {
        "id": "IlVuQoqtUcnf"
      },
      "outputs": [],
      "source": [
        "sample = x_test[0]\n",
        "plt.imshow(sample, cmap='gist_gray')\n",
        "plt.show()\n",
        "\n",
        "# Shifting the image to the left\n",
        "shifted_sample = np.roll(sample, -5, axis=1)\n",
        "plt.imshow(shifted_sample, cmap='gist_gray')\n",
        "plt.show()"
      ]
    },
    {
      "cell_type": "code",
      "execution_count": null,
      "metadata": {
        "id": "JkrBgIzlUcnf"
      },
      "outputs": [],
      "source": [
        "shifted_sample = np.expand_dims(shifted_sample, axis=0)\n",
        "\n",
        "# Predict using model\n",
        "prediction = model.predict(shifted_sample)\n",
        "\n",
        "# To get the predicted number\n",
        "print('Prediction:', np.argmax(prediction)) # It predicts the wrong number!"
      ]
    },
    {
      "cell_type": "code",
      "execution_count": null,
      "metadata": {
        "id": "Vo2FirqpUcng"
      },
      "outputs": [],
      "source": [
        "# The original accuracy and F1 Score of the model\n",
        "from sklearn.metrics import accuracy_score, f1_score\n",
        "\n",
        "# Predict everything in one go\n",
        "predictions = model.predict(x_test)\n",
        "\n",
        "# Convert predictions into a more human friendly format\n",
        "predictions = np.array([np.argmax(n) for n in predictions])\n",
        "\n",
        "# To calculate accuracy and F1 Score\n",
        "print('Accuracy:', accuracy_score(y_test, predictions))\n",
        "print('F1 Score:', f1_score(y_test, predictions, average='macro')) # We talk about this in a previous workshop. It is the average of percision and recall"
      ]
    },
    {
      "cell_type": "code",
      "execution_count": null,
      "metadata": {
        "id": "P43jb4YBUcng"
      },
      "outputs": [],
      "source": [
        "# What are the accuracy and F1 Score of the model if we shift the digits?\n",
        "# Creating the shifted images\n",
        "x_test_shifted = np.array([np.roll(n, -5, axis=1) for n in x_test])"
      ]
    },
    {
      "cell_type": "code",
      "execution_count": null,
      "metadata": {
        "id": "gxthhcKqUcng"
      },
      "outputs": [],
      "source": [
        "# Visulaize Original Data\n",
        "num_to_show = 8\n",
        "fig, ax = plt.subplots(1, num_to_show, figsize=(num_to_show*2, num_to_show*2))\n",
        "\n",
        "for index, axplot in enumerate(ax):\n",
        "    # An easy way to show a matrix of pixel values as an image is with the imshow() function \n",
        "    axplot.imshow(x_test[index], cmap='gist_gray')\n",
        "    axplot.axis('off')\n",
        "    axplot.set_title(str(y_test[index]))\n",
        "plt.show()"
      ]
    },
    {
      "cell_type": "code",
      "execution_count": null,
      "metadata": {
        "id": "PiMUdEj9Ucnh"
      },
      "outputs": [],
      "source": [
        "# Visulaize the Shifted Data\n",
        "num_to_show = 8\n",
        "fig, ax = plt.subplots(1, num_to_show, figsize=(num_to_show*2, num_to_show*2))\n",
        "\n",
        "for index, axplot in enumerate(ax):\n",
        "    # An easy way to show a matrix of pixel values as an image is with the imshow() function \n",
        "    axplot.imshow(x_test_shifted[index], cmap='gist_gray')\n",
        "    axplot.axis('off')\n",
        "    axplot.set_title(str(y_test[index]))\n",
        "plt.show()"
      ]
    },
    {
      "cell_type": "code",
      "execution_count": null,
      "metadata": {
        "id": "uZpcVxvnUcnh"
      },
      "outputs": [],
      "source": [
        "# The original accuracy and F1 Score of the model\n",
        "from sklearn.metrics import accuracy_score, f1_score\n",
        "\n",
        "# Predict everything in one go\n",
        "predictions = model.predict(x_test_shifted)\n",
        "\n",
        "# Convert predictions into a more human friendly format\n",
        "predictions = np.array([np.argmax(n) for n in predictions])\n",
        "\n",
        "# To calculate accuracy and F1 Score\n",
        "print('Accuracy:', accuracy_score(y_test, predictions))\n",
        "print('F1 Score:', f1_score(y_test, predictions, average='macro')) # We talk about this in a previous workshop. It is the average of percision and recall"
      ]
    },
    {
      "cell_type": "markdown",
      "metadata": {
        "id": "VM2qNQEgUcnh"
      },
      "source": [
        "### The accuracy is basically gone by shifting the image 5 pixels to the right\n",
        "\n",
        "Why is that? and how can we fix it?"
      ]
    },
    {
      "cell_type": "markdown",
      "metadata": {
        "id": "8qiuvNnoDH4w"
      },
      "source": [
        "## Convolutional Neural Networks (next time)\n",
        "\n",
        "These networks are used everywhere: self driving cars, facial recognition, etc\n",
        "\n",
        "Convolutional Neural Networks learn **features**.\n",
        "- They do this by applying filters onto images and extracting features from them\n",
        "- As for what filters to apply, they learn these filters\n",
        "\n",
        "Down below are filter examples. Filters are commonly referred to as kernals\n",
        "- Down below, we use a 3 by 3 filter"
      ]
    },
    {
      "cell_type": "code",
      "execution_count": null,
      "metadata": {
        "id": "gFgr-SbRUcni"
      },
      "outputs": [],
      "source": [
        "import urllib\n",
        "import PIL\n",
        "\n",
        "# You can import any image and see what you can make!\n",
        "# If this throws an error, use a different URL\n",
        "url = 'https://images.all-free-download.com/images/graphiclarge/buildings_city_crowded_215206.jpg'\n",
        "image = np.array(PIL.Image.open(urllib.request.urlopen(url)).convert('L'))\n",
        "\n",
        "plt.figure(figsize=(10,10))\n",
        "plt.imshow(image, cmap='gist_gray')\n",
        "plt.show()"
      ]
    },
    {
      "cell_type": "code",
      "execution_count": null,
      "metadata": {
        "id": "skZcU3AJUcni"
      },
      "outputs": [],
      "source": [
        "from scipy.signal import convolve2d\n",
        "\n",
        "# The Sobel Horizontal Operator\n",
        "# Horizontal Edge Detection\n",
        "kernal = np.array([[2, 4, 2], \n",
        "                   [0, 0, 0], \n",
        "                   [-2, -4, -2]])\n",
        "\n",
        "filtered_image = convolve2d(image, kernal,  mode='same')\n",
        "\n",
        "plt.figure(figsize=(10,10))\n",
        "\n",
        "plt.imshow(filtered_image, cmap='gist_gray')\n",
        "plt.show()"
      ]
    },
    {
      "cell_type": "code",
      "execution_count": null,
      "metadata": {
        "id": "pZ1jD83hUcnj"
      },
      "outputs": [],
      "source": [
        "from scipy.signal import convolve2d\n",
        "\n",
        "# The Sobel Vertical Operator\n",
        "# Vertical Edge Detection\n",
        "kernal = np.array([[-1, 0, 1], \n",
        "                   [-2, 0, 2],\n",
        "                   [-1, 0, 1]])\n",
        "\n",
        "filtered_image = convolve2d(image, kernal, mode='same' )\n",
        "\n",
        "plt.figure(figsize=(10,10))\n",
        "\n",
        "plt.imshow(filtered_image, cmap='gist_gray')\n",
        "plt.show()"
      ]
    },
    {
      "cell_type": "code",
      "execution_count": null,
      "metadata": {
        "id": "PfT3GlULUcnj"
      },
      "outputs": [],
      "source": [
        "from scipy.signal import convolve2d\n",
        "\n",
        "kernal_vertical = np.array([[-1, 0, 1], \n",
        "                   [-2, 0, 2],\n",
        "                   [-1, 0, 1]])\n",
        "\n",
        "kernal_horizontal = np.array([[2, 4, 2], \n",
        "                   [0, 0, 0], \n",
        "                   [-2, -4, -2]])\n",
        "\n",
        "sample = x_test[4]\n",
        "\n",
        "fig, ax = plt.subplots(1, 3)\n",
        "\n",
        "ax[0].imshow(sample, cmap='gist_gray')\n",
        "ax[0].set_title('Original')\n",
        "ax[1].imshow(convolve2d(sample, kernal_vertical, mode='same'), cmap='gist_gray')\n",
        "ax[1].set_title('Vertical Edges')\n",
        "ax[2].imshow(convolve2d(sample, kernal_horizontal, mode='same'), cmap='gist_gray')\n",
        "ax[2].set_title('Horizontal Edges')\n",
        "plt.show()"
      ]
    },
    {
      "cell_type": "markdown",
      "metadata": {
        "id": "MQO1XUEDUcnj"
      },
      "source": [
        "#### The Pros with using these kernals as that the position does not matter"
      ]
    },
    {
      "cell_type": "code",
      "execution_count": null,
      "metadata": {
        "id": "UtR-x4TFUcnk"
      },
      "outputs": [],
      "source": [
        "from scipy.signal import convolve2d\n",
        "\n",
        "kernal_vertical = np.array([[-1, 0, 1], \n",
        "                   [-2, 0, 2],\n",
        "                   [-1, 0, 1]])\n",
        "\n",
        "kernal_horizontal = np.array([[2, 4, 2], \n",
        "                   [0, 0, 0], \n",
        "                   [-2, -4, -2]])\n",
        "\n",
        "sample = x_test_shifted[4]\n",
        "\n",
        "fig, ax = plt.subplots(1, 3)\n",
        "\n",
        "ax[0].imshow(sample, cmap='gist_gray')\n",
        "ax[0].set_title('Original - Shifted')\n",
        "ax[1].imshow(convolve2d(sample, kernal_vertical, mode='same'), cmap='gist_gray')\n",
        "ax[1].set_title('Vertical Edges')\n",
        "ax[2].imshow(convolve2d(sample, kernal_horizontal, mode='same'), cmap='gist_gray')\n",
        "ax[2].set_title('Horizontal Edges')\n",
        "plt.show()"
      ]
    },
    {
      "cell_type": "markdown",
      "metadata": {
        "id": "8v-nsPusUcnk"
      },
      "source": [
        "### What happens after these features have been identified?"
      ]
    },
    {
      "cell_type": "markdown",
      "metadata": {
        "id": "0b-dY7gJUcnk"
      },
      "source": [
        "---\n",
        "## Convolution Layer\n",
        "\n",
        "We are going to use Conv2D as we are using 2D images\n",
        "\n",
        "**Important Paramaters:**\n",
        "- filters: the Number of filters to learn\n",
        "- kernal_size: the dimentionsof the kernals to use\n",
        "- activation\n",
        "- strides: how much to move the filter\n",
        "- padding: what to do with the edges\n"
      ]
    },
    {
      "cell_type": "code",
      "execution_count": null,
      "metadata": {
        "id": "pkc4p9ZxH2Mp"
      },
      "outputs": [],
      "source": [
        "from tensorflow.keras.models import Sequential\n",
        "from tensorflow.keras.layers import Dense, Conv2D, Flatten\n",
        "#create model\n",
        "model = Sequential()\n",
        "#add model layers\n",
        "model.add(Conv2D(64, (3, 3), activation='relu', strides=(1, 1), padding='valid', input_shape=(28,28,1))) # What is this 1 at the end of the input shape?\n",
        "model.add(Conv2D(32, (3, 3), activation='relu', strides=(1, 1), padding='valid'))\n",
        "model.add(Conv2D(16, (3, 3), activation='relu', strides=(1, 1), padding='valid'))\n",
        "model.add(Flatten())\n",
        "model.add(Dense(256, activation='relu'))\n",
        "model.add(Dense(128, activation='relu'))\n",
        "model.add(Dense(64, activation='relu'))\n",
        "model.add(Dense(64, activation='relu'))\n",
        "model.add(Dense(10, activation='softmax'))\n",
        "\n",
        "model.summary()"
      ]
    },
    {
      "cell_type": "code",
      "execution_count": null,
      "metadata": {
        "id": "KBK13J18Ucnl"
      },
      "outputs": [],
      "source": [
        "# we have to expand the dimentions of the input matrix to show the color channel\n",
        "x_train_conv = x_train.reshape(-1, x_train.shape[1], x_train.shape[2], 1)\n",
        "x_test_conv = x_test.reshape(-1, x_test.shape[1], x_test.shape[2], 1)\n",
        "x_test_shifted_conv = x_test_shifted.reshape(-1, x_test_shifted.shape[1], x_test_shifted.shape[2], 1)"
      ]
    },
    {
      "cell_type": "code",
      "execution_count": null,
      "metadata": {
        "id": "rn5bwiCyUcnl"
      },
      "outputs": [],
      "source": [
        "x_train_conv.astype('float32')\n",
        "x_test_conv.astype('float32')\n",
        "\n",
        "print(x_train_conv.shape)\n",
        "print(x_test_conv.shape)"
      ]
    },
    {
      "cell_type": "code",
      "execution_count": null,
      "metadata": {
        "id": "C7BJK11vIkl5"
      },
      "outputs": [],
      "source": [
        "#compile model using accuracy to measure model performance\n",
        "model.compile(optimizer='adam', loss='categorical_crossentropy', metrics=['accuracy'])\n",
        "#train the model\n",
        "history = model.fit(x_train_conv, y_train_encoded, epochs=epochs, batch_size=batch_size)"
      ]
    },
    {
      "cell_type": "code",
      "execution_count": null,
      "metadata": {
        "id": "gHpPBU5qUcnm"
      },
      "outputs": [],
      "source": [
        "from sklearn.metrics import accuracy_score, f1_score\n",
        "\n",
        "# Predict everything in one go\n",
        "predictions = model.predict(x_test_conv)\n",
        "\n",
        "# Convert predictions into a more human friendly format\n",
        "predictions = np.array([np.argmax(n) for n in predictions])\n",
        "\n",
        "# To calculate accuracy and F1 Score\n",
        "print('Original Data')\n",
        "print('Accuracy:', accuracy_score(y_test, predictions))\n",
        "print('F1 Score:', f1_score(y_test, predictions, average='macro'))"
      ]
    },
    {
      "cell_type": "code",
      "execution_count": null,
      "metadata": {
        "id": "kzDSUB6bUcnm"
      },
      "outputs": [],
      "source": [
        "# For Shifted Data\n",
        "from sklearn.metrics import accuracy_score, f1_score\n",
        "\n",
        "# Predict everything in one go\n",
        "predictions = model.predict(x_test_shifted_conv)\n",
        "\n",
        "# Convert predictions into a more human friendly format\n",
        "predictions = np.array([np.argmax(n) for n in predictions])\n",
        "\n",
        "# To calculate accuracy and F1 Score\n",
        "print('Shifted Data')\n",
        "print('Accuracy:', accuracy_score(y_test, predictions))\n",
        "print('F1 Score:', f1_score(y_test, predictions, average='macro'))"
      ]
    },
    {
      "cell_type": "markdown",
      "metadata": {
        "id": "mF2yktpZUcnn"
      },
      "source": [
        "### The accuracy for the shifted dataset is lower than one would expect. Why is that?"
      ]
    },
    {
      "cell_type": "code",
      "execution_count": null,
      "metadata": {
        "id": "QcCwrbMIUcnn"
      },
      "outputs": [],
      "source": [
        "##### from tensorflow.keras import Input, Model\n",
        "from tensorflow.keras.layers import concatenate, Dropout, MaxPool2D\n",
        "\n",
        "inputs = Input(shape=(28,28,1))\n",
        "\n",
        "path1 = Flatten()(inputs)\n",
        "path1 = Dense(512, activation='relu')(path1)\n",
        "path1 = Dense(256, activation='relu')(path1)\n",
        "path1 = Dense(128, activation='relu')(path1)\n",
        "\n",
        "path2 = Conv2D(64, (3, 3), activation='relu', strides=(1, 1), padding='valid')(inputs)\n",
        "path2 = MaxPool2D()(path2)\n",
        "path2 = Conv2D(32, (3, 3), activation='relu', strides=(1, 1), padding='valid')(path2)\n",
        "path2 = MaxPool2D()(path2)\n",
        "path2 = Conv2D(16, (3, 3), activation='relu', strides=(1, 1), padding='valid')(path2)\n",
        "path2 = Flatten()(path2)\n",
        "\n",
        "combined = concatenate([path1, path2])\n",
        "end = Dense(128, activation='relu')(combined)\n",
        "end = Dropout(0.4)(end)\n",
        "outputs = Dense(10, activation='softmax')(end)\n",
        "\n",
        "model = Model(inputs=inputs, outputs=outputs, name=\"functional_api_1\")\n",
        "# This is not a good way to visualize this Model\n",
        "model.summary()"
      ]
    },
    {
      "cell_type": "code",
      "execution_count": null,
      "metadata": {
        "id": "j3Ny7eovUcnn"
      },
      "outputs": [],
      "source": [
        "from tensorflow.keras.utils import plot_model\n",
        "\n",
        "plot_model(model, show_shapes=True)"
      ]
    },
    {
      "cell_type": "code",
      "execution_count": null,
      "metadata": {
        "id": "DevoftZDUcno"
      },
      "outputs": [],
      "source": [
        "#compile model using accuracy to measure model performance\n",
        "model.compile(optimizer='adam', loss='categorical_crossentropy', metrics=['accuracy'])\n",
        "#train the model\n",
        "history = model.fit(x_train_conv, y_train_encoded, epochs=epochs, batch_size=batch_size)"
      ]
    },
    {
      "cell_type": "code",
      "execution_count": null,
      "metadata": {
        "id": "W87p6RkxUcno"
      },
      "outputs": [],
      "source": [
        "from sklearn.metrics import accuracy_score, f1_score\n",
        "\n",
        "# Predict everything in one go\n",
        "predictions = model.predict(x_test_conv)\n",
        "\n",
        "# Convert predictions into a more human friendly format\n",
        "predictions = np.array([np.argmax(n) for n in predictions])\n",
        "\n",
        "# To calculate accuracy and F1 Score\n",
        "print('Original Data')\n",
        "print('Accuracy:', accuracy_score(y_test, predictions))\n",
        "print('F1 Score:', f1_score(y_test, predictions, average='macro'))"
      ]
    },
    {
      "cell_type": "code",
      "execution_count": null,
      "metadata": {
        "id": "iAT3xbSEUcno"
      },
      "outputs": [],
      "source": [
        "# For Shifted Data\n",
        "from sklearn.metrics import accuracy_score, f1_score\n",
        "\n",
        "# Predict everything in one go\n",
        "predictions = model.predict(x_test_shifted_conv)\n",
        "\n",
        "# Convert predictions into a more human friendly format\n",
        "predictions = np.array([np.argmax(n) for n in predictions])\n",
        "\n",
        "# To calculate accuracy and F1 Score\n",
        "print('Shifted Data')\n",
        "print('Accuracy:', accuracy_score(y_test, predictions))\n",
        "print('F1 Score:', f1_score(y_test, predictions, average='macro'))"
      ]
    },
    {
      "cell_type": "code",
      "execution_count": null,
      "metadata": {
        "id": "Ka4tvICDUcnp"
      },
      "outputs": [],
      "source": []
    }
  ],
  "metadata": {
    "accelerator": "GPU",
    "colab": {
      "collapsed_sections": [
        "FRKAFArrUcnX",
        "tTJiGpNLUcnY",
        "dw9_dDi9UcnZ",
        "aGVoLP7EpxYQ",
        "VVbF5Bfasvm2",
        "Q7ZtcilNtf1L",
        "pLYdpM11Ucnf"
      ],
      "name": "tensorflow_part1.ipynb",
      "provenance": []
    },
    "kernelspec": {
      "display_name": "Python 3",
      "language": "python",
      "name": "python3"
    },
    "language_info": {
      "codemirror_mode": {
        "name": "ipython",
        "version": 3
      },
      "file_extension": ".py",
      "mimetype": "text/x-python",
      "name": "python",
      "nbconvert_exporter": "python",
      "pygments_lexer": "ipython3",
      "version": "3.7.6"
    }
  },
  "nbformat": 4,
  "nbformat_minor": 0
}
