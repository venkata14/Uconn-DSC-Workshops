{
  "nbformat": 4,
  "nbformat_minor": 0,
  "metadata": {
    "colab": {
      "name": "tf_hands_on.ipynb",
      "provenance": []
    },
    "kernelspec": {
      "name": "python3",
      "display_name": "Python 3"
    },
    "language_info": {
      "name": "python"
    }
  },
  "cells": [
    {
      "cell_type": "code",
      "execution_count": null,
      "metadata": {
        "id": "rp0lgTdt9HeI"
      },
      "outputs": [],
      "source": [
        "import tensorflow as tf\n",
        "from tensorflow import keras\n",
        "from keras.layers import Dense, Dropout\n",
        "from sklearn.metrics import accuracy_score\n",
        "from keras import metrics\n",
        "import pandas as pd\n",
        "import random\n",
        "from sklearn.model_selection import train_test_split\n",
        "from sklearn.preprocessing import StandardScaler\n",
        "import matplotlib.pyplot as plt\n",
        "import warnings\n",
        "warnings.filterwarnings('ignore')"
      ]
    },
    {
      "cell_type": "markdown",
      "source": [
        "#Create Data\n",
        "\n",
        "x, y, z, and w are the features and \"a\" is what we want to predict. You can think of this as a logistic regression senario in which we want to predict a yes(1) or a no(0)."
      ],
      "metadata": {
        "id": "unYc1DwwitNB"
      }
    },
    {
      "cell_type": "code",
      "source": [
        "random.seed(100)\n",
        "x = random.choices(list(range(10, 30)), k=150)\n",
        "y = random.choices(list(range(23, 90)), k=150)\n",
        "z = random.choices(list(range(0, 10)), k=150)\n",
        "w = random.choices(list(range(25, 50)), k=150)\n",
        "a = random.choices(list(range(0, 2)), k=150)\n",
        "d = dict()\n",
        "d[\"Number of push ups\"] = x\n",
        "d[\"Number of hot dogs eaten per second\"] = y\n",
        "d[\"Age\"] = z\n",
        "d[\"Number of years in college\"] = w\n",
        "d[\"Have TikTok\"] = a\n",
        "\n",
        "df = pd.DataFrame(data=d)\n",
        "\n",
        "df.head(10)"
      ],
      "metadata": {
        "id": "lYSYrjpmAvK4"
      },
      "execution_count": null,
      "outputs": []
    },
    {
      "cell_type": "markdown",
      "source": [
        "###Here the data is being split into a train and test datasets. Dont worry too much about this. But if the code below looks unfamiliar please ask, we have covered them in previous sessions. "
      ],
      "metadata": {
        "id": "cr0uSCufkIIg"
      }
    },
    {
      "cell_type": "code",
      "source": [
        "X = df.iloc[:, [0,1,2,3]]\n",
        "vals = df.iloc[:,-1]"
      ],
      "metadata": {
        "id": "P8rzyZsufkyw"
      },
      "execution_count": null,
      "outputs": []
    },
    {
      "cell_type": "code",
      "source": [
        "X_train, X_test, y_train, y_test = train_test_split(X, vals, test_size = 0.2, random_state = 0)"
      ],
      "metadata": {
        "id": "pVIVmHIQf0n7"
      },
      "execution_count": null,
      "outputs": []
    },
    {
      "cell_type": "code",
      "source": [
        "sc = StandardScaler()\n",
        "X_train = sc.fit_transform(X_train)\n",
        "X_test = sc.transform(X_test)"
      ],
      "metadata": {
        "id": "LQflQt7BgOdz"
      },
      "execution_count": null,
      "outputs": []
    },
    {
      "cell_type": "markdown",
      "source": [
        "#Create a model that has the following architecture\n",
        "\n",
        "Dense(100) -> Dropout(0.25) -> Dense(50) -> Dense(50) -> Dropout(0.5) > Dense(1)\n",
        "\n",
        "All Dense Layers use the \"relu\" activation function and the last one uses a \"sigmoid\" function"
      ],
      "metadata": {
        "id": "od0AtEdH9IBy"
      }
    },
    {
      "cell_type": "code",
      "source": [
        "ann = tf.keras.models.Sequential()\n",
        "ann.add(Dense(units=100, activation='relu'))\n",
        "ann.add(Dropout(0.25))\n",
        "#add the rest of the layers"
      ],
      "metadata": {
        "id": "S_qmfKmchZYN"
      },
      "execution_count": null,
      "outputs": []
    },
    {
      "cell_type": "markdown",
      "source": [
        "##Comple the model with the following paramters\n",
        "\n",
        "optimizer = 'adam'\n",
        "<br>\n",
        "loss = 'binary_crossentropy'\n",
        "<br>\n",
        "metrics = 'accuracy'"
      ],
      "metadata": {
        "id": "qnXVOwsKllnE"
      }
    },
    {
      "cell_type": "code",
      "source": [
        "ann.compile(#add code/parameters here)"
      ],
      "metadata": {
        "id": "ehXR5UvdlNh4"
      },
      "execution_count": null,
      "outputs": []
    },
    {
      "cell_type": "markdown",
      "source": [
        "##Train the model\n",
        "\n",
        "Use these parameters and the training datasets:\n",
        "\n",
        " batch_size = 32\n",
        " epochs = 650"
      ],
      "metadata": {
        "id": "lBmnbl0ol2KO"
      }
    },
    {
      "cell_type": "code",
      "source": [
        "history = ann.fit(#add training data and batch_size and epochs parameters)"
      ],
      "metadata": {
        "id": "J2-lsw63lUmY"
      },
      "execution_count": null,
      "outputs": []
    },
    {
      "cell_type": "markdown",
      "source": [
        "#Visualize the Epochs\n",
        "\n",
        "Is this what you would expect?\n",
        "\n",
        "The [History](https://www.tensorflow.org/api_docs/python/tf/keras/callbacks/History) object gets returned by the fit method of models and stores fit data in a dictionary. Run ```history.history``` to see it!"
      ],
      "metadata": {
        "id": "V_Y4xhI0mH-q"
      }
    },
    {
      "cell_type": "code",
      "source": [
        "plt.plot(history.history[\"accuracy\"])\n",
        "plt.show()"
      ],
      "metadata": {
        "id": "QUHlAcE9hq1r"
      },
      "execution_count": null,
      "outputs": []
    },
    {
      "cell_type": "code",
      "source": [
        "plt.plot(history.history[\"loss\"])\n",
        "plt.show()"
      ],
      "metadata": {
        "id": "zYKlRxOZipkP"
      },
      "execution_count": null,
      "outputs": []
    },
    {
      "cell_type": "markdown",
      "source": [
        "#Make a prediction\n",
        "\n",
        "If you run this cell it won't work. Why? Try to see if you can if out why in the documentation!"
      ],
      "metadata": {
        "id": "YOaPyYQHmOA9"
      }
    },
    {
      "cell_type": "code",
      "source": [
        "x1 = random.choices(range(10, 30), k=1)[0]\n",
        "y1 = random.choices(range(23, 90), k=1)[0]\n",
        "z1 = random.choices(range(0, 10), k=1)[0]\n",
        "w1 = random.choices(range(25, 50), k=1)[0]\n",
        "\n",
        "a_hat = ann.predict(sc.transform([x1, y1, z1, w1]))\n",
        "print(a_hat)\n",
        "print(f\"Given {x1}, {y1}, {z1}, and {w1}, the model predicts a to be {1 if a_hat > 0.5 else 0}\")"
      ],
      "metadata": {
        "id": "XJ2sftsBi6Hn"
      },
      "execution_count": null,
      "outputs": []
    },
    {
      "cell_type": "markdown",
      "source": [
        "#More metrics cuz y not\n",
        "\n",
        "What do you observe?"
      ],
      "metadata": {
        "id": "wJJyyuITSJi8"
      }
    },
    {
      "cell_type": "code",
      "source": [
        "y_pred = ann.predict(X_test)\n",
        "y_pred = (y_pred > 0.5)\n",
        "print(np.concatenate((np.array(y_pred).reshape(len(y_pred),1), np.array(y_test).reshape(len(y_test),1)),1))"
      ],
      "metadata": {
        "id": "9RQfgFuBSIxo"
      },
      "execution_count": null,
      "outputs": []
    },
    {
      "cell_type": "code",
      "source": [
        "cm = confusion_matrix(y_test, y_pred)\n",
        "print(cm)\n",
        "accuracy_score(y_test, y_pred)"
      ],
      "metadata": {
        "id": "2HyltYHtSTGC"
      },
      "execution_count": null,
      "outputs": []
    }
  ]
}